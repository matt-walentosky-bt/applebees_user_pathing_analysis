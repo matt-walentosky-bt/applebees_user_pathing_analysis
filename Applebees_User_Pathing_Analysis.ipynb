{
 "cells": [
  {
   "cell_type": "code",
   "execution_count": 50,
   "id": "0dea5d3e",
   "metadata": {},
   "outputs": [],
   "source": [
    "#Script created by Matt Walentosky on 2022-10-03\n",
    "#Script is designed to analyze Applebees Site traffic analysis\n",
    "#Github repo: https://github.com/matt-walentosky-bt/applebees_user_pathing_analysis"
   ]
  },
  {
   "cell_type": "code",
   "execution_count": 81,
   "id": "0c0419ec",
   "metadata": {},
   "outputs": [],
   "source": [
    "#Import desired packages\n",
    "import ga4_user_pathing\n",
    "import pandas as pd\n",
    "import os"
   ]
  },
  {
   "cell_type": "code",
   "execution_count": 82,
   "id": "ef8966e2",
   "metadata": {},
   "outputs": [],
   "source": [
    "#Parameters from Tyler Norris / Vanessa Schneider\n",
    "# Globals:\n",
    "COUNT_FIELD = 'counts' # DF fields references to aggregations value (users, sessions)\n",
    "NODE_OPACITY = .9\n",
    "LINK_OPACITY = .6\n",
    "SEP_VAL = ' > '\n",
    "KEY_PATH = '/Users/vanessaschneider/keys/dse-chase-user-pathing.json'"
   ]
  },
  {
   "cell_type": "code",
   "execution_count": 83,
   "id": "dcc94cf0",
   "metadata": {},
   "outputs": [
    {
     "data": {
      "text/plain": [
       "'/Users/mattwalentosky/Documents/General/local_repo/applebees'"
      ]
     },
     "execution_count": 83,
     "metadata": {},
     "output_type": "execute_result"
    }
   ],
   "source": [
    "#Get working directory\n",
    "os.getcwd()"
   ]
  },
  {
   "cell_type": "code",
   "execution_count": 85,
   "id": "f952a10c",
   "metadata": {},
   "outputs": [],
   "source": [
    "#Read desired document\n",
    "conversion_status = False\n",
    "\n",
    "if conversion_status == True:\n",
    "    df = pd.read_csv(\"applebees_converters_20221003.csv\")\n",
    "else:\n",
    "    df = pd.read_csv(\"applebees_nonconverters_20221003.csv\")\n",
    "    \n",
    "#Note, we can only pull fraction of data from BQ into CSV format   "
   ]
  },
  {
   "cell_type": "code",
   "execution_count": 86,
   "id": "01f01a1b",
   "metadata": {},
   "outputs": [
    {
     "name": "stdout",
     "output_type": "stream",
     "text": [
      "(47861, 3)\n",
      "----\n",
      "          journey  conversion_flg  counts\n",
      "0   PV: Home Page           False  138938\n",
      "1     PV: Entrees           False   73869\n",
      "2       PV:  Menu           False   36793\n",
      "3     PV: Sign Up           False   32495\n",
      "4  PV: Appetizers           False   21505\n"
     ]
    }
   ],
   "source": [
    "print(df.shape)\n",
    "print(\"----\")\n",
    "print(df.head())"
   ]
  },
  {
   "cell_type": "code",
   "execution_count": 87,
   "id": "e38cd963",
   "metadata": {},
   "outputs": [],
   "source": [
    "df['journey_length'] = df.apply(lambda x: len(x['journey'].split(SEP_VAL)), axis=1)"
   ]
  },
  {
   "cell_type": "code",
   "execution_count": 88,
   "id": "38051257",
   "metadata": {},
   "outputs": [
    {
     "data": {
      "text/html": [
       "<div>\n",
       "<style scoped>\n",
       "    .dataframe tbody tr th:only-of-type {\n",
       "        vertical-align: middle;\n",
       "    }\n",
       "\n",
       "    .dataframe tbody tr th {\n",
       "        vertical-align: top;\n",
       "    }\n",
       "\n",
       "    .dataframe thead th {\n",
       "        text-align: right;\n",
       "    }\n",
       "</style>\n",
       "<table border=\"1\" class=\"dataframe\">\n",
       "  <thead>\n",
       "    <tr style=\"text-align: right;\">\n",
       "      <th></th>\n",
       "      <th>counts</th>\n",
       "      <th>journey_length</th>\n",
       "    </tr>\n",
       "  </thead>\n",
       "  <tbody>\n",
       "    <tr>\n",
       "      <th>count</th>\n",
       "      <td>47861.000000</td>\n",
       "      <td>47861.000000</td>\n",
       "    </tr>\n",
       "    <tr>\n",
       "      <th>mean</th>\n",
       "      <td>14.874324</td>\n",
       "      <td>9.624851</td>\n",
       "    </tr>\n",
       "    <tr>\n",
       "      <th>std</th>\n",
       "      <td>769.399628</td>\n",
       "      <td>6.255834</td>\n",
       "    </tr>\n",
       "    <tr>\n",
       "      <th>min</th>\n",
       "      <td>1.000000</td>\n",
       "      <td>1.000000</td>\n",
       "    </tr>\n",
       "    <tr>\n",
       "      <th>25%</th>\n",
       "      <td>1.000000</td>\n",
       "      <td>6.000000</td>\n",
       "    </tr>\n",
       "    <tr>\n",
       "      <th>50%</th>\n",
       "      <td>2.000000</td>\n",
       "      <td>8.000000</td>\n",
       "    </tr>\n",
       "    <tr>\n",
       "      <th>75%</th>\n",
       "      <td>3.000000</td>\n",
       "      <td>11.000000</td>\n",
       "    </tr>\n",
       "    <tr>\n",
       "      <th>max</th>\n",
       "      <td>138938.000000</td>\n",
       "      <td>212.000000</td>\n",
       "    </tr>\n",
       "  </tbody>\n",
       "</table>\n",
       "</div>"
      ],
      "text/plain": [
       "              counts  journey_length\n",
       "count   47861.000000    47861.000000\n",
       "mean       14.874324        9.624851\n",
       "std       769.399628        6.255834\n",
       "min         1.000000        1.000000\n",
       "25%         1.000000        6.000000\n",
       "50%         2.000000        8.000000\n",
       "75%         3.000000       11.000000\n",
       "max    138938.000000      212.000000"
      ]
     },
     "execution_count": 88,
     "metadata": {},
     "output_type": "execute_result"
    }
   ],
   "source": [
    "df.describe()"
   ]
  },
  {
   "cell_type": "code",
   "execution_count": 89,
   "id": "858686cf",
   "metadata": {},
   "outputs": [
    {
     "data": {
      "text/html": [
       "<div>\n",
       "<style scoped>\n",
       "    .dataframe tbody tr th:only-of-type {\n",
       "        vertical-align: middle;\n",
       "    }\n",
       "\n",
       "    .dataframe tbody tr th {\n",
       "        vertical-align: top;\n",
       "    }\n",
       "\n",
       "    .dataframe thead th {\n",
       "        text-align: right;\n",
       "    }\n",
       "</style>\n",
       "<table border=\"1\" class=\"dataframe\">\n",
       "  <thead>\n",
       "    <tr style=\"text-align: right;\">\n",
       "      <th></th>\n",
       "      <th>journey</th>\n",
       "      <th>conversion_flg</th>\n",
       "      <th>counts</th>\n",
       "      <th>journey_length</th>\n",
       "    </tr>\n",
       "  </thead>\n",
       "  <tbody>\n",
       "    <tr>\n",
       "      <th>0</th>\n",
       "      <td>PV: Home Page</td>\n",
       "      <td>False</td>\n",
       "      <td>138938</td>\n",
       "      <td>1</td>\n",
       "    </tr>\n",
       "    <tr>\n",
       "      <th>1</th>\n",
       "      <td>PV: Entrees</td>\n",
       "      <td>False</td>\n",
       "      <td>73869</td>\n",
       "      <td>1</td>\n",
       "    </tr>\n",
       "    <tr>\n",
       "      <th>2</th>\n",
       "      <td>PV:  Menu</td>\n",
       "      <td>False</td>\n",
       "      <td>36793</td>\n",
       "      <td>1</td>\n",
       "    </tr>\n",
       "    <tr>\n",
       "      <th>3</th>\n",
       "      <td>PV: Sign Up</td>\n",
       "      <td>False</td>\n",
       "      <td>32495</td>\n",
       "      <td>1</td>\n",
       "    </tr>\n",
       "    <tr>\n",
       "      <th>4</th>\n",
       "      <td>PV: Appetizers</td>\n",
       "      <td>False</td>\n",
       "      <td>21505</td>\n",
       "      <td>1</td>\n",
       "    </tr>\n",
       "    <tr>\n",
       "      <th>5</th>\n",
       "      <td>PV:  Menu &gt; PV: Entrees</td>\n",
       "      <td>False</td>\n",
       "      <td>10293</td>\n",
       "      <td>2</td>\n",
       "    </tr>\n",
       "    <tr>\n",
       "      <th>6</th>\n",
       "      <td>PV: Appetizers &gt; PV: Entrees</td>\n",
       "      <td>False</td>\n",
       "      <td>9841</td>\n",
       "      <td>2</td>\n",
       "    </tr>\n",
       "    <tr>\n",
       "      <th>7</th>\n",
       "      <td>PV: Entrees &gt; PV:  Menu</td>\n",
       "      <td>False</td>\n",
       "      <td>8911</td>\n",
       "      <td>2</td>\n",
       "    </tr>\n",
       "    <tr>\n",
       "      <th>8</th>\n",
       "      <td>PV: Entrees &gt; PV:  Menu &gt; PV: Entrees</td>\n",
       "      <td>False</td>\n",
       "      <td>7989</td>\n",
       "      <td>3</td>\n",
       "    </tr>\n",
       "    <tr>\n",
       "      <th>9</th>\n",
       "      <td>Page View: Offers</td>\n",
       "      <td>False</td>\n",
       "      <td>7476</td>\n",
       "      <td>1</td>\n",
       "    </tr>\n",
       "    <tr>\n",
       "      <th>10</th>\n",
       "      <td>PV: Gift Cards</td>\n",
       "      <td>False</td>\n",
       "      <td>5096</td>\n",
       "      <td>1</td>\n",
       "    </tr>\n",
       "    <tr>\n",
       "      <th>11</th>\n",
       "      <td>PV:  Menu &gt; PV: Home Page</td>\n",
       "      <td>False</td>\n",
       "      <td>4670</td>\n",
       "      <td>2</td>\n",
       "    </tr>\n",
       "    <tr>\n",
       "      <th>12</th>\n",
       "      <td>PV:  Menu &gt; PV: Appetizers &gt; PV: Entrees</td>\n",
       "      <td>False</td>\n",
       "      <td>4442</td>\n",
       "      <td>3</td>\n",
       "    </tr>\n",
       "    <tr>\n",
       "      <th>13</th>\n",
       "      <td>PV: Home Page &gt; PV:  Menu</td>\n",
       "      <td>False</td>\n",
       "      <td>4273</td>\n",
       "      <td>2</td>\n",
       "    </tr>\n",
       "    <tr>\n",
       "      <th>14</th>\n",
       "      <td>PV: Nutrition</td>\n",
       "      <td>False</td>\n",
       "      <td>4141</td>\n",
       "      <td>1</td>\n",
       "    </tr>\n",
       "    <tr>\n",
       "      <th>15</th>\n",
       "      <td>PV: Order Method</td>\n",
       "      <td>False</td>\n",
       "      <td>3980</td>\n",
       "      <td>1</td>\n",
       "    </tr>\n",
       "    <tr>\n",
       "      <th>16</th>\n",
       "      <td>PV: Entrees &gt; PV: Appetizers &gt; PV: Entrees</td>\n",
       "      <td>False</td>\n",
       "      <td>3947</td>\n",
       "      <td>3</td>\n",
       "    </tr>\n",
       "    <tr>\n",
       "      <th>17</th>\n",
       "      <td>PV: Home Page &gt; PV: Entrees</td>\n",
       "      <td>False</td>\n",
       "      <td>3721</td>\n",
       "      <td>2</td>\n",
       "    </tr>\n",
       "    <tr>\n",
       "      <th>18</th>\n",
       "      <td>PV: Dessert</td>\n",
       "      <td>False</td>\n",
       "      <td>3433</td>\n",
       "      <td>1</td>\n",
       "    </tr>\n",
       "    <tr>\n",
       "      <th>19</th>\n",
       "      <td>PV: Entrees &gt; PV: Appetizers</td>\n",
       "      <td>False</td>\n",
       "      <td>3403</td>\n",
       "      <td>2</td>\n",
       "    </tr>\n",
       "    <tr>\n",
       "      <th>20</th>\n",
       "      <td>PV:  Menu &gt; PV: Appetizers</td>\n",
       "      <td>False</td>\n",
       "      <td>3322</td>\n",
       "      <td>2</td>\n",
       "    </tr>\n",
       "  </tbody>\n",
       "</table>\n",
       "</div>"
      ],
      "text/plain": [
       "                                       journey  conversion_flg  counts  \\\n",
       "0                                PV: Home Page           False  138938   \n",
       "1                                  PV: Entrees           False   73869   \n",
       "2                                    PV:  Menu           False   36793   \n",
       "3                                  PV: Sign Up           False   32495   \n",
       "4                               PV: Appetizers           False   21505   \n",
       "5                      PV:  Menu > PV: Entrees           False   10293   \n",
       "6                 PV: Appetizers > PV: Entrees           False    9841   \n",
       "7                      PV: Entrees > PV:  Menu           False    8911   \n",
       "8        PV: Entrees > PV:  Menu > PV: Entrees           False    7989   \n",
       "9                            Page View: Offers           False    7476   \n",
       "10                              PV: Gift Cards           False    5096   \n",
       "11                   PV:  Menu > PV: Home Page           False    4670   \n",
       "12    PV:  Menu > PV: Appetizers > PV: Entrees           False    4442   \n",
       "13                   PV: Home Page > PV:  Menu           False    4273   \n",
       "14                               PV: Nutrition           False    4141   \n",
       "15                            PV: Order Method           False    3980   \n",
       "16  PV: Entrees > PV: Appetizers > PV: Entrees           False    3947   \n",
       "17                 PV: Home Page > PV: Entrees           False    3721   \n",
       "18                                 PV: Dessert           False    3433   \n",
       "19                PV: Entrees > PV: Appetizers           False    3403   \n",
       "20                  PV:  Menu > PV: Appetizers           False    3322   \n",
       "\n",
       "    journey_length  \n",
       "0                1  \n",
       "1                1  \n",
       "2                1  \n",
       "3                1  \n",
       "4                1  \n",
       "5                2  \n",
       "6                2  \n",
       "7                2  \n",
       "8                3  \n",
       "9                1  \n",
       "10               1  \n",
       "11               2  \n",
       "12               3  \n",
       "13               2  \n",
       "14               1  \n",
       "15               1  \n",
       "16               3  \n",
       "17               2  \n",
       "18               1  \n",
       "19               2  \n",
       "20               2  "
      ]
     },
     "execution_count": 89,
     "metadata": {},
     "output_type": "execute_result"
    }
   ],
   "source": [
    "df.head(21)"
   ]
  },
  {
   "cell_type": "code",
   "execution_count": 90,
   "id": "378e7e59",
   "metadata": {},
   "outputs": [
    {
     "data": {
      "text/plain": [
       "<AxesSubplot:>"
      ]
     },
     "execution_count": 90,
     "metadata": {},
     "output_type": "execute_result"
    },
    {
     "data": {
      "image/png": "[encoded data removed]",
      "text/plain": [
       "<Figure size 432x288 with 1 Axes>"
      ]
     },
     "metadata": {
      "needs_background": "light"
     },
     "output_type": "display_data"
    }
   ],
   "source": [
    "# Change min journey lenght and number of bins to further explore\n",
    "df[df['journey_length'] > 0]['journey_length'].hist(bins=8)"
   ]
  },
  {
   "cell_type": "code",
   "execution_count": 91,
   "id": "b3f21401",
   "metadata": {},
   "outputs": [
    {
     "data": {
      "text/plain": [
       "<AxesSubplot:>"
      ]
     },
     "execution_count": 91,
     "metadata": {},
     "output_type": "execute_result"
    },
    {
     "data": {
      "image/png": "[encoded data removed]",
      "text/plain": [
       "<Figure size 432x288 with 1 Axes>"
      ]
     },
     "metadata": {
      "needs_background": "light"
     },
     "output_type": "display_data"
    }
   ],
   "source": [
    "df[df['journey_length'] > 1]['counts'].hist(bins=30)"
   ]
  },
  {
   "cell_type": "code",
   "execution_count": 92,
   "id": "ccf48692",
   "metadata": {},
   "outputs": [
    {
     "data": {
      "text/html": [
       "<div>\n",
       "<style scoped>\n",
       "    .dataframe tbody tr th:only-of-type {\n",
       "        vertical-align: middle;\n",
       "    }\n",
       "\n",
       "    .dataframe tbody tr th {\n",
       "        vertical-align: top;\n",
       "    }\n",
       "\n",
       "    .dataframe thead th {\n",
       "        text-align: right;\n",
       "    }\n",
       "</style>\n",
       "<table border=\"1\" class=\"dataframe\">\n",
       "  <thead>\n",
       "    <tr style=\"text-align: right;\">\n",
       "      <th></th>\n",
       "      <th>journey</th>\n",
       "      <th>conversion_flg</th>\n",
       "      <th>counts</th>\n",
       "      <th>journey_length</th>\n",
       "    </tr>\n",
       "  </thead>\n",
       "  <tbody>\n",
       "    <tr>\n",
       "      <th>0</th>\n",
       "      <td>PV: Home Page</td>\n",
       "      <td>False</td>\n",
       "      <td>138938</td>\n",
       "      <td>1</td>\n",
       "    </tr>\n",
       "    <tr>\n",
       "      <th>1</th>\n",
       "      <td>PV: Entrees</td>\n",
       "      <td>False</td>\n",
       "      <td>73869</td>\n",
       "      <td>1</td>\n",
       "    </tr>\n",
       "    <tr>\n",
       "      <th>2</th>\n",
       "      <td>PV:  Menu</td>\n",
       "      <td>False</td>\n",
       "      <td>36793</td>\n",
       "      <td>1</td>\n",
       "    </tr>\n",
       "    <tr>\n",
       "      <th>3</th>\n",
       "      <td>PV: Sign Up</td>\n",
       "      <td>False</td>\n",
       "      <td>32495</td>\n",
       "      <td>1</td>\n",
       "    </tr>\n",
       "    <tr>\n",
       "      <th>4</th>\n",
       "      <td>PV: Appetizers</td>\n",
       "      <td>False</td>\n",
       "      <td>21505</td>\n",
       "      <td>1</td>\n",
       "    </tr>\n",
       "    <tr>\n",
       "      <th>5</th>\n",
       "      <td>PV:  Menu &gt; PV: Entrees</td>\n",
       "      <td>False</td>\n",
       "      <td>10293</td>\n",
       "      <td>2</td>\n",
       "    </tr>\n",
       "    <tr>\n",
       "      <th>6</th>\n",
       "      <td>PV: Appetizers &gt; PV: Entrees</td>\n",
       "      <td>False</td>\n",
       "      <td>9841</td>\n",
       "      <td>2</td>\n",
       "    </tr>\n",
       "    <tr>\n",
       "      <th>7</th>\n",
       "      <td>PV: Entrees &gt; PV:  Menu</td>\n",
       "      <td>False</td>\n",
       "      <td>8911</td>\n",
       "      <td>2</td>\n",
       "    </tr>\n",
       "    <tr>\n",
       "      <th>8</th>\n",
       "      <td>PV: Entrees &gt; PV:  Menu &gt; PV: Entrees</td>\n",
       "      <td>False</td>\n",
       "      <td>7989</td>\n",
       "      <td>3</td>\n",
       "    </tr>\n",
       "    <tr>\n",
       "      <th>9</th>\n",
       "      <td>Page View: Offers</td>\n",
       "      <td>False</td>\n",
       "      <td>7476</td>\n",
       "      <td>1</td>\n",
       "    </tr>\n",
       "  </tbody>\n",
       "</table>\n",
       "</div>"
      ],
      "text/plain": [
       "                                 journey  conversion_flg  counts  \\\n",
       "0                          PV: Home Page           False  138938   \n",
       "1                            PV: Entrees           False   73869   \n",
       "2                              PV:  Menu           False   36793   \n",
       "3                            PV: Sign Up           False   32495   \n",
       "4                         PV: Appetizers           False   21505   \n",
       "5                PV:  Menu > PV: Entrees           False   10293   \n",
       "6           PV: Appetizers > PV: Entrees           False    9841   \n",
       "7                PV: Entrees > PV:  Menu           False    8911   \n",
       "8  PV: Entrees > PV:  Menu > PV: Entrees           False    7989   \n",
       "9                      Page View: Offers           False    7476   \n",
       "\n",
       "   journey_length  \n",
       "0               1  \n",
       "1               1  \n",
       "2               1  \n",
       "3               1  \n",
       "4               1  \n",
       "5               2  \n",
       "6               2  \n",
       "7               2  \n",
       "8               3  \n",
       "9               1  "
      ]
     },
     "execution_count": 92,
     "metadata": {},
     "output_type": "execute_result"
    }
   ],
   "source": [
    "df.head(10)"
   ]
  },
  {
   "cell_type": "code",
   "execution_count": 93,
   "id": "c502d75e",
   "metadata": {},
   "outputs": [],
   "source": [
    "df = ga4_user_pathing.add_journey_end_string(df, journey_col='journey', conversion_column='Conversion', sep_val=' > ')\n",
    "df = ga4_user_pathing.parse_steps(df, sep_val=' > ', max_steps=5)"
   ]
  },
  {
   "cell_type": "code",
   "execution_count": 94,
   "id": "2dca428f",
   "metadata": {},
   "outputs": [
    {
     "data": {
      "text/plain": [
       "'PV: Entrees > Journey End'"
      ]
     },
     "execution_count": 94,
     "metadata": {},
     "output_type": "execute_result"
    }
   ],
   "source": [
    "df['journey'][1]"
   ]
  },
  {
   "cell_type": "code",
   "execution_count": 110,
   "id": "08ca3ca0",
   "metadata": {},
   "outputs": [
    {
     "data": {
      "text/plain": [
       "Index(['journey', 'conversion_flg', 'counts', 'journey_length', 'step_1',\n",
       "       'step_2', 'step_3', 'step_4', 'step_5'],\n",
       "      dtype='object')"
      ]
     },
     "execution_count": 110,
     "metadata": {},
     "output_type": "execute_result"
    }
   ],
   "source": [
    "df_filtered.columns"
   ]
  },
  {
   "cell_type": "code",
   "execution_count": 66,
   "id": "d18195e2",
   "metadata": {},
   "outputs": [],
   "source": [
    "#df_filtered = ga4_user_pathing.remove_long_tail_jouneys(df, count_col='counts', min_path_count=10)"
   ]
  },
  {
   "cell_type": "code",
   "execution_count": 119,
   "id": "fdfe69ed",
   "metadata": {},
   "outputs": [],
   "source": [
    "df_filtered = df[(df['journey_length'] >= 6) & (df['journey_length'] <= 9)]\n",
    "df_filtered = df_filtered.sort_values('counts', ascending = False)\n",
    "df_filtered = df_filtered.iloc[0:10,:]"
   ]
  },
  {
   "cell_type": "code",
   "execution_count": 121,
   "id": "1cc5afcb",
   "metadata": {},
   "outputs": [],
   "source": [
    "df_sankey, df_index = ga4_user_pathing.generate_sankey_inputs(df_filtered, COUNT_FIELD, .9)"
   ]
  },
  {
   "cell_type": "code",
   "execution_count": 122,
   "id": "7c5b9431",
   "metadata": {},
   "outputs": [
    {
     "data": {
      "text/html": [
       "<div>\n",
       "<style scoped>\n",
       "    .dataframe tbody tr th:only-of-type {\n",
       "        vertical-align: middle;\n",
       "    }\n",
       "\n",
       "    .dataframe tbody tr th {\n",
       "        vertical-align: top;\n",
       "    }\n",
       "\n",
       "    .dataframe thead th {\n",
       "        text-align: right;\n",
       "    }\n",
       "</style>\n",
       "<table border=\"1\" class=\"dataframe\">\n",
       "  <thead>\n",
       "    <tr style=\"text-align: right;\">\n",
       "      <th></th>\n",
       "      <th>source</th>\n",
       "      <th>target</th>\n",
       "      <th>counts</th>\n",
       "      <th>source_index</th>\n",
       "      <th>color</th>\n",
       "      <th>target_index</th>\n",
       "    </tr>\n",
       "  </thead>\n",
       "  <tbody>\n",
       "    <tr>\n",
       "      <th>0</th>\n",
       "      <td>PV:  Menu</td>\n",
       "      <td>PV: Appetizers</td>\n",
       "      <td>1048</td>\n",
       "      <td>2</td>\n",
       "      <td>rgba(45, 27, 181, 0.9)</td>\n",
       "      <td>0</td>\n",
       "    </tr>\n",
       "    <tr>\n",
       "      <th>1</th>\n",
       "      <td>PV:  Menu</td>\n",
       "      <td>PV: Drinks</td>\n",
       "      <td>319</td>\n",
       "      <td>2</td>\n",
       "      <td>rgba(45, 27, 181, 0.9)</td>\n",
       "      <td>5</td>\n",
       "    </tr>\n",
       "    <tr>\n",
       "      <th>2</th>\n",
       "      <td>PV:  Menu</td>\n",
       "      <td>PV: Entrees</td>\n",
       "      <td>546</td>\n",
       "      <td>2</td>\n",
       "      <td>rgba(45, 27, 181, 0.9)</td>\n",
       "      <td>1</td>\n",
       "    </tr>\n",
       "    <tr>\n",
       "      <th>3</th>\n",
       "      <td>PV:  Menu</td>\n",
       "      <td>PV: Home Page</td>\n",
       "      <td>391</td>\n",
       "      <td>2</td>\n",
       "      <td>rgba(45, 27, 181, 0.9)</td>\n",
       "      <td>3</td>\n",
       "    </tr>\n",
       "    <tr>\n",
       "      <th>4</th>\n",
       "      <td>PV: Appetizers</td>\n",
       "      <td>PV: Entrees</td>\n",
       "      <td>2194</td>\n",
       "      <td>0</td>\n",
       "      <td>rgba(142, 140, 153, 0.9)</td>\n",
       "      <td>1</td>\n",
       "    </tr>\n",
       "  </tbody>\n",
       "</table>\n",
       "</div>"
      ],
      "text/plain": [
       "           source          target  counts  source_index  \\\n",
       "0       PV:  Menu  PV: Appetizers    1048             2   \n",
       "1       PV:  Menu      PV: Drinks     319             2   \n",
       "2       PV:  Menu     PV: Entrees     546             2   \n",
       "3       PV:  Menu   PV: Home Page     391             2   \n",
       "4  PV: Appetizers     PV: Entrees    2194             0   \n",
       "\n",
       "                      color  target_index  \n",
       "0    rgba(45, 27, 181, 0.9)             0  \n",
       "1    rgba(45, 27, 181, 0.9)             5  \n",
       "2    rgba(45, 27, 181, 0.9)             1  \n",
       "3    rgba(45, 27, 181, 0.9)             3  \n",
       "4  rgba(142, 140, 153, 0.9)             1  "
      ]
     },
     "execution_count": 122,
     "metadata": {},
     "output_type": "execute_result"
    }
   ],
   "source": [
    "df_sankey.head()"
   ]
  },
  {
   "cell_type": "code",
   "execution_count": 125,
   "id": "0b17337d",
   "metadata": {},
   "outputs": [
    {
     "data": {
      "text/html": [
       "<div>\n",
       "<style scoped>\n",
       "    .dataframe tbody tr th:only-of-type {\n",
       "        vertical-align: middle;\n",
       "    }\n",
       "\n",
       "    .dataframe tbody tr th {\n",
       "        vertical-align: top;\n",
       "    }\n",
       "\n",
       "    .dataframe thead th {\n",
       "        text-align: right;\n",
       "    }\n",
       "</style>\n",
       "<table border=\"1\" class=\"dataframe\">\n",
       "  <thead>\n",
       "    <tr style=\"text-align: right;\">\n",
       "      <th></th>\n",
       "      <th>journey</th>\n",
       "      <th>conversion_flg</th>\n",
       "      <th>counts</th>\n",
       "      <th>journey_length</th>\n",
       "      <th>step_1</th>\n",
       "      <th>step_2</th>\n",
       "      <th>step_3</th>\n",
       "      <th>step_4</th>\n",
       "      <th>step_5</th>\n",
       "    </tr>\n",
       "  </thead>\n",
       "  <tbody>\n",
       "    <tr>\n",
       "      <th>100</th>\n",
       "      <td>PV: Home Page &gt; PV: Confirm Restaurant &gt; PV: O...</td>\n",
       "      <td>False</td>\n",
       "      <td>458</td>\n",
       "      <td>6</td>\n",
       "      <td>PV: Home Page</td>\n",
       "      <td>PV: Confirm Restaurant</td>\n",
       "      <td>PV: Order Method</td>\n",
       "      <td>PV:  Menu</td>\n",
       "      <td>PV: Appetizers</td>\n",
       "    </tr>\n",
       "    <tr>\n",
       "      <th>110</th>\n",
       "      <td>PV: Appetizers &gt; PV: Entrees &gt; PV: Kids Menu &gt;...</td>\n",
       "      <td>False</td>\n",
       "      <td>418</td>\n",
       "      <td>6</td>\n",
       "      <td>PV: Appetizers</td>\n",
       "      <td>PV: Entrees</td>\n",
       "      <td>PV: Kids Menu</td>\n",
       "      <td>Page View: Offers</td>\n",
       "      <td>PV: Drinks</td>\n",
       "    </tr>\n",
       "    <tr>\n",
       "      <th>115</th>\n",
       "      <td>PV:  Menu &gt; PV: Home Page &gt; PV: Order Method &gt;...</td>\n",
       "      <td>False</td>\n",
       "      <td>391</td>\n",
       "      <td>6</td>\n",
       "      <td>PV:  Menu</td>\n",
       "      <td>PV: Home Page</td>\n",
       "      <td>PV: Order Method</td>\n",
       "      <td>PV:  Menu</td>\n",
       "      <td>PV: Appetizers</td>\n",
       "    </tr>\n",
       "    <tr>\n",
       "      <th>130</th>\n",
       "      <td>PV:  Menu &gt; PV: Entrees &gt; PV: Appetizers &gt; PV:...</td>\n",
       "      <td>False</td>\n",
       "      <td>338</td>\n",
       "      <td>6</td>\n",
       "      <td>PV:  Menu</td>\n",
       "      <td>PV: Entrees</td>\n",
       "      <td>PV: Appetizers</td>\n",
       "      <td>PV: Entrees</td>\n",
       "      <td>PV: Appetizers</td>\n",
       "    </tr>\n",
       "    <tr>\n",
       "      <th>141</th>\n",
       "      <td>PV: Home Page &gt; PV: Order Method &gt; PV:  Menu &gt;...</td>\n",
       "      <td>False</td>\n",
       "      <td>319</td>\n",
       "      <td>6</td>\n",
       "      <td>PV: Home Page</td>\n",
       "      <td>PV: Order Method</td>\n",
       "      <td>PV:  Menu</td>\n",
       "      <td>PV: Drinks</td>\n",
       "      <td>PV: Appetizers</td>\n",
       "    </tr>\n",
       "    <tr>\n",
       "      <th>146</th>\n",
       "      <td>PV: Appetizers &gt; PV: Entrees &gt; PV: Appetizers ...</td>\n",
       "      <td>False</td>\n",
       "      <td>301</td>\n",
       "      <td>6</td>\n",
       "      <td>PV: Appetizers</td>\n",
       "      <td>PV: Entrees</td>\n",
       "      <td>PV: Appetizers</td>\n",
       "      <td>PV: Entrees</td>\n",
       "      <td>PV: Appetizers</td>\n",
       "    </tr>\n",
       "    <tr>\n",
       "      <th>176</th>\n",
       "      <td>PV: Appetizers &gt; PV: Entrees &gt; PV: Kids Menu &gt;...</td>\n",
       "      <td>False</td>\n",
       "      <td>233</td>\n",
       "      <td>6</td>\n",
       "      <td>PV: Appetizers</td>\n",
       "      <td>PV: Entrees</td>\n",
       "      <td>PV: Kids Menu</td>\n",
       "      <td>PV: Entrees</td>\n",
       "      <td>PV: Appetizers</td>\n",
       "    </tr>\n",
       "    <tr>\n",
       "      <th>202</th>\n",
       "      <td>PV: Home Page &gt; PV: Order Method &gt; PV:  Menu &gt;...</td>\n",
       "      <td>False</td>\n",
       "      <td>208</td>\n",
       "      <td>6</td>\n",
       "      <td>PV: Home Page</td>\n",
       "      <td>PV: Order Method</td>\n",
       "      <td>PV:  Menu</td>\n",
       "      <td>PV: Entrees</td>\n",
       "      <td>PV: Appetizers</td>\n",
       "    </tr>\n",
       "    <tr>\n",
       "      <th>210</th>\n",
       "      <td>PV: Entrees &gt; PV: Appetizers &gt; PV: Entrees &gt; P...</td>\n",
       "      <td>False</td>\n",
       "      <td>202</td>\n",
       "      <td>7</td>\n",
       "      <td>PV: Entrees</td>\n",
       "      <td>PV: Appetizers</td>\n",
       "      <td>PV: Entrees</td>\n",
       "      <td>PV: Appetizers</td>\n",
       "      <td>PV: Entrees</td>\n",
       "    </tr>\n",
       "    <tr>\n",
       "      <th>214</th>\n",
       "      <td>PV:  Menu &gt; PV: Appetizers &gt; PV: Entrees &gt; PV:...</td>\n",
       "      <td>False</td>\n",
       "      <td>199</td>\n",
       "      <td>6</td>\n",
       "      <td>PV:  Menu</td>\n",
       "      <td>PV: Appetizers</td>\n",
       "      <td>PV: Entrees</td>\n",
       "      <td>PV: Kids Menu</td>\n",
       "      <td>PV: Drinks</td>\n",
       "    </tr>\n",
       "  </tbody>\n",
       "</table>\n",
       "</div>"
      ],
      "text/plain": [
       "                                               journey  conversion_flg  \\\n",
       "100  PV: Home Page > PV: Confirm Restaurant > PV: O...           False   \n",
       "110  PV: Appetizers > PV: Entrees > PV: Kids Menu >...           False   \n",
       "115  PV:  Menu > PV: Home Page > PV: Order Method >...           False   \n",
       "130  PV:  Menu > PV: Entrees > PV: Appetizers > PV:...           False   \n",
       "141  PV: Home Page > PV: Order Method > PV:  Menu >...           False   \n",
       "146  PV: Appetizers > PV: Entrees > PV: Appetizers ...           False   \n",
       "176  PV: Appetizers > PV: Entrees > PV: Kids Menu >...           False   \n",
       "202  PV: Home Page > PV: Order Method > PV:  Menu >...           False   \n",
       "210  PV: Entrees > PV: Appetizers > PV: Entrees > P...           False   \n",
       "214  PV:  Menu > PV: Appetizers > PV: Entrees > PV:...           False   \n",
       "\n",
       "     counts  journey_length          step_1                  step_2  \\\n",
       "100     458               6   PV: Home Page  PV: Confirm Restaurant   \n",
       "110     418               6  PV: Appetizers             PV: Entrees   \n",
       "115     391               6       PV:  Menu           PV: Home Page   \n",
       "130     338               6       PV:  Menu             PV: Entrees   \n",
       "141     319               6   PV: Home Page        PV: Order Method   \n",
       "146     301               6  PV: Appetizers             PV: Entrees   \n",
       "176     233               6  PV: Appetizers             PV: Entrees   \n",
       "202     208               6   PV: Home Page        PV: Order Method   \n",
       "210     202               7     PV: Entrees          PV: Appetizers   \n",
       "214     199               6       PV:  Menu          PV: Appetizers   \n",
       "\n",
       "               step_3             step_4          step_5  \n",
       "100  PV: Order Method          PV:  Menu  PV: Appetizers  \n",
       "110     PV: Kids Menu  Page View: Offers      PV: Drinks  \n",
       "115  PV: Order Method          PV:  Menu  PV: Appetizers  \n",
       "130    PV: Appetizers        PV: Entrees  PV: Appetizers  \n",
       "141         PV:  Menu         PV: Drinks  PV: Appetizers  \n",
       "146    PV: Appetizers        PV: Entrees  PV: Appetizers  \n",
       "176     PV: Kids Menu        PV: Entrees  PV: Appetizers  \n",
       "202         PV:  Menu        PV: Entrees  PV: Appetizers  \n",
       "210       PV: Entrees     PV: Appetizers     PV: Entrees  \n",
       "214       PV: Entrees      PV: Kids Menu      PV: Drinks  "
      ]
     },
     "execution_count": 125,
     "metadata": {},
     "output_type": "execute_result"
    }
   ],
   "source": [
    "df_filtered"
   ]
  },
  {
   "cell_type": "code",
   "execution_count": 124,
   "id": "49eaa08a",
   "metadata": {},
   "outputs": [
    {
     "data": {
      "application/vnd.plotly.v1+json": {
       "config": {
        "plotlyServerURL": "https://plotly.com"
       },
       "data": [
        {
         "arrangement": "freeform",
         "link": {
          "color": [
           "rgba(45, 27, 181, 0.3)",
           "rgba(45, 27, 181, 0.3)",
           "rgba(45, 27, 181, 0.3)",
           "rgba(45, 27, 181, 0.3)",
           "rgba(142, 140, 153, 0.3)",
           "rgba(25, 126, 178, 0.3)",
           "rgba(142, 231, 255, 0.3)",
           "rgba(53, 41, 127, 0.3)",
           "rgba(53, 41, 127, 0.3)",
           "rgba(128, 68, 123, 0.3)",
           "rgba(128, 68, 123, 0.3)",
           "rgba(255, 177, 255, 0.3)",
           "rgba(255, 177, 255, 0.3)",
           "rgba(255, 177, 255, 0.3)",
           "rgba(244, 14, 164, 0.3)",
           "rgba(248, 97, 195, 0.3)"
          ],
          "source": [
           2,
           2,
           2,
           2,
           0,
           7,
           5,
           1,
           1,
           3,
           3,
           6,
           6,
           6,
           4,
           8
          ],
          "target": [
           0,
           5,
           1,
           3,
           1,
           4,
           0,
           0,
           6,
           7,
           4,
           5,
           1,
           8,
           2,
           5
          ],
          "value": [
           1048,
           319,
           546,
           391,
           2194,
           458,
           319,
           2123,
           850,
           458,
           918,
           199,
           233,
           418,
           1376,
           418
          ]
         },
         "node": {
          "color": [
           "rgba(142, 140, 153, 0.9)",
           "rgba(53, 41, 127, 0.9)",
           "rgba(45, 27, 181, 0.9)",
           "rgba(128, 68, 123, 0.9)",
           "rgba(244, 14, 164, 0.9)",
           "rgba(142, 231, 255, 0.9)",
           "rgba(255, 177, 255, 0.9)",
           "rgba(25, 126, 178, 0.9)",
           "rgba(248, 97, 195, 0.9)"
          ],
          "label": [
           "PV: Appetizers",
           "PV: Entrees",
           "PV:  Menu",
           "PV: Home Page",
           "PV: Order Method",
           "PV: Drinks",
           "PV: Kids Menu",
           "PV: Confirm Restaurant",
           "Page View: Offers"
          ],
          "line": {
           "color": "gray",
           "width": 0
          },
          "pad": 30,
          "thickness": 20
         },
         "type": "sankey",
         "valueformat": ".0f"
        }
       ],
       "layout": {
        "template": {
         "data": {
          "bar": [
           {
            "error_x": {
             "color": "#2a3f5f"
            },
            "error_y": {
             "color": "#2a3f5f"
            },
            "marker": {
             "line": {
              "color": "#E5ECF6",
              "width": 0.5
             },
             "pattern": {
              "fillmode": "overlay",
              "size": 10,
              "solidity": 0.2
             }
            },
            "type": "bar"
           }
          ],
          "barpolar": [
           {
            "marker": {
             "line": {
              "color": "#E5ECF6",
              "width": 0.5
             },
             "pattern": {
              "fillmode": "overlay",
              "size": 10,
              "solidity": 0.2
             }
            },
            "type": "barpolar"
           }
          ],
          "carpet": [
           {
            "aaxis": {
             "endlinecolor": "#2a3f5f",
             "gridcolor": "white",
             "linecolor": "white",
             "minorgridcolor": "white",
             "startlinecolor": "#2a3f5f"
            },
            "baxis": {
             "endlinecolor": "#2a3f5f",
             "gridcolor": "white",
             "linecolor": "white",
             "minorgridcolor": "white",
             "startlinecolor": "#2a3f5f"
            },
            "type": "carpet"
           }
          ],
          "choropleth": [
           {
            "colorbar": {
             "outlinewidth": 0,
             "ticks": ""
            },
            "type": "choropleth"
           }
          ],
          "contour": [
           {
            "colorbar": {
             "outlinewidth": 0,
             "ticks": ""
            },
            "colorscale": [
             [
              0,
              "#0d0887"
             ],
             [
              0.1111111111111111,
              "#46039f"
             ],
             [
              0.2222222222222222,
              "#7201a8"
             ],
             [
              0.3333333333333333,
              "#9c179e"
             ],
             [
              0.4444444444444444,
              "#bd3786"
             ],
             [
              0.5555555555555556,
              "#d8576b"
             ],
             [
              0.6666666666666666,
              "#ed7953"
             ],
             [
              0.7777777777777778,
              "#fb9f3a"
             ],
             [
              0.8888888888888888,
              "#fdca26"
             ],
             [
              1,
              "#f0f921"
             ]
            ],
            "type": "contour"
           }
          ],
          "contourcarpet": [
           {
            "colorbar": {
             "outlinewidth": 0,
             "ticks": ""
            },
            "type": "contourcarpet"
           }
          ],
          "heatmap": [
           {
            "colorbar": {
             "outlinewidth": 0,
             "ticks": ""
            },
            "colorscale": [
             [
              0,
              "#0d0887"
             ],
             [
              0.1111111111111111,
              "#46039f"
             ],
             [
              0.2222222222222222,
              "#7201a8"
             ],
             [
              0.3333333333333333,
              "#9c179e"
             ],
             [
              0.4444444444444444,
              "#bd3786"
             ],
             [
              0.5555555555555556,
              "#d8576b"
             ],
             [
              0.6666666666666666,
              "#ed7953"
             ],
             [
              0.7777777777777778,
              "#fb9f3a"
             ],
             [
              0.8888888888888888,
              "#fdca26"
             ],
             [
              1,
              "#f0f921"
             ]
            ],
            "type": "heatmap"
           }
          ],
          "heatmapgl": [
           {
            "colorbar": {
             "outlinewidth": 0,
             "ticks": ""
            },
            "colorscale": [
             [
              0,
              "#0d0887"
             ],
             [
              0.1111111111111111,
              "#46039f"
             ],
             [
              0.2222222222222222,
              "#7201a8"
             ],
             [
              0.3333333333333333,
              "#9c179e"
             ],
             [
              0.4444444444444444,
              "#bd3786"
             ],
             [
              0.5555555555555556,
              "#d8576b"
             ],
             [
              0.6666666666666666,
              "#ed7953"
             ],
             [
              0.7777777777777778,
              "#fb9f3a"
             ],
             [
              0.8888888888888888,
              "#fdca26"
             ],
             [
              1,
              "#f0f921"
             ]
            ],
            "type": "heatmapgl"
           }
          ],
          "histogram": [
           {
            "marker": {
             "pattern": {
              "fillmode": "overlay",
              "size": 10,
              "solidity": 0.2
             }
            },
            "type": "histogram"
           }
          ],
          "histogram2d": [
           {
            "colorbar": {
             "outlinewidth": 0,
             "ticks": ""
            },
            "colorscale": [
             [
              0,
              "#0d0887"
             ],
             [
              0.1111111111111111,
              "#46039f"
             ],
             [
              0.2222222222222222,
              "#7201a8"
             ],
             [
              0.3333333333333333,
              "#9c179e"
             ],
             [
              0.4444444444444444,
              "#bd3786"
             ],
             [
              0.5555555555555556,
              "#d8576b"
             ],
             [
              0.6666666666666666,
              "#ed7953"
             ],
             [
              0.7777777777777778,
              "#fb9f3a"
             ],
             [
              0.8888888888888888,
              "#fdca26"
             ],
             [
              1,
              "#f0f921"
             ]
            ],
            "type": "histogram2d"
           }
          ],
          "histogram2dcontour": [
           {
            "colorbar": {
             "outlinewidth": 0,
             "ticks": ""
            },
            "colorscale": [
             [
              0,
              "#0d0887"
             ],
             [
              0.1111111111111111,
              "#46039f"
             ],
             [
              0.2222222222222222,
              "#7201a8"
             ],
             [
              0.3333333333333333,
              "#9c179e"
             ],
             [
              0.4444444444444444,
              "#bd3786"
             ],
             [
              0.5555555555555556,
              "#d8576b"
             ],
             [
              0.6666666666666666,
              "#ed7953"
             ],
             [
              0.7777777777777778,
              "#fb9f3a"
             ],
             [
              0.8888888888888888,
              "#fdca26"
             ],
             [
              1,
              "#f0f921"
             ]
            ],
            "type": "histogram2dcontour"
           }
          ],
          "mesh3d": [
           {
            "colorbar": {
             "outlinewidth": 0,
             "ticks": ""
            },
            "type": "mesh3d"
           }
          ],
          "parcoords": [
           {
            "line": {
             "colorbar": {
              "outlinewidth": 0,
              "ticks": ""
             }
            },
            "type": "parcoords"
           }
          ],
          "pie": [
           {
            "automargin": true,
            "type": "pie"
           }
          ],
          "scatter": [
           {
            "marker": {
             "colorbar": {
              "outlinewidth": 0,
              "ticks": ""
             }
            },
            "type": "scatter"
           }
          ],
          "scatter3d": [
           {
            "line": {
             "colorbar": {
              "outlinewidth": 0,
              "ticks": ""
             }
            },
            "marker": {
             "colorbar": {
              "outlinewidth": 0,
              "ticks": ""
             }
            },
            "type": "scatter3d"
           }
          ],
          "scattercarpet": [
           {
            "marker": {
             "colorbar": {
              "outlinewidth": 0,
              "ticks": ""
             }
            },
            "type": "scattercarpet"
           }
          ],
          "scattergeo": [
           {
            "marker": {
             "colorbar": {
              "outlinewidth": 0,
              "ticks": ""
             }
            },
            "type": "scattergeo"
           }
          ],
          "scattergl": [
           {
            "marker": {
             "colorbar": {
              "outlinewidth": 0,
              "ticks": ""
             }
            },
            "type": "scattergl"
           }
          ],
          "scattermapbox": [
           {
            "marker": {
             "colorbar": {
              "outlinewidth": 0,
              "ticks": ""
             }
            },
            "type": "scattermapbox"
           }
          ],
          "scatterpolar": [
           {
            "marker": {
             "colorbar": {
              "outlinewidth": 0,
              "ticks": ""
             }
            },
            "type": "scatterpolar"
           }
          ],
          "scatterpolargl": [
           {
            "marker": {
             "colorbar": {
              "outlinewidth": 0,
              "ticks": ""
             }
            },
            "type": "scatterpolargl"
           }
          ],
          "scatterternary": [
           {
            "marker": {
             "colorbar": {
              "outlinewidth": 0,
              "ticks": ""
             }
            },
            "type": "scatterternary"
           }
          ],
          "surface": [
           {
            "colorbar": {
             "outlinewidth": 0,
             "ticks": ""
            },
            "colorscale": [
             [
              0,
              "#0d0887"
             ],
             [
              0.1111111111111111,
              "#46039f"
             ],
             [
              0.2222222222222222,
              "#7201a8"
             ],
             [
              0.3333333333333333,
              "#9c179e"
             ],
             [
              0.4444444444444444,
              "#bd3786"
             ],
             [
              0.5555555555555556,
              "#d8576b"
             ],
             [
              0.6666666666666666,
              "#ed7953"
             ],
             [
              0.7777777777777778,
              "#fb9f3a"
             ],
             [
              0.8888888888888888,
              "#fdca26"
             ],
             [
              1,
              "#f0f921"
             ]
            ],
            "type": "surface"
           }
          ],
          "table": [
           {
            "cells": {
             "fill": {
              "color": "#EBF0F8"
             },
             "line": {
              "color": "white"
             }
            },
            "header": {
             "fill": {
              "color": "#C8D4E3"
             },
             "line": {
              "color": "white"
             }
            },
            "type": "table"
           }
          ]
         },
         "layout": {
          "annotationdefaults": {
           "arrowcolor": "#2a3f5f",
           "arrowhead": 0,
           "arrowwidth": 1
          },
          "autotypenumbers": "strict",
          "coloraxis": {
           "colorbar": {
            "outlinewidth": 0,
            "ticks": ""
           }
          },
          "colorscale": {
           "diverging": [
            [
             0,
             "#8e0152"
            ],
            [
             0.1,
             "#c51b7d"
            ],
            [
             0.2,
             "#de77ae"
            ],
            [
             0.3,
             "#f1b6da"
            ],
            [
             0.4,
             "#fde0ef"
            ],
            [
             0.5,
             "#f7f7f7"
            ],
            [
             0.6,
             "#e6f5d0"
            ],
            [
             0.7,
             "#b8e186"
            ],
            [
             0.8,
             "#7fbc41"
            ],
            [
             0.9,
             "#4d9221"
            ],
            [
             1,
             "#276419"
            ]
           ],
           "sequential": [
            [
             0,
             "#0d0887"
            ],
            [
             0.1111111111111111,
             "#46039f"
            ],
            [
             0.2222222222222222,
             "#7201a8"
            ],
            [
             0.3333333333333333,
             "#9c179e"
            ],
            [
             0.4444444444444444,
             "#bd3786"
            ],
            [
             0.5555555555555556,
             "#d8576b"
            ],
            [
             0.6666666666666666,
             "#ed7953"
            ],
            [
             0.7777777777777778,
             "#fb9f3a"
            ],
            [
             0.8888888888888888,
             "#fdca26"
            ],
            [
             1,
             "#f0f921"
            ]
           ],
           "sequentialminus": [
            [
             0,
             "#0d0887"
            ],
            [
             0.1111111111111111,
             "#46039f"
            ],
            [
             0.2222222222222222,
             "#7201a8"
            ],
            [
             0.3333333333333333,
             "#9c179e"
            ],
            [
             0.4444444444444444,
             "#bd3786"
            ],
            [
             0.5555555555555556,
             "#d8576b"
            ],
            [
             0.6666666666666666,
             "#ed7953"
            ],
            [
             0.7777777777777778,
             "#fb9f3a"
            ],
            [
             0.8888888888888888,
             "#fdca26"
            ],
            [
             1,
             "#f0f921"
            ]
           ]
          },
          "colorway": [
           "#636efa",
           "#EF553B",
           "#00cc96",
           "#ab63fa",
           "#FFA15A",
           "#19d3f3",
           "#FF6692",
           "#B6E880",
           "#FF97FF",
           "#FECB52"
          ],
          "font": {
           "color": "#2a3f5f"
          },
          "geo": {
           "bgcolor": "white",
           "lakecolor": "white",
           "landcolor": "#E5ECF6",
           "showlakes": true,
           "showland": true,
           "subunitcolor": "white"
          },
          "hoverlabel": {
           "align": "left"
          },
          "hovermode": "closest",
          "mapbox": {
           "style": "light"
          },
          "paper_bgcolor": "white",
          "plot_bgcolor": "#E5ECF6",
          "polar": {
           "angularaxis": {
            "gridcolor": "white",
            "linecolor": "white",
            "ticks": ""
           },
           "bgcolor": "#E5ECF6",
           "radialaxis": {
            "gridcolor": "white",
            "linecolor": "white",
            "ticks": ""
           }
          },
          "scene": {
           "xaxis": {
            "backgroundcolor": "#E5ECF6",
            "gridcolor": "white",
            "gridwidth": 2,
            "linecolor": "white",
            "showbackground": true,
            "ticks": "",
            "zerolinecolor": "white"
           },
           "yaxis": {
            "backgroundcolor": "#E5ECF6",
            "gridcolor": "white",
            "gridwidth": 2,
            "linecolor": "white",
            "showbackground": true,
            "ticks": "",
            "zerolinecolor": "white"
           },
           "zaxis": {
            "backgroundcolor": "#E5ECF6",
            "gridcolor": "white",
            "gridwidth": 2,
            "linecolor": "white",
            "showbackground": true,
            "ticks": "",
            "zerolinecolor": "white"
           }
          },
          "shapedefaults": {
           "line": {
            "color": "#2a3f5f"
           }
          },
          "ternary": {
           "aaxis": {
            "gridcolor": "white",
            "linecolor": "white",
            "ticks": ""
           },
           "baxis": {
            "gridcolor": "white",
            "linecolor": "white",
            "ticks": ""
           },
           "bgcolor": "#E5ECF6",
           "caxis": {
            "gridcolor": "white",
            "linecolor": "white",
            "ticks": ""
           }
          },
          "title": {
           "x": 0.05
          },
          "xaxis": {
           "automargin": true,
           "gridcolor": "white",
           "linecolor": "white",
           "ticks": "",
           "title": {
            "standoff": 15
           },
           "zerolinecolor": "white",
           "zerolinewidth": 2
          },
          "yaxis": {
           "automargin": true,
           "gridcolor": "white",
           "linecolor": "white",
           "ticks": "",
           "title": {
            "standoff": 15
           },
           "zerolinecolor": "white",
           "zerolinewidth": 2
          }
         }
        }
       }
      },
      "text/html": [
       "<div>                            <div id=\"23400b41-63d1-40eb-8fbd-95a1a19d35e7\" class=\"plotly-graph-div\" style=\"height:525px; width:100%;\"></div>            <script type=\"text/javascript\">                require([\"plotly\"], function(Plotly) {                    window.PLOTLYENV=window.PLOTLYENV || {};                                    if (document.getElementById(\"23400b41-63d1-40eb-8fbd-95a1a19d35e7\")) {                    Plotly.newPlot(                        \"23400b41-63d1-40eb-8fbd-95a1a19d35e7\",                        [{\"arrangement\":\"freeform\",\"link\":{\"color\":[\"rgba(45, 27, 181, 0.3)\",\"rgba(45, 27, 181, 0.3)\",\"rgba(45, 27, 181, 0.3)\",\"rgba(45, 27, 181, 0.3)\",\"rgba(142, 140, 153, 0.3)\",\"rgba(25, 126, 178, 0.3)\",\"rgba(142, 231, 255, 0.3)\",\"rgba(53, 41, 127, 0.3)\",\"rgba(53, 41, 127, 0.3)\",\"rgba(128, 68, 123, 0.3)\",\"rgba(128, 68, 123, 0.3)\",\"rgba(255, 177, 255, 0.3)\",\"rgba(255, 177, 255, 0.3)\",\"rgba(255, 177, 255, 0.3)\",\"rgba(244, 14, 164, 0.3)\",\"rgba(248, 97, 195, 0.3)\"],\"source\":[2,2,2,2,0,7,5,1,1,3,3,6,6,6,4,8],\"target\":[0,5,1,3,1,4,0,0,6,7,4,5,1,8,2,5],\"value\":[1048,319,546,391,2194,458,319,2123,850,458,918,199,233,418,1376,418]},\"node\":{\"color\":[\"rgba(142, 140, 153, 0.9)\",\"rgba(53, 41, 127, 0.9)\",\"rgba(45, 27, 181, 0.9)\",\"rgba(128, 68, 123, 0.9)\",\"rgba(244, 14, 164, 0.9)\",\"rgba(142, 231, 255, 0.9)\",\"rgba(255, 177, 255, 0.9)\",\"rgba(25, 126, 178, 0.9)\",\"rgba(248, 97, 195, 0.9)\"],\"label\":[\"PV: Appetizers\",\"PV: Entrees\",\"PV:  Menu\",\"PV: Home Page\",\"PV: Order Method\",\"PV: Drinks\",\"PV: Kids Menu\",\"PV: Confirm Restaurant\",\"Page View: Offers\"],\"line\":{\"color\":\"gray\",\"width\":0},\"pad\":30,\"thickness\":20},\"valueformat\":\".0f\",\"type\":\"sankey\"}],                        {\"template\":{\"data\":{\"bar\":[{\"error_x\":{\"color\":\"#2a3f5f\"},\"error_y\":{\"color\":\"#2a3f5f\"},\"marker\":{\"line\":{\"color\":\"#E5ECF6\",\"width\":0.5},\"pattern\":{\"fillmode\":\"overlay\",\"size\":10,\"solidity\":0.2}},\"type\":\"bar\"}],\"barpolar\":[{\"marker\":{\"line\":{\"color\":\"#E5ECF6\",\"width\":0.5},\"pattern\":{\"fillmode\":\"overlay\",\"size\":10,\"solidity\":0.2}},\"type\":\"barpolar\"}],\"carpet\":[{\"aaxis\":{\"endlinecolor\":\"#2a3f5f\",\"gridcolor\":\"white\",\"linecolor\":\"white\",\"minorgridcolor\":\"white\",\"startlinecolor\":\"#2a3f5f\"},\"baxis\":{\"endlinecolor\":\"#2a3f5f\",\"gridcolor\":\"white\",\"linecolor\":\"white\",\"minorgridcolor\":\"white\",\"startlinecolor\":\"#2a3f5f\"},\"type\":\"carpet\"}],\"choropleth\":[{\"colorbar\":{\"outlinewidth\":0,\"ticks\":\"\"},\"type\":\"choropleth\"}],\"contour\":[{\"colorbar\":{\"outlinewidth\":0,\"ticks\":\"\"},\"colorscale\":[[0.0,\"#0d0887\"],[0.1111111111111111,\"#46039f\"],[0.2222222222222222,\"#7201a8\"],[0.3333333333333333,\"#9c179e\"],[0.4444444444444444,\"#bd3786\"],[0.5555555555555556,\"#d8576b\"],[0.6666666666666666,\"#ed7953\"],[0.7777777777777778,\"#fb9f3a\"],[0.8888888888888888,\"#fdca26\"],[1.0,\"#f0f921\"]],\"type\":\"contour\"}],\"contourcarpet\":[{\"colorbar\":{\"outlinewidth\":0,\"ticks\":\"\"},\"type\":\"contourcarpet\"}],\"heatmap\":[{\"colorbar\":{\"outlinewidth\":0,\"ticks\":\"\"},\"colorscale\":[[0.0,\"#0d0887\"],[0.1111111111111111,\"#46039f\"],[0.2222222222222222,\"#7201a8\"],[0.3333333333333333,\"#9c179e\"],[0.4444444444444444,\"#bd3786\"],[0.5555555555555556,\"#d8576b\"],[0.6666666666666666,\"#ed7953\"],[0.7777777777777778,\"#fb9f3a\"],[0.8888888888888888,\"#fdca26\"],[1.0,\"#f0f921\"]],\"type\":\"heatmap\"}],\"heatmapgl\":[{\"colorbar\":{\"outlinewidth\":0,\"ticks\":\"\"},\"colorscale\":[[0.0,\"#0d0887\"],[0.1111111111111111,\"#46039f\"],[0.2222222222222222,\"#7201a8\"],[0.3333333333333333,\"#9c179e\"],[0.4444444444444444,\"#bd3786\"],[0.5555555555555556,\"#d8576b\"],[0.6666666666666666,\"#ed7953\"],[0.7777777777777778,\"#fb9f3a\"],[0.8888888888888888,\"#fdca26\"],[1.0,\"#f0f921\"]],\"type\":\"heatmapgl\"}],\"histogram\":[{\"marker\":{\"pattern\":{\"fillmode\":\"overlay\",\"size\":10,\"solidity\":0.2}},\"type\":\"histogram\"}],\"histogram2d\":[{\"colorbar\":{\"outlinewidth\":0,\"ticks\":\"\"},\"colorscale\":[[0.0,\"#0d0887\"],[0.1111111111111111,\"#46039f\"],[0.2222222222222222,\"#7201a8\"],[0.3333333333333333,\"#9c179e\"],[0.4444444444444444,\"#bd3786\"],[0.5555555555555556,\"#d8576b\"],[0.6666666666666666,\"#ed7953\"],[0.7777777777777778,\"#fb9f3a\"],[0.8888888888888888,\"#fdca26\"],[1.0,\"#f0f921\"]],\"type\":\"histogram2d\"}],\"histogram2dcontour\":[{\"colorbar\":{\"outlinewidth\":0,\"ticks\":\"\"},\"colorscale\":[[0.0,\"#0d0887\"],[0.1111111111111111,\"#46039f\"],[0.2222222222222222,\"#7201a8\"],[0.3333333333333333,\"#9c179e\"],[0.4444444444444444,\"#bd3786\"],[0.5555555555555556,\"#d8576b\"],[0.6666666666666666,\"#ed7953\"],[0.7777777777777778,\"#fb9f3a\"],[0.8888888888888888,\"#fdca26\"],[1.0,\"#f0f921\"]],\"type\":\"histogram2dcontour\"}],\"mesh3d\":[{\"colorbar\":{\"outlinewidth\":0,\"ticks\":\"\"},\"type\":\"mesh3d\"}],\"parcoords\":[{\"line\":{\"colorbar\":{\"outlinewidth\":0,\"ticks\":\"\"}},\"type\":\"parcoords\"}],\"pie\":[{\"automargin\":true,\"type\":\"pie\"}],\"scatter\":[{\"marker\":{\"colorbar\":{\"outlinewidth\":0,\"ticks\":\"\"}},\"type\":\"scatter\"}],\"scatter3d\":[{\"line\":{\"colorbar\":{\"outlinewidth\":0,\"ticks\":\"\"}},\"marker\":{\"colorbar\":{\"outlinewidth\":0,\"ticks\":\"\"}},\"type\":\"scatter3d\"}],\"scattercarpet\":[{\"marker\":{\"colorbar\":{\"outlinewidth\":0,\"ticks\":\"\"}},\"type\":\"scattercarpet\"}],\"scattergeo\":[{\"marker\":{\"colorbar\":{\"outlinewidth\":0,\"ticks\":\"\"}},\"type\":\"scattergeo\"}],\"scattergl\":[{\"marker\":{\"colorbar\":{\"outlinewidth\":0,\"ticks\":\"\"}},\"type\":\"scattergl\"}],\"scattermapbox\":[{\"marker\":{\"colorbar\":{\"outlinewidth\":0,\"ticks\":\"\"}},\"type\":\"scattermapbox\"}],\"scatterpolar\":[{\"marker\":{\"colorbar\":{\"outlinewidth\":0,\"ticks\":\"\"}},\"type\":\"scatterpolar\"}],\"scatterpolargl\":[{\"marker\":{\"colorbar\":{\"outlinewidth\":0,\"ticks\":\"\"}},\"type\":\"scatterpolargl\"}],\"scatterternary\":[{\"marker\":{\"colorbar\":{\"outlinewidth\":0,\"ticks\":\"\"}},\"type\":\"scatterternary\"}],\"surface\":[{\"colorbar\":{\"outlinewidth\":0,\"ticks\":\"\"},\"colorscale\":[[0.0,\"#0d0887\"],[0.1111111111111111,\"#46039f\"],[0.2222222222222222,\"#7201a8\"],[0.3333333333333333,\"#9c179e\"],[0.4444444444444444,\"#bd3786\"],[0.5555555555555556,\"#d8576b\"],[0.6666666666666666,\"#ed7953\"],[0.7777777777777778,\"#fb9f3a\"],[0.8888888888888888,\"#fdca26\"],[1.0,\"#f0f921\"]],\"type\":\"surface\"}],\"table\":[{\"cells\":{\"fill\":{\"color\":\"#EBF0F8\"},\"line\":{\"color\":\"white\"}},\"header\":{\"fill\":{\"color\":\"#C8D4E3\"},\"line\":{\"color\":\"white\"}},\"type\":\"table\"}]},\"layout\":{\"annotationdefaults\":{\"arrowcolor\":\"#2a3f5f\",\"arrowhead\":0,\"arrowwidth\":1},\"autotypenumbers\":\"strict\",\"coloraxis\":{\"colorbar\":{\"outlinewidth\":0,\"ticks\":\"\"}},\"colorscale\":{\"diverging\":[[0,\"#8e0152\"],[0.1,\"#c51b7d\"],[0.2,\"#de77ae\"],[0.3,\"#f1b6da\"],[0.4,\"#fde0ef\"],[0.5,\"#f7f7f7\"],[0.6,\"#e6f5d0\"],[0.7,\"#b8e186\"],[0.8,\"#7fbc41\"],[0.9,\"#4d9221\"],[1,\"#276419\"]],\"sequential\":[[0.0,\"#0d0887\"],[0.1111111111111111,\"#46039f\"],[0.2222222222222222,\"#7201a8\"],[0.3333333333333333,\"#9c179e\"],[0.4444444444444444,\"#bd3786\"],[0.5555555555555556,\"#d8576b\"],[0.6666666666666666,\"#ed7953\"],[0.7777777777777778,\"#fb9f3a\"],[0.8888888888888888,\"#fdca26\"],[1.0,\"#f0f921\"]],\"sequentialminus\":[[0.0,\"#0d0887\"],[0.1111111111111111,\"#46039f\"],[0.2222222222222222,\"#7201a8\"],[0.3333333333333333,\"#9c179e\"],[0.4444444444444444,\"#bd3786\"],[0.5555555555555556,\"#d8576b\"],[0.6666666666666666,\"#ed7953\"],[0.7777777777777778,\"#fb9f3a\"],[0.8888888888888888,\"#fdca26\"],[1.0,\"#f0f921\"]]},\"colorway\":[\"#636efa\",\"#EF553B\",\"#00cc96\",\"#ab63fa\",\"#FFA15A\",\"#19d3f3\",\"#FF6692\",\"#B6E880\",\"#FF97FF\",\"#FECB52\"],\"font\":{\"color\":\"#2a3f5f\"},\"geo\":{\"bgcolor\":\"white\",\"lakecolor\":\"white\",\"landcolor\":\"#E5ECF6\",\"showlakes\":true,\"showland\":true,\"subunitcolor\":\"white\"},\"hoverlabel\":{\"align\":\"left\"},\"hovermode\":\"closest\",\"mapbox\":{\"style\":\"light\"},\"paper_bgcolor\":\"white\",\"plot_bgcolor\":\"#E5ECF6\",\"polar\":{\"angularaxis\":{\"gridcolor\":\"white\",\"linecolor\":\"white\",\"ticks\":\"\"},\"bgcolor\":\"#E5ECF6\",\"radialaxis\":{\"gridcolor\":\"white\",\"linecolor\":\"white\",\"ticks\":\"\"}},\"scene\":{\"xaxis\":{\"backgroundcolor\":\"#E5ECF6\",\"gridcolor\":\"white\",\"gridwidth\":2,\"linecolor\":\"white\",\"showbackground\":true,\"ticks\":\"\",\"zerolinecolor\":\"white\"},\"yaxis\":{\"backgroundcolor\":\"#E5ECF6\",\"gridcolor\":\"white\",\"gridwidth\":2,\"linecolor\":\"white\",\"showbackground\":true,\"ticks\":\"\",\"zerolinecolor\":\"white\"},\"zaxis\":{\"backgroundcolor\":\"#E5ECF6\",\"gridcolor\":\"white\",\"gridwidth\":2,\"linecolor\":\"white\",\"showbackground\":true,\"ticks\":\"\",\"zerolinecolor\":\"white\"}},\"shapedefaults\":{\"line\":{\"color\":\"#2a3f5f\"}},\"ternary\":{\"aaxis\":{\"gridcolor\":\"white\",\"linecolor\":\"white\",\"ticks\":\"\"},\"baxis\":{\"gridcolor\":\"white\",\"linecolor\":\"white\",\"ticks\":\"\"},\"bgcolor\":\"#E5ECF6\",\"caxis\":{\"gridcolor\":\"white\",\"linecolor\":\"white\",\"ticks\":\"\"}},\"title\":{\"x\":0.05},\"xaxis\":{\"automargin\":true,\"gridcolor\":\"white\",\"linecolor\":\"white\",\"ticks\":\"\",\"title\":{\"standoff\":15},\"zerolinecolor\":\"white\",\"zerolinewidth\":2},\"yaxis\":{\"automargin\":true,\"gridcolor\":\"white\",\"linecolor\":\"white\",\"ticks\":\"\",\"title\":{\"standoff\":15},\"zerolinecolor\":\"white\",\"zerolinewidth\":2}}}},                        {\"responsive\": true}                    ).then(function(){\n",
       "                            \n",
       "var gd = document.getElementById('23400b41-63d1-40eb-8fbd-95a1a19d35e7');\n",
       "var x = new MutationObserver(function (mutations, observer) {{\n",
       "        var display = window.getComputedStyle(gd).display;\n",
       "        if (!display || display === 'none') {{\n",
       "            console.log([gd, 'removed!']);\n",
       "            Plotly.purge(gd);\n",
       "            observer.disconnect();\n",
       "        }}\n",
       "}});\n",
       "\n",
       "// Listen for the removal of the full notebook cells\n",
       "var notebookContainer = gd.closest('#notebook-container');\n",
       "if (notebookContainer) {{\n",
       "    x.observe(notebookContainer, {childList: true});\n",
       "}}\n",
       "\n",
       "// Listen for the clearing of the current output cell\n",
       "var outputEl = gd.closest('.output');\n",
       "if (outputEl) {{\n",
       "    x.observe(outputEl, {childList: true});\n",
       "}}\n",
       "\n",
       "                        })                };                });            </script>        </div>"
      ]
     },
     "metadata": {},
     "output_type": "display_data"
    }
   ],
   "source": [
    "ga4_user_pathing.display_sankey(df_sankey, df_index, count_field=COUNT_FIELD, link_opacity=.3)"
   ]
  },
  {
   "cell_type": "code",
   "execution_count": null,
   "id": "e33a5c29",
   "metadata": {},
   "outputs": [],
   "source": []
  }
 ],
 "metadata": {
  "kernelspec": {
   "display_name": "Python 3",
   "language": "python",
   "name": "python3"
  },
  "language_info": {
   "codemirror_mode": {
    "name": "ipython",
    "version": 3
   },
   "file_extension": ".py",
   "mimetype": "text/x-python",
   "name": "python",
   "nbconvert_exporter": "python",
   "pygments_lexer": "ipython3",
   "version": "3.8.8"
  }
 },
 "nbformat": 4,
 "nbformat_minor": 5
}

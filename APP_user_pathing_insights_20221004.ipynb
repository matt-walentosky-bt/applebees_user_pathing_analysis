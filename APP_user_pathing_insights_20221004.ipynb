{
 "cells": [
  {
   "cell_type": "code",
   "execution_count": 1,
   "id": "0dea5d3e",
   "metadata": {},
   "outputs": [],
   "source": [
    "#Script created by Neha on 2022-10-04\n",
    "#Script is designed to analyze Applebees Site traffic analysis on APP only\n",
    "#Github repo: https://github.com/matt-walentosky-bt/applebees_user_pathing_analysis"
   ]
  },
  {
   "cell_type": "code",
   "execution_count": 1,
   "id": "0c0419ec",
   "metadata": {},
   "outputs": [],
   "source": [
    "#Import desired packages\n",
    "import ga4_user_pathing\n",
    "import pandas as pd\n",
    "import os"
   ]
  },
  {
   "cell_type": "code",
   "execution_count": 2,
   "id": "ef8966e2",
   "metadata": {},
   "outputs": [],
   "source": [
    "#Parameters from Tyler Norris / Vanessa Schneider\n",
    "# Globals:\n",
    "COUNT_FIELD = 'counts' # DF fields references to aggregations value (users, sessions)\n",
    "NODE_OPACITY = .9\n",
    "LINK_OPACITY = .6\n",
    "SEP_VAL = ' > '\n",
    "KEY_PATH = '/Users/vanessaschneider/keys/dse-chase-user-pathing.json'"
   ]
  },
  {
   "cell_type": "code",
   "execution_count": 3,
   "id": "dcc94cf0",
   "metadata": {},
   "outputs": [
    {
     "data": {
      "text/plain": [
       "'/Users/nehakhatri/Documents/GitHub/applebees_user_pathing_analysis'"
      ]
     },
     "execution_count": 3,
     "metadata": {},
     "output_type": "execute_result"
    }
   ],
   "source": [
    "#Get working directory\n",
    "os.getcwd()"
   ]
  },
  {
   "cell_type": "code",
   "execution_count": 11,
   "id": "f952a10c",
   "metadata": {},
   "outputs": [],
   "source": [
    "#Read desired document\n",
    "conversion_status = False\n",
    "\n",
    "if conversion_status == True:\n",
    "    df = pd.read_csv(\"APP_converters_user_pathing.csv\")\n",
    "else:\n",
    "    df = pd.read_csv(\"APP_non_converters_user_pathing.csv\")\n",
    "    \n",
    "#Note, we can only pull fraction of data from BQ into CSV format   "
   ]
  },
  {
   "cell_type": "code",
   "execution_count": 12,
   "id": "01f01a1b",
   "metadata": {},
   "outputs": [
    {
     "name": "stdout",
     "output_type": "stream",
     "text": [
      "(9142, 3)\n",
      "----\n",
      "                         journey  conversion_flg  counts\n",
      "0                           Menu           False    5029\n",
      "1                  Quick_Reorder           False    4187\n",
      "2         viewed_favourite_store           False    2572\n",
      "3  viewed_favourite_store > Menu           False    2098\n",
      "4                     Appetizers           False    2015\n"
     ]
    }
   ],
   "source": [
    "print(df.shape)\n",
    "print(\"----\")\n",
    "print(df.head())"
   ]
  },
  {
   "cell_type": "code",
   "execution_count": 13,
   "id": "e38cd963",
   "metadata": {},
   "outputs": [],
   "source": [
    "df['journey_length'] = df.apply(lambda x: len(x['journey'].split(SEP_VAL)), axis=1)"
   ]
  },
  {
   "cell_type": "code",
   "execution_count": 7,
   "id": "38051257",
   "metadata": {},
   "outputs": [
    {
     "data": {
      "text/html": [
       "<div>\n",
       "<style scoped>\n",
       "    .dataframe tbody tr th:only-of-type {\n",
       "        vertical-align: middle;\n",
       "    }\n",
       "\n",
       "    .dataframe tbody tr th {\n",
       "        vertical-align: top;\n",
       "    }\n",
       "\n",
       "    .dataframe thead th {\n",
       "        text-align: right;\n",
       "    }\n",
       "</style>\n",
       "<table border=\"1\" class=\"dataframe\">\n",
       "  <thead>\n",
       "    <tr style=\"text-align: right;\">\n",
       "      <th></th>\n",
       "      <th>counts</th>\n",
       "      <th>journey_length</th>\n",
       "    </tr>\n",
       "  </thead>\n",
       "  <tbody>\n",
       "    <tr>\n",
       "      <th>count</th>\n",
       "      <td>9142.000000</td>\n",
       "      <td>9142.000000</td>\n",
       "    </tr>\n",
       "    <tr>\n",
       "      <th>mean</th>\n",
       "      <td>4.715489</td>\n",
       "      <td>8.292059</td>\n",
       "    </tr>\n",
       "    <tr>\n",
       "      <th>std</th>\n",
       "      <td>82.812863</td>\n",
       "      <td>5.014389</td>\n",
       "    </tr>\n",
       "    <tr>\n",
       "      <th>min</th>\n",
       "      <td>1.000000</td>\n",
       "      <td>1.000000</td>\n",
       "    </tr>\n",
       "    <tr>\n",
       "      <th>25%</th>\n",
       "      <td>1.000000</td>\n",
       "      <td>5.000000</td>\n",
       "    </tr>\n",
       "    <tr>\n",
       "      <th>50%</th>\n",
       "      <td>1.000000</td>\n",
       "      <td>7.000000</td>\n",
       "    </tr>\n",
       "    <tr>\n",
       "      <th>75%</th>\n",
       "      <td>1.000000</td>\n",
       "      <td>10.000000</td>\n",
       "    </tr>\n",
       "    <tr>\n",
       "      <th>max</th>\n",
       "      <td>5029.000000</td>\n",
       "      <td>70.000000</td>\n",
       "    </tr>\n",
       "  </tbody>\n",
       "</table>\n",
       "</div>"
      ],
      "text/plain": [
       "            counts  journey_length\n",
       "count  9142.000000     9142.000000\n",
       "mean      4.715489        8.292059\n",
       "std      82.812863        5.014389\n",
       "min       1.000000        1.000000\n",
       "25%       1.000000        5.000000\n",
       "50%       1.000000        7.000000\n",
       "75%       1.000000       10.000000\n",
       "max    5029.000000       70.000000"
      ]
     },
     "execution_count": 7,
     "metadata": {},
     "output_type": "execute_result"
    }
   ],
   "source": [
    "df.describe()"
   ]
  },
  {
   "cell_type": "code",
   "execution_count": 14,
   "id": "858686cf",
   "metadata": {},
   "outputs": [
    {
     "data": {
      "text/html": [
       "<div>\n",
       "<style scoped>\n",
       "    .dataframe tbody tr th:only-of-type {\n",
       "        vertical-align: middle;\n",
       "    }\n",
       "\n",
       "    .dataframe tbody tr th {\n",
       "        vertical-align: top;\n",
       "    }\n",
       "\n",
       "    .dataframe thead th {\n",
       "        text-align: right;\n",
       "    }\n",
       "</style>\n",
       "<table border=\"1\" class=\"dataframe\">\n",
       "  <thead>\n",
       "    <tr style=\"text-align: right;\">\n",
       "      <th></th>\n",
       "      <th>journey</th>\n",
       "      <th>conversion_flg</th>\n",
       "      <th>counts</th>\n",
       "      <th>journey_length</th>\n",
       "    </tr>\n",
       "  </thead>\n",
       "  <tbody>\n",
       "    <tr>\n",
       "      <th>0</th>\n",
       "      <td>Menu</td>\n",
       "      <td>False</td>\n",
       "      <td>5029</td>\n",
       "      <td>1</td>\n",
       "    </tr>\n",
       "    <tr>\n",
       "      <th>1</th>\n",
       "      <td>Quick_Reorder</td>\n",
       "      <td>False</td>\n",
       "      <td>4187</td>\n",
       "      <td>1</td>\n",
       "    </tr>\n",
       "    <tr>\n",
       "      <th>2</th>\n",
       "      <td>viewed_favourite_store</td>\n",
       "      <td>False</td>\n",
       "      <td>2572</td>\n",
       "      <td>1</td>\n",
       "    </tr>\n",
       "    <tr>\n",
       "      <th>3</th>\n",
       "      <td>viewed_favourite_store &gt; Menu</td>\n",
       "      <td>False</td>\n",
       "      <td>2098</td>\n",
       "      <td>2</td>\n",
       "    </tr>\n",
       "    <tr>\n",
       "      <th>4</th>\n",
       "      <td>Appetizers</td>\n",
       "      <td>False</td>\n",
       "      <td>2015</td>\n",
       "      <td>1</td>\n",
       "    </tr>\n",
       "  </tbody>\n",
       "</table>\n",
       "</div>"
      ],
      "text/plain": [
       "                         journey  conversion_flg  counts  journey_length\n",
       "0                           Menu           False    5029               1\n",
       "1                  Quick_Reorder           False    4187               1\n",
       "2         viewed_favourite_store           False    2572               1\n",
       "3  viewed_favourite_store > Menu           False    2098               2\n",
       "4                     Appetizers           False    2015               1"
      ]
     },
     "execution_count": 14,
     "metadata": {},
     "output_type": "execute_result"
    }
   ],
   "source": [
    "df.head(5)"
   ]
  },
  {
   "cell_type": "code",
   "execution_count": 15,
   "id": "57388957",
   "metadata": {},
   "outputs": [],
   "source": [
    "#Export the full dataset\n",
    "df.to_csv('/Users/nehakhatri/Local_Python/Applebees/non_converters_full_data.csv')"
   ]
  },
  {
   "cell_type": "code",
   "execution_count": 66,
   "id": "378e7e59",
   "metadata": {},
   "outputs": [
    {
     "data": {
      "text/plain": [
       "<AxesSubplot: >"
      ]
     },
     "execution_count": 66,
     "metadata": {},
     "output_type": "execute_result"
    },
    {
     "data": {
      "image/png": "[encoded data removed]",
      "text/plain": [
       "<Figure size 640x480 with 1 Axes>"
      ]
     },
     "metadata": {},
     "output_type": "display_data"
    }
   ],
   "source": [
    "# Change min journey lenght and number of bins to further explore\n",
    "df[df['journey_length'] > 0]['journey_length'].hist(bins=8)"
   ]
  },
  {
   "cell_type": "code",
   "execution_count": 67,
   "id": "b3f21401",
   "metadata": {},
   "outputs": [
    {
     "data": {
      "text/plain": [
       "<AxesSubplot: >"
      ]
     },
     "execution_count": 67,
     "metadata": {},
     "output_type": "execute_result"
    },
    {
     "data": {
      "image/png": "[encoded data removed]",
      "text/plain": [
       "<Figure size 640x480 with 1 Axes>"
      ]
     },
     "metadata": {},
     "output_type": "display_data"
    }
   ],
   "source": [
    "df[df['journey_length'] > 1]['counts'].hist(bins=30)"
   ]
  },
  {
   "cell_type": "code",
   "execution_count": 8,
   "id": "ccf48692",
   "metadata": {},
   "outputs": [
    {
     "data": {
      "text/html": [
       "<div>\n",
       "<style scoped>\n",
       "    .dataframe tbody tr th:only-of-type {\n",
       "        vertical-align: middle;\n",
       "    }\n",
       "\n",
       "    .dataframe tbody tr th {\n",
       "        vertical-align: top;\n",
       "    }\n",
       "\n",
       "    .dataframe thead th {\n",
       "        text-align: right;\n",
       "    }\n",
       "</style>\n",
       "<table border=\"1\" class=\"dataframe\">\n",
       "  <thead>\n",
       "    <tr style=\"text-align: right;\">\n",
       "      <th></th>\n",
       "      <th>journey</th>\n",
       "      <th>conversion_flg</th>\n",
       "      <th>counts</th>\n",
       "      <th>journey_length</th>\n",
       "    </tr>\n",
       "  </thead>\n",
       "  <tbody>\n",
       "    <tr>\n",
       "      <th>0</th>\n",
       "      <td>Menu</td>\n",
       "      <td>False</td>\n",
       "      <td>5029</td>\n",
       "      <td>1</td>\n",
       "    </tr>\n",
       "    <tr>\n",
       "      <th>1</th>\n",
       "      <td>Quick_Reorder</td>\n",
       "      <td>False</td>\n",
       "      <td>4187</td>\n",
       "      <td>1</td>\n",
       "    </tr>\n",
       "    <tr>\n",
       "      <th>2</th>\n",
       "      <td>viewed_favourite_store</td>\n",
       "      <td>False</td>\n",
       "      <td>2572</td>\n",
       "      <td>1</td>\n",
       "    </tr>\n",
       "    <tr>\n",
       "      <th>3</th>\n",
       "      <td>viewed_favourite_store &gt; Menu</td>\n",
       "      <td>False</td>\n",
       "      <td>2098</td>\n",
       "      <td>2</td>\n",
       "    </tr>\n",
       "    <tr>\n",
       "      <th>4</th>\n",
       "      <td>Appetizers</td>\n",
       "      <td>False</td>\n",
       "      <td>2015</td>\n",
       "      <td>1</td>\n",
       "    </tr>\n",
       "    <tr>\n",
       "      <th>5</th>\n",
       "      <td>Menu &gt; added_item</td>\n",
       "      <td>False</td>\n",
       "      <td>975</td>\n",
       "      <td>2</td>\n",
       "    </tr>\n",
       "    <tr>\n",
       "      <th>6</th>\n",
       "      <td>viewed_favourite_store &gt; Appetizers</td>\n",
       "      <td>False</td>\n",
       "      <td>896</td>\n",
       "      <td>2</td>\n",
       "    </tr>\n",
       "    <tr>\n",
       "      <th>7</th>\n",
       "      <td>Appetizers &gt; Menu</td>\n",
       "      <td>False</td>\n",
       "      <td>774</td>\n",
       "      <td>2</td>\n",
       "    </tr>\n",
       "    <tr>\n",
       "      <th>8</th>\n",
       "      <td>Menu &gt; Appetizers</td>\n",
       "      <td>False</td>\n",
       "      <td>628</td>\n",
       "      <td>2</td>\n",
       "    </tr>\n",
       "    <tr>\n",
       "      <th>9</th>\n",
       "      <td>Drinks</td>\n",
       "      <td>False</td>\n",
       "      <td>618</td>\n",
       "      <td>1</td>\n",
       "    </tr>\n",
       "  </tbody>\n",
       "</table>\n",
       "</div>"
      ],
      "text/plain": [
       "                               journey  conversion_flg  counts  journey_length\n",
       "0                                 Menu           False    5029               1\n",
       "1                        Quick_Reorder           False    4187               1\n",
       "2               viewed_favourite_store           False    2572               1\n",
       "3        viewed_favourite_store > Menu           False    2098               2\n",
       "4                           Appetizers           False    2015               1\n",
       "5                    Menu > added_item           False     975               2\n",
       "6  viewed_favourite_store > Appetizers           False     896               2\n",
       "7                    Appetizers > Menu           False     774               2\n",
       "8                    Menu > Appetizers           False     628               2\n",
       "9                               Drinks           False     618               1"
      ]
     },
     "execution_count": 8,
     "metadata": {},
     "output_type": "execute_result"
    }
   ],
   "source": [
    "df.head(10)"
   ]
  },
  {
   "cell_type": "code",
   "execution_count": 9,
   "id": "c502d75e",
   "metadata": {},
   "outputs": [],
   "source": [
    "df = ga4_user_pathing.add_journey_end_string(df, journey_col='journey', conversion_column='Conversion', sep_val=' > ')\n",
    "df = ga4_user_pathing.parse_steps(df, sep_val=' > ', max_steps=10)"
   ]
  },
  {
   "cell_type": "code",
   "execution_count": 10,
   "id": "2dca428f",
   "metadata": {},
   "outputs": [
    {
     "data": {
      "text/plain": [
       "'Quick_Reorder > Journey End'"
      ]
     },
     "execution_count": 10,
     "metadata": {},
     "output_type": "execute_result"
    }
   ],
   "source": [
    "df['journey'][1]"
   ]
  },
  {
   "cell_type": "code",
   "execution_count": null,
   "id": "08ca3ca0",
   "metadata": {},
   "outputs": [],
   "source": [
    "df_filtered.columns"
   ]
  },
  {
   "cell_type": "code",
   "execution_count": null,
   "id": "d18195e2",
   "metadata": {},
   "outputs": [],
   "source": [
    "#df_filtered = ga4_user_pathing.remove_long_tail_jouneys(df, count_col='counts', min_path_count=10)"
   ]
  },
  {
   "cell_type": "code",
   "execution_count": 16,
   "id": "fdfe69ed",
   "metadata": {},
   "outputs": [],
   "source": [
    "df_filtered = df[(df['journey_length'] >= 1) & (df['journey_length'] <= 6)]\n",
    "df_filtered = df_filtered.sort_values('counts', ascending = False)\n",
    "df_filtered = df_filtered.iloc[0:100,:]"
   ]
  },
  {
   "cell_type": "code",
   "execution_count": 17,
   "id": "1c019753",
   "metadata": {},
   "outputs": [
    {
     "data": {
      "text/html": [
       "<div>\n",
       "<style scoped>\n",
       "    .dataframe tbody tr th:only-of-type {\n",
       "        vertical-align: middle;\n",
       "    }\n",
       "\n",
       "    .dataframe tbody tr th {\n",
       "        vertical-align: top;\n",
       "    }\n",
       "\n",
       "    .dataframe thead th {\n",
       "        text-align: right;\n",
       "    }\n",
       "</style>\n",
       "<table border=\"1\" class=\"dataframe\">\n",
       "  <thead>\n",
       "    <tr style=\"text-align: right;\">\n",
       "      <th></th>\n",
       "      <th>journey</th>\n",
       "      <th>conversion_flg</th>\n",
       "      <th>counts</th>\n",
       "      <th>journey_length</th>\n",
       "    </tr>\n",
       "  </thead>\n",
       "  <tbody>\n",
       "    <tr>\n",
       "      <th>0</th>\n",
       "      <td>Menu</td>\n",
       "      <td>False</td>\n",
       "      <td>5029</td>\n",
       "      <td>1</td>\n",
       "    </tr>\n",
       "    <tr>\n",
       "      <th>1</th>\n",
       "      <td>Quick_Reorder</td>\n",
       "      <td>False</td>\n",
       "      <td>4187</td>\n",
       "      <td>1</td>\n",
       "    </tr>\n",
       "    <tr>\n",
       "      <th>2</th>\n",
       "      <td>viewed_favourite_store</td>\n",
       "      <td>False</td>\n",
       "      <td>2572</td>\n",
       "      <td>1</td>\n",
       "    </tr>\n",
       "    <tr>\n",
       "      <th>3</th>\n",
       "      <td>viewed_favourite_store &gt; Menu</td>\n",
       "      <td>False</td>\n",
       "      <td>2098</td>\n",
       "      <td>2</td>\n",
       "    </tr>\n",
       "    <tr>\n",
       "      <th>4</th>\n",
       "      <td>Appetizers</td>\n",
       "      <td>False</td>\n",
       "      <td>2015</td>\n",
       "      <td>1</td>\n",
       "    </tr>\n",
       "  </tbody>\n",
       "</table>\n",
       "</div>"
      ],
      "text/plain": [
       "                         journey  conversion_flg  counts  journey_length\n",
       "0                           Menu           False    5029               1\n",
       "1                  Quick_Reorder           False    4187               1\n",
       "2         viewed_favourite_store           False    2572               1\n",
       "3  viewed_favourite_store > Menu           False    2098               2\n",
       "4                     Appetizers           False    2015               1"
      ]
     },
     "execution_count": 17,
     "metadata": {},
     "output_type": "execute_result"
    }
   ],
   "source": [
    "df_filtered.head()"
   ]
  },
  {
   "cell_type": "code",
   "execution_count": 91,
   "id": "81f764d3",
   "metadata": {},
   "outputs": [
    {
     "data": {
      "text/plain": [
       "Index(['journey', 'conversion_flg', 'counts', 'journey_length', 'step_1',\n",
       "       'step_2', 'step_3', 'step_4', 'step_5', 'step_6', 'step_7'],\n",
       "      dtype='object')"
      ]
     },
     "execution_count": 91,
     "metadata": {},
     "output_type": "execute_result"
    }
   ],
   "source": [
    "df_filtered.columns"
   ]
  },
  {
   "cell_type": "code",
   "execution_count": 92,
   "id": "1cc5afcb",
   "metadata": {},
   "outputs": [
    {
     "name": "stderr",
     "output_type": "stream",
     "text": [
      "/Users/nehakhatri/Documents/GitHub/applebees_user_pathing_analysis/ga4_user_pathing.py:253: FutureWarning:\n",
      "\n",
      "In a future version of pandas all arguments of DataFrame.drop except for the argument 'labels' will be keyword-only.\n",
      "\n",
      "/Users/nehakhatri/Documents/GitHub/applebees_user_pathing_analysis/ga4_user_pathing.py:261: FutureWarning:\n",
      "\n",
      "In a future version of pandas all arguments of DataFrame.drop except for the argument 'labels' will be keyword-only.\n",
      "\n"
     ]
    }
   ],
   "source": [
    "df_sankey, df_index = ga4_user_pathing.generate_sankey_inputs(df_filtered, COUNT_FIELD, .9)"
   ]
  },
  {
   "cell_type": "code",
   "execution_count": 93,
   "id": "7c5b9431",
   "metadata": {},
   "outputs": [
    {
     "data": {
      "text/html": [
       "<div>\n",
       "<style scoped>\n",
       "    .dataframe tbody tr th:only-of-type {\n",
       "        vertical-align: middle;\n",
       "    }\n",
       "\n",
       "    .dataframe tbody tr th {\n",
       "        vertical-align: top;\n",
       "    }\n",
       "\n",
       "    .dataframe thead th {\n",
       "        text-align: right;\n",
       "    }\n",
       "</style>\n",
       "<table border=\"1\" class=\"dataframe\">\n",
       "  <thead>\n",
       "    <tr style=\"text-align: right;\">\n",
       "      <th></th>\n",
       "      <th>source</th>\n",
       "      <th>target</th>\n",
       "      <th>counts</th>\n",
       "      <th>source_index</th>\n",
       "      <th>color</th>\n",
       "      <th>target_index</th>\n",
       "    </tr>\n",
       "  </thead>\n",
       "  <tbody>\n",
       "    <tr>\n",
       "      <th>0</th>\n",
       "      <td>Appetizers</td>\n",
       "      <td>added_item</td>\n",
       "      <td>1515</td>\n",
       "      <td>6</td>\n",
       "      <td>rgba(255, 177, 255, 0.9)</td>\n",
       "      <td>0</td>\n",
       "    </tr>\n",
       "    <tr>\n",
       "      <th>1</th>\n",
       "      <td>CheckoutActivity</td>\n",
       "      <td>Journey End</td>\n",
       "      <td>2713</td>\n",
       "      <td>5</td>\n",
       "      <td>rgba(142, 231, 255, 0.9)</td>\n",
       "      <td>2</td>\n",
       "    </tr>\n",
       "    <tr>\n",
       "      <th>2</th>\n",
       "      <td>CheckoutViewController</td>\n",
       "      <td>Journey End</td>\n",
       "      <td>6947</td>\n",
       "      <td>3</td>\n",
       "      <td>rgba(128, 68, 123, 0.9)</td>\n",
       "      <td>2</td>\n",
       "    </tr>\n",
       "    <tr>\n",
       "      <th>3</th>\n",
       "      <td>Menu</td>\n",
       "      <td>added_item</td>\n",
       "      <td>9686</td>\n",
       "      <td>1</td>\n",
       "      <td>rgba(53, 41, 127, 0.9)</td>\n",
       "      <td>0</td>\n",
       "    </tr>\n",
       "    <tr>\n",
       "      <th>4</th>\n",
       "      <td>added_item</td>\n",
       "      <td>CheckoutActivity</td>\n",
       "      <td>2713</td>\n",
       "      <td>0</td>\n",
       "      <td>rgba(142, 140, 153, 0.9)</td>\n",
       "      <td>5</td>\n",
       "    </tr>\n",
       "  </tbody>\n",
       "</table>\n",
       "</div>"
      ],
      "text/plain": [
       "                   source            target counts  source_index  \\\n",
       "0              Appetizers        added_item   1515             6   \n",
       "1        CheckoutActivity       Journey End   2713             5   \n",
       "2  CheckoutViewController       Journey End   6947             3   \n",
       "3                    Menu        added_item   9686             1   \n",
       "4              added_item  CheckoutActivity   2713             0   \n",
       "\n",
       "                      color  target_index  \n",
       "0  rgba(255, 177, 255, 0.9)             0  \n",
       "1  rgba(142, 231, 255, 0.9)             2  \n",
       "2   rgba(128, 68, 123, 0.9)             2  \n",
       "3    rgba(53, 41, 127, 0.9)             0  \n",
       "4  rgba(142, 140, 153, 0.9)             5  "
      ]
     },
     "execution_count": 93,
     "metadata": {},
     "output_type": "execute_result"
    }
   ],
   "source": [
    "df_sankey.head()"
   ]
  },
  {
   "cell_type": "code",
   "execution_count": 94,
   "id": "0b17337d",
   "metadata": {},
   "outputs": [
    {
     "data": {
      "text/html": [
       "<div>\n",
       "<style scoped>\n",
       "    .dataframe tbody tr th:only-of-type {\n",
       "        vertical-align: middle;\n",
       "    }\n",
       "\n",
       "    .dataframe tbody tr th {\n",
       "        vertical-align: top;\n",
       "    }\n",
       "\n",
       "    .dataframe thead th {\n",
       "        text-align: right;\n",
       "    }\n",
       "</style>\n",
       "<table border=\"1\" class=\"dataframe\">\n",
       "  <thead>\n",
       "    <tr style=\"text-align: right;\">\n",
       "      <th></th>\n",
       "      <th>journey</th>\n",
       "      <th>conversion_flg</th>\n",
       "      <th>counts</th>\n",
       "      <th>journey_length</th>\n",
       "      <th>step_1</th>\n",
       "      <th>step_2</th>\n",
       "      <th>step_3</th>\n",
       "      <th>step_4</th>\n",
       "      <th>step_5</th>\n",
       "      <th>step_6</th>\n",
       "      <th>step_7</th>\n",
       "    </tr>\n",
       "  </thead>\n",
       "  <tbody>\n",
       "    <tr>\n",
       "      <th>0</th>\n",
       "      <td>viewed_favourite_store &gt; Menu &gt; added_item &gt; C...</td>\n",
       "      <td>True</td>\n",
       "      <td>1788</td>\n",
       "      <td>4</td>\n",
       "      <td>viewed_favourite_store</td>\n",
       "      <td>Menu</td>\n",
       "      <td>added_item</td>\n",
       "      <td>CheckoutViewController</td>\n",
       "      <td>Journey End</td>\n",
       "      <td>NaN</td>\n",
       "      <td>NaN</td>\n",
       "    </tr>\n",
       "    <tr>\n",
       "      <th>2</th>\n",
       "      <td>Menu &gt; added_item &gt; CheckoutViewController &gt; J...</td>\n",
       "      <td>True</td>\n",
       "      <td>1490</td>\n",
       "      <td>3</td>\n",
       "      <td>Menu</td>\n",
       "      <td>added_item</td>\n",
       "      <td>CheckoutViewController</td>\n",
       "      <td>Journey End</td>\n",
       "      <td>NaN</td>\n",
       "      <td>NaN</td>\n",
       "      <td>NaN</td>\n",
       "    </tr>\n",
       "    <tr>\n",
       "      <th>3</th>\n",
       "      <td>Menu &gt; added_item &gt; CheckoutActivity &gt; Journey...</td>\n",
       "      <td>True</td>\n",
       "      <td>1462</td>\n",
       "      <td>3</td>\n",
       "      <td>Menu</td>\n",
       "      <td>added_item</td>\n",
       "      <td>CheckoutActivity</td>\n",
       "      <td>Journey End</td>\n",
       "      <td>NaN</td>\n",
       "      <td>NaN</td>\n",
       "      <td>NaN</td>\n",
       "    </tr>\n",
       "    <tr>\n",
       "      <th>4</th>\n",
       "      <td>viewed_favourite_store &gt; Menu &gt; added_item &gt; M...</td>\n",
       "      <td>True</td>\n",
       "      <td>945</td>\n",
       "      <td>6</td>\n",
       "      <td>viewed_favourite_store</td>\n",
       "      <td>Menu</td>\n",
       "      <td>added_item</td>\n",
       "      <td>Menu</td>\n",
       "      <td>added_item</td>\n",
       "      <td>CheckoutViewController</td>\n",
       "      <td>Journey End</td>\n",
       "    </tr>\n",
       "    <tr>\n",
       "      <th>5</th>\n",
       "      <td>viewed_favourite_store &gt; added_item &gt; Checkout...</td>\n",
       "      <td>True</td>\n",
       "      <td>932</td>\n",
       "      <td>3</td>\n",
       "      <td>viewed_favourite_store</td>\n",
       "      <td>added_item</td>\n",
       "      <td>CheckoutViewController</td>\n",
       "      <td>Journey End</td>\n",
       "      <td>NaN</td>\n",
       "      <td>NaN</td>\n",
       "      <td>NaN</td>\n",
       "    </tr>\n",
       "    <tr>\n",
       "      <th>6</th>\n",
       "      <td>Menu &gt; added_item &gt; Menu &gt; added_item &gt; Checko...</td>\n",
       "      <td>True</td>\n",
       "      <td>830</td>\n",
       "      <td>5</td>\n",
       "      <td>Menu</td>\n",
       "      <td>added_item</td>\n",
       "      <td>Menu</td>\n",
       "      <td>added_item</td>\n",
       "      <td>CheckoutActivity</td>\n",
       "      <td>Journey End</td>\n",
       "      <td>NaN</td>\n",
       "    </tr>\n",
       "    <tr>\n",
       "      <th>9</th>\n",
       "      <td>Menu &gt; added_item &gt; Menu &gt; added_item &gt; Checko...</td>\n",
       "      <td>True</td>\n",
       "      <td>698</td>\n",
       "      <td>5</td>\n",
       "      <td>Menu</td>\n",
       "      <td>added_item</td>\n",
       "      <td>Menu</td>\n",
       "      <td>added_item</td>\n",
       "      <td>CheckoutViewController</td>\n",
       "      <td>Journey End</td>\n",
       "      <td>NaN</td>\n",
       "    </tr>\n",
       "    <tr>\n",
       "      <th>11</th>\n",
       "      <td>viewed_favourite_store &gt; Appetizers &gt; added_it...</td>\n",
       "      <td>True</td>\n",
       "      <td>602</td>\n",
       "      <td>4</td>\n",
       "      <td>viewed_favourite_store</td>\n",
       "      <td>Appetizers</td>\n",
       "      <td>added_item</td>\n",
       "      <td>CheckoutViewController</td>\n",
       "      <td>Journey End</td>\n",
       "      <td>NaN</td>\n",
       "      <td>NaN</td>\n",
       "    </tr>\n",
       "    <tr>\n",
       "      <th>12</th>\n",
       "      <td>Appetizers &gt; added_item &gt; CheckoutViewControll...</td>\n",
       "      <td>True</td>\n",
       "      <td>492</td>\n",
       "      <td>3</td>\n",
       "      <td>Appetizers</td>\n",
       "      <td>added_item</td>\n",
       "      <td>CheckoutViewController</td>\n",
       "      <td>Journey End</td>\n",
       "      <td>NaN</td>\n",
       "      <td>NaN</td>\n",
       "      <td>NaN</td>\n",
       "    </tr>\n",
       "    <tr>\n",
       "      <th>13</th>\n",
       "      <td>Appetizers &gt; added_item &gt; CheckoutActivity &gt; J...</td>\n",
       "      <td>True</td>\n",
       "      <td>421</td>\n",
       "      <td>3</td>\n",
       "      <td>Appetizers</td>\n",
       "      <td>added_item</td>\n",
       "      <td>CheckoutActivity</td>\n",
       "      <td>Journey End</td>\n",
       "      <td>NaN</td>\n",
       "      <td>NaN</td>\n",
       "      <td>NaN</td>\n",
       "    </tr>\n",
       "  </tbody>\n",
       "</table>\n",
       "</div>"
      ],
      "text/plain": [
       "                                              journey  conversion_flg  counts  \\\n",
       "0   viewed_favourite_store > Menu > added_item > C...            True    1788   \n",
       "2   Menu > added_item > CheckoutViewController > J...            True    1490   \n",
       "3   Menu > added_item > CheckoutActivity > Journey...            True    1462   \n",
       "4   viewed_favourite_store > Menu > added_item > M...            True     945   \n",
       "5   viewed_favourite_store > added_item > Checkout...            True     932   \n",
       "6   Menu > added_item > Menu > added_item > Checko...            True     830   \n",
       "9   Menu > added_item > Menu > added_item > Checko...            True     698   \n",
       "11  viewed_favourite_store > Appetizers > added_it...            True     602   \n",
       "12  Appetizers > added_item > CheckoutViewControll...            True     492   \n",
       "13  Appetizers > added_item > CheckoutActivity > J...            True     421   \n",
       "\n",
       "    journey_length                  step_1      step_2  \\\n",
       "0                4  viewed_favourite_store        Menu   \n",
       "2                3                    Menu  added_item   \n",
       "3                3                    Menu  added_item   \n",
       "4                6  viewed_favourite_store        Menu   \n",
       "5                3  viewed_favourite_store  added_item   \n",
       "6                5                    Menu  added_item   \n",
       "9                5                    Menu  added_item   \n",
       "11               4  viewed_favourite_store  Appetizers   \n",
       "12               3              Appetizers  added_item   \n",
       "13               3              Appetizers  added_item   \n",
       "\n",
       "                    step_3                  step_4                  step_5  \\\n",
       "0               added_item  CheckoutViewController             Journey End   \n",
       "2   CheckoutViewController             Journey End                     NaN   \n",
       "3         CheckoutActivity             Journey End                     NaN   \n",
       "4               added_item                    Menu              added_item   \n",
       "5   CheckoutViewController             Journey End                     NaN   \n",
       "6                     Menu              added_item        CheckoutActivity   \n",
       "9                     Menu              added_item  CheckoutViewController   \n",
       "11              added_item  CheckoutViewController             Journey End   \n",
       "12  CheckoutViewController             Journey End                     NaN   \n",
       "13        CheckoutActivity             Journey End                     NaN   \n",
       "\n",
       "                    step_6       step_7  \n",
       "0                      NaN          NaN  \n",
       "2                      NaN          NaN  \n",
       "3                      NaN          NaN  \n",
       "4   CheckoutViewController  Journey End  \n",
       "5                      NaN          NaN  \n",
       "6              Journey End          NaN  \n",
       "9              Journey End          NaN  \n",
       "11                     NaN          NaN  \n",
       "12                     NaN          NaN  \n",
       "13                     NaN          NaN  "
      ]
     },
     "execution_count": 94,
     "metadata": {},
     "output_type": "execute_result"
    }
   ],
   "source": [
    "df_filtered"
   ]
  },
  {
   "cell_type": "code",
   "execution_count": 95,
   "id": "49eaa08a",
   "metadata": {},
   "outputs": [
    {
     "data": {
      "application/vnd.plotly.v1+json": {
       "config": {
        "plotlyServerURL": "https://plot.ly"
       },
       "data": [
        {
         "arrangement": "freeform",
         "link": {
          "color": [
           "rgba(255, 177, 255, 0.3)",
           "rgba(142, 231, 255, 0.3)",
           "rgba(128, 68, 123, 0.3)",
           "rgba(53, 41, 127, 0.3)",
           "rgba(142, 140, 153, 0.3)",
           "rgba(142, 140, 153, 0.3)",
           "rgba(142, 140, 153, 0.3)",
           "rgba(244, 14, 164, 0.3)",
           "rgba(244, 14, 164, 0.3)",
           "rgba(244, 14, 164, 0.3)"
          ],
          "source": [
           6,
           5,
           3,
           1,
           0,
           0,
           0,
           4,
           4,
           4
          ],
          "target": [
           0,
           2,
           2,
           0,
           5,
           3,
           1,
           6,
           1,
           0
          ],
          "value": [
           1515,
           2713,
           6947,
           9686,
           2713,
           6947,
           2473,
           602,
           2733,
           932
          ]
         },
         "node": {
          "color": [
           "rgba(142, 140, 153, 0.9)",
           "rgba(53, 41, 127, 0.9)",
           "rgba(45, 27, 181, 0.9)",
           "rgba(128, 68, 123, 0.9)",
           "rgba(244, 14, 164, 0.9)",
           "rgba(142, 231, 255, 0.9)",
           "rgba(255, 177, 255, 0.9)"
          ],
          "label": [
           "added_item",
           "Menu",
           "Journey End",
           "CheckoutViewController",
           "viewed_favourite_store",
           "CheckoutActivity",
           "Appetizers"
          ],
          "line": {
           "color": "gray",
           "width": 0
          },
          "pad": 30,
          "thickness": 20
         },
         "type": "sankey",
         "valueformat": ".0f"
        }
       ],
       "layout": {
        "template": {
         "data": {
          "bar": [
           {
            "error_x": {
             "color": "#2a3f5f"
            },
            "error_y": {
             "color": "#2a3f5f"
            },
            "marker": {
             "line": {
              "color": "#E5ECF6",
              "width": 0.5
             },
             "pattern": {
              "fillmode": "overlay",
              "size": 10,
              "solidity": 0.2
             }
            },
            "type": "bar"
           }
          ],
          "barpolar": [
           {
            "marker": {
             "line": {
              "color": "#E5ECF6",
              "width": 0.5
             },
             "pattern": {
              "fillmode": "overlay",
              "size": 10,
              "solidity": 0.2
             }
            },
            "type": "barpolar"
           }
          ],
          "carpet": [
           {
            "aaxis": {
             "endlinecolor": "#2a3f5f",
             "gridcolor": "white",
             "linecolor": "white",
             "minorgridcolor": "white",
             "startlinecolor": "#2a3f5f"
            },
            "baxis": {
             "endlinecolor": "#2a3f5f",
             "gridcolor": "white",
             "linecolor": "white",
             "minorgridcolor": "white",
             "startlinecolor": "#2a3f5f"
            },
            "type": "carpet"
           }
          ],
          "choropleth": [
           {
            "colorbar": {
             "outlinewidth": 0,
             "ticks": ""
            },
            "type": "choropleth"
           }
          ],
          "contour": [
           {
            "colorbar": {
             "outlinewidth": 0,
             "ticks": ""
            },
            "colorscale": [
             [
              0,
              "#0d0887"
             ],
             [
              0.1111111111111111,
              "#46039f"
             ],
             [
              0.2222222222222222,
              "#7201a8"
             ],
             [
              0.3333333333333333,
              "#9c179e"
             ],
             [
              0.4444444444444444,
              "#bd3786"
             ],
             [
              0.5555555555555556,
              "#d8576b"
             ],
             [
              0.6666666666666666,
              "#ed7953"
             ],
             [
              0.7777777777777778,
              "#fb9f3a"
             ],
             [
              0.8888888888888888,
              "#fdca26"
             ],
             [
              1,
              "#f0f921"
             ]
            ],
            "type": "contour"
           }
          ],
          "contourcarpet": [
           {
            "colorbar": {
             "outlinewidth": 0,
             "ticks": ""
            },
            "type": "contourcarpet"
           }
          ],
          "heatmap": [
           {
            "colorbar": {
             "outlinewidth": 0,
             "ticks": ""
            },
            "colorscale": [
             [
              0,
              "#0d0887"
             ],
             [
              0.1111111111111111,
              "#46039f"
             ],
             [
              0.2222222222222222,
              "#7201a8"
             ],
             [
              0.3333333333333333,
              "#9c179e"
             ],
             [
              0.4444444444444444,
              "#bd3786"
             ],
             [
              0.5555555555555556,
              "#d8576b"
             ],
             [
              0.6666666666666666,
              "#ed7953"
             ],
             [
              0.7777777777777778,
              "#fb9f3a"
             ],
             [
              0.8888888888888888,
              "#fdca26"
             ],
             [
              1,
              "#f0f921"
             ]
            ],
            "type": "heatmap"
           }
          ],
          "heatmapgl": [
           {
            "colorbar": {
             "outlinewidth": 0,
             "ticks": ""
            },
            "colorscale": [
             [
              0,
              "#0d0887"
             ],
             [
              0.1111111111111111,
              "#46039f"
             ],
             [
              0.2222222222222222,
              "#7201a8"
             ],
             [
              0.3333333333333333,
              "#9c179e"
             ],
             [
              0.4444444444444444,
              "#bd3786"
             ],
             [
              0.5555555555555556,
              "#d8576b"
             ],
             [
              0.6666666666666666,
              "#ed7953"
             ],
             [
              0.7777777777777778,
              "#fb9f3a"
             ],
             [
              0.8888888888888888,
              "#fdca26"
             ],
             [
              1,
              "#f0f921"
             ]
            ],
            "type": "heatmapgl"
           }
          ],
          "histogram": [
           {
            "marker": {
             "pattern": {
              "fillmode": "overlay",
              "size": 10,
              "solidity": 0.2
             }
            },
            "type": "histogram"
           }
          ],
          "histogram2d": [
           {
            "colorbar": {
             "outlinewidth": 0,
             "ticks": ""
            },
            "colorscale": [
             [
              0,
              "#0d0887"
             ],
             [
              0.1111111111111111,
              "#46039f"
             ],
             [
              0.2222222222222222,
              "#7201a8"
             ],
             [
              0.3333333333333333,
              "#9c179e"
             ],
             [
              0.4444444444444444,
              "#bd3786"
             ],
             [
              0.5555555555555556,
              "#d8576b"
             ],
             [
              0.6666666666666666,
              "#ed7953"
             ],
             [
              0.7777777777777778,
              "#fb9f3a"
             ],
             [
              0.8888888888888888,
              "#fdca26"
             ],
             [
              1,
              "#f0f921"
             ]
            ],
            "type": "histogram2d"
           }
          ],
          "histogram2dcontour": [
           {
            "colorbar": {
             "outlinewidth": 0,
             "ticks": ""
            },
            "colorscale": [
             [
              0,
              "#0d0887"
             ],
             [
              0.1111111111111111,
              "#46039f"
             ],
             [
              0.2222222222222222,
              "#7201a8"
             ],
             [
              0.3333333333333333,
              "#9c179e"
             ],
             [
              0.4444444444444444,
              "#bd3786"
             ],
             [
              0.5555555555555556,
              "#d8576b"
             ],
             [
              0.6666666666666666,
              "#ed7953"
             ],
             [
              0.7777777777777778,
              "#fb9f3a"
             ],
             [
              0.8888888888888888,
              "#fdca26"
             ],
             [
              1,
              "#f0f921"
             ]
            ],
            "type": "histogram2dcontour"
           }
          ],
          "mesh3d": [
           {
            "colorbar": {
             "outlinewidth": 0,
             "ticks": ""
            },
            "type": "mesh3d"
           }
          ],
          "parcoords": [
           {
            "line": {
             "colorbar": {
              "outlinewidth": 0,
              "ticks": ""
             }
            },
            "type": "parcoords"
           }
          ],
          "pie": [
           {
            "automargin": true,
            "type": "pie"
           }
          ],
          "scatter": [
           {
            "fillpattern": {
             "fillmode": "overlay",
             "size": 10,
             "solidity": 0.2
            },
            "type": "scatter"
           }
          ],
          "scatter3d": [
           {
            "line": {
             "colorbar": {
              "outlinewidth": 0,
              "ticks": ""
             }
            },
            "marker": {
             "colorbar": {
              "outlinewidth": 0,
              "ticks": ""
             }
            },
            "type": "scatter3d"
           }
          ],
          "scattercarpet": [
           {
            "marker": {
             "colorbar": {
              "outlinewidth": 0,
              "ticks": ""
             }
            },
            "type": "scattercarpet"
           }
          ],
          "scattergeo": [
           {
            "marker": {
             "colorbar": {
              "outlinewidth": 0,
              "ticks": ""
             }
            },
            "type": "scattergeo"
           }
          ],
          "scattergl": [
           {
            "marker": {
             "colorbar": {
              "outlinewidth": 0,
              "ticks": ""
             }
            },
            "type": "scattergl"
           }
          ],
          "scattermapbox": [
           {
            "marker": {
             "colorbar": {
              "outlinewidth": 0,
              "ticks": ""
             }
            },
            "type": "scattermapbox"
           }
          ],
          "scatterpolar": [
           {
            "marker": {
             "colorbar": {
              "outlinewidth": 0,
              "ticks": ""
             }
            },
            "type": "scatterpolar"
           }
          ],
          "scatterpolargl": [
           {
            "marker": {
             "colorbar": {
              "outlinewidth": 0,
              "ticks": ""
             }
            },
            "type": "scatterpolargl"
           }
          ],
          "scatterternary": [
           {
            "marker": {
             "colorbar": {
              "outlinewidth": 0,
              "ticks": ""
             }
            },
            "type": "scatterternary"
           }
          ],
          "surface": [
           {
            "colorbar": {
             "outlinewidth": 0,
             "ticks": ""
            },
            "colorscale": [
             [
              0,
              "#0d0887"
             ],
             [
              0.1111111111111111,
              "#46039f"
             ],
             [
              0.2222222222222222,
              "#7201a8"
             ],
             [
              0.3333333333333333,
              "#9c179e"
             ],
             [
              0.4444444444444444,
              "#bd3786"
             ],
             [
              0.5555555555555556,
              "#d8576b"
             ],
             [
              0.6666666666666666,
              "#ed7953"
             ],
             [
              0.7777777777777778,
              "#fb9f3a"
             ],
             [
              0.8888888888888888,
              "#fdca26"
             ],
             [
              1,
              "#f0f921"
             ]
            ],
            "type": "surface"
           }
          ],
          "table": [
           {
            "cells": {
             "fill": {
              "color": "#EBF0F8"
             },
             "line": {
              "color": "white"
             }
            },
            "header": {
             "fill": {
              "color": "#C8D4E3"
             },
             "line": {
              "color": "white"
             }
            },
            "type": "table"
           }
          ]
         },
         "layout": {
          "annotationdefaults": {
           "arrowcolor": "#2a3f5f",
           "arrowhead": 0,
           "arrowwidth": 1
          },
          "autotypenumbers": "strict",
          "coloraxis": {
           "colorbar": {
            "outlinewidth": 0,
            "ticks": ""
           }
          },
          "colorscale": {
           "diverging": [
            [
             0,
             "#8e0152"
            ],
            [
             0.1,
             "#c51b7d"
            ],
            [
             0.2,
             "#de77ae"
            ],
            [
             0.3,
             "#f1b6da"
            ],
            [
             0.4,
             "#fde0ef"
            ],
            [
             0.5,
             "#f7f7f7"
            ],
            [
             0.6,
             "#e6f5d0"
            ],
            [
             0.7,
             "#b8e186"
            ],
            [
             0.8,
             "#7fbc41"
            ],
            [
             0.9,
             "#4d9221"
            ],
            [
             1,
             "#276419"
            ]
           ],
           "sequential": [
            [
             0,
             "#0d0887"
            ],
            [
             0.1111111111111111,
             "#46039f"
            ],
            [
             0.2222222222222222,
             "#7201a8"
            ],
            [
             0.3333333333333333,
             "#9c179e"
            ],
            [
             0.4444444444444444,
             "#bd3786"
            ],
            [
             0.5555555555555556,
             "#d8576b"
            ],
            [
             0.6666666666666666,
             "#ed7953"
            ],
            [
             0.7777777777777778,
             "#fb9f3a"
            ],
            [
             0.8888888888888888,
             "#fdca26"
            ],
            [
             1,
             "#f0f921"
            ]
           ],
           "sequentialminus": [
            [
             0,
             "#0d0887"
            ],
            [
             0.1111111111111111,
             "#46039f"
            ],
            [
             0.2222222222222222,
             "#7201a8"
            ],
            [
             0.3333333333333333,
             "#9c179e"
            ],
            [
             0.4444444444444444,
             "#bd3786"
            ],
            [
             0.5555555555555556,
             "#d8576b"
            ],
            [
             0.6666666666666666,
             "#ed7953"
            ],
            [
             0.7777777777777778,
             "#fb9f3a"
            ],
            [
             0.8888888888888888,
             "#fdca26"
            ],
            [
             1,
             "#f0f921"
            ]
           ]
          },
          "colorway": [
           "#636efa",
           "#EF553B",
           "#00cc96",
           "#ab63fa",
           "#FFA15A",
           "#19d3f3",
           "#FF6692",
           "#B6E880",
           "#FF97FF",
           "#FECB52"
          ],
          "font": {
           "color": "#2a3f5f"
          },
          "geo": {
           "bgcolor": "white",
           "lakecolor": "white",
           "landcolor": "#E5ECF6",
           "showlakes": true,
           "showland": true,
           "subunitcolor": "white"
          },
          "hoverlabel": {
           "align": "left"
          },
          "hovermode": "closest",
          "mapbox": {
           "style": "light"
          },
          "paper_bgcolor": "white",
          "plot_bgcolor": "#E5ECF6",
          "polar": {
           "angularaxis": {
            "gridcolor": "white",
            "linecolor": "white",
            "ticks": ""
           },
           "bgcolor": "#E5ECF6",
           "radialaxis": {
            "gridcolor": "white",
            "linecolor": "white",
            "ticks": ""
           }
          },
          "scene": {
           "xaxis": {
            "backgroundcolor": "#E5ECF6",
            "gridcolor": "white",
            "gridwidth": 2,
            "linecolor": "white",
            "showbackground": true,
            "ticks": "",
            "zerolinecolor": "white"
           },
           "yaxis": {
            "backgroundcolor": "#E5ECF6",
            "gridcolor": "white",
            "gridwidth": 2,
            "linecolor": "white",
            "showbackground": true,
            "ticks": "",
            "zerolinecolor": "white"
           },
           "zaxis": {
            "backgroundcolor": "#E5ECF6",
            "gridcolor": "white",
            "gridwidth": 2,
            "linecolor": "white",
            "showbackground": true,
            "ticks": "",
            "zerolinecolor": "white"
           }
          },
          "shapedefaults": {
           "line": {
            "color": "#2a3f5f"
           }
          },
          "ternary": {
           "aaxis": {
            "gridcolor": "white",
            "linecolor": "white",
            "ticks": ""
           },
           "baxis": {
            "gridcolor": "white",
            "linecolor": "white",
            "ticks": ""
           },
           "bgcolor": "#E5ECF6",
           "caxis": {
            "gridcolor": "white",
            "linecolor": "white",
            "ticks": ""
           }
          },
          "title": {
           "x": 0.05
          },
          "xaxis": {
           "automargin": true,
           "gridcolor": "white",
           "linecolor": "white",
           "ticks": "",
           "title": {
            "standoff": 15
           },
           "zerolinecolor": "white",
           "zerolinewidth": 2
          },
          "yaxis": {
           "automargin": true,
           "gridcolor": "white",
           "linecolor": "white",
           "ticks": "",
           "title": {
            "standoff": 15
           },
           "zerolinecolor": "white",
           "zerolinewidth": 2
          }
         }
        }
       }
      }
     },
     "metadata": {},
     "output_type": "display_data"
    }
   ],
   "source": [
    "ga4_user_pathing.display_sankey(df_sankey, df_index, count_field=COUNT_FIELD, link_opacity=.3)"
   ]
  },
  {
   "cell_type": "code",
   "execution_count": null,
   "id": "e33a5c29",
   "metadata": {},
   "outputs": [],
   "source": []
  }
 ],
 "metadata": {
  "kernelspec": {
   "display_name": "Python 3.10.6 ('AB_env')",
   "language": "python",
   "name": "python3"
  },
  "language_info": {
   "codemirror_mode": {
    "name": "ipython",
    "version": 3
   },
   "file_extension": ".py",
   "mimetype": "text/x-python",
   "name": "python",
   "nbconvert_exporter": "python",
   "pygments_lexer": "ipython3",
   "version": "3.10.6"
  },
  "vscode": {
   "interpreter": {
    "hash": "1715eaea815ea25ab3b4a92e6654dade22b28061a52cf2c7cf8726228fe01ed8"
   }
  }
 },
 "nbformat": 4,
 "nbformat_minor": 5
}

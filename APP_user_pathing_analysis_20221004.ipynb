{
 "cells": [
  {
   "cell_type": "code",
   "execution_count": 50,
   "id": "0dea5d3e",
   "metadata": {},
   "outputs": [],
   "source": [
    "#Script created by Neha on 2022-10-04\n",
    "#Script is designed to analyze Applebees Site traffic analysis on APP only\n",
    "#Github repo: https://github.com/matt-walentosky-bt/applebees_user_pathing_analysis"
   ]
  },
  {
   "cell_type": "code",
   "execution_count": 1,
   "id": "0c0419ec",
   "metadata": {},
   "outputs": [],
   "source": [
    "#Import desired packages\n",
    "import ga4_user_pathing\n",
    "import pandas as pd\n",
    "import os"
   ]
  },
  {
   "cell_type": "code",
   "execution_count": 2,
   "id": "ef8966e2",
   "metadata": {},
   "outputs": [],
   "source": [
    "#Parameters from Tyler Norris / Vanessa Schneider\n",
    "# Globals:\n",
    "COUNT_FIELD = 'counts' # DF fields references to aggregations value (users, sessions)\n",
    "NODE_OPACITY = .9\n",
    "LINK_OPACITY = .6\n",
    "SEP_VAL = ' > '\n",
    "KEY_PATH = '/Users/vanessaschneider/keys/dse-chase-user-pathing.json'"
   ]
  },
  {
   "cell_type": "code",
   "execution_count": 3,
   "id": "dcc94cf0",
   "metadata": {},
   "outputs": [
    {
     "data": {
      "text/plain": [
       "'/Users/nehakhatri/Documents/GitHub/applebees_user_pathing_analysis'"
      ]
     },
     "execution_count": 3,
     "metadata": {},
     "output_type": "execute_result"
    }
   ],
   "source": [
    "#Get working directory\n",
    "os.getcwd()"
   ]
  },
  {
   "cell_type": "code",
   "execution_count": 4,
   "id": "f952a10c",
   "metadata": {},
   "outputs": [],
   "source": [
    "#Read desired document\n",
    "conversion_status = True\n",
    "\n",
    "if conversion_status == True:\n",
    "    df = pd.read_csv(\"APP_converters_user_pathing.csv\")\n",
    "else:\n",
    "    df = pd.read_csv(\"APP_non_converters_user_pathing.csv\")\n",
    "    \n",
    "#Note, we can only pull fraction of data from BQ into CSV format   "
   ]
  },
  {
   "cell_type": "code",
   "execution_count": 5,
   "id": "01f01a1b",
   "metadata": {},
   "outputs": [
    {
     "name": "stdout",
     "output_type": "stream",
     "text": [
      "(9397, 3)\n",
      "----\n",
      "                                             journey  conversion_flg  counts\n",
      "0  StoreTableViewController > GuidedMenuViewContr...            True    1052\n",
      "1  GuidedMenuViewController > Entrees > GuestChec...            True     754\n",
      "2  StoreTableViewController > GuidedMenuViewContr...            True     625\n",
      "3  StoreTableViewController > GuidedMenuViewContr...            True     624\n",
      "4      BasketViewController > CheckoutViewController            True     557\n"
     ]
    }
   ],
   "source": [
    "print(df.shape)\n",
    "print(\"----\")\n",
    "print(df.head())"
   ]
  },
  {
   "cell_type": "code",
   "execution_count": 6,
   "id": "e38cd963",
   "metadata": {},
   "outputs": [],
   "source": [
    "df['journey_length'] = df.apply(lambda x: len(x['journey'].split(SEP_VAL)), axis=1)"
   ]
  },
  {
   "cell_type": "code",
   "execution_count": 7,
   "id": "38051257",
   "metadata": {},
   "outputs": [
    {
     "data": {
      "text/html": [
       "<div>\n",
       "<style scoped>\n",
       "    .dataframe tbody tr th:only-of-type {\n",
       "        vertical-align: middle;\n",
       "    }\n",
       "\n",
       "    .dataframe tbody tr th {\n",
       "        vertical-align: top;\n",
       "    }\n",
       "\n",
       "    .dataframe thead th {\n",
       "        text-align: right;\n",
       "    }\n",
       "</style>\n",
       "<table border=\"1\" class=\"dataframe\">\n",
       "  <thead>\n",
       "    <tr style=\"text-align: right;\">\n",
       "      <th></th>\n",
       "      <th>counts</th>\n",
       "      <th>journey_length</th>\n",
       "    </tr>\n",
       "  </thead>\n",
       "  <tbody>\n",
       "    <tr>\n",
       "      <th>count</th>\n",
       "      <td>9397.000000</td>\n",
       "      <td>9397.000000</td>\n",
       "    </tr>\n",
       "    <tr>\n",
       "      <th>mean</th>\n",
       "      <td>3.020964</td>\n",
       "      <td>14.726828</td>\n",
       "    </tr>\n",
       "    <tr>\n",
       "      <th>std</th>\n",
       "      <td>22.021538</td>\n",
       "      <td>6.525744</td>\n",
       "    </tr>\n",
       "    <tr>\n",
       "      <th>min</th>\n",
       "      <td>1.000000</td>\n",
       "      <td>1.000000</td>\n",
       "    </tr>\n",
       "    <tr>\n",
       "      <th>25%</th>\n",
       "      <td>1.000000</td>\n",
       "      <td>11.000000</td>\n",
       "    </tr>\n",
       "    <tr>\n",
       "      <th>50%</th>\n",
       "      <td>1.000000</td>\n",
       "      <td>13.000000</td>\n",
       "    </tr>\n",
       "    <tr>\n",
       "      <th>75%</th>\n",
       "      <td>1.000000</td>\n",
       "      <td>17.000000</td>\n",
       "    </tr>\n",
       "    <tr>\n",
       "      <th>max</th>\n",
       "      <td>1052.000000</td>\n",
       "      <td>88.000000</td>\n",
       "    </tr>\n",
       "  </tbody>\n",
       "</table>\n",
       "</div>"
      ],
      "text/plain": [
       "            counts  journey_length\n",
       "count  9397.000000     9397.000000\n",
       "mean      3.020964       14.726828\n",
       "std      22.021538        6.525744\n",
       "min       1.000000        1.000000\n",
       "25%       1.000000       11.000000\n",
       "50%       1.000000       13.000000\n",
       "75%       1.000000       17.000000\n",
       "max    1052.000000       88.000000"
      ]
     },
     "execution_count": 7,
     "metadata": {},
     "output_type": "execute_result"
    }
   ],
   "source": [
    "df.describe()"
   ]
  },
  {
   "cell_type": "code",
   "execution_count": 8,
   "id": "858686cf",
   "metadata": {},
   "outputs": [
    {
     "data": {
      "text/html": [
       "<div>\n",
       "<style scoped>\n",
       "    .dataframe tbody tr th:only-of-type {\n",
       "        vertical-align: middle;\n",
       "    }\n",
       "\n",
       "    .dataframe tbody tr th {\n",
       "        vertical-align: top;\n",
       "    }\n",
       "\n",
       "    .dataframe thead th {\n",
       "        text-align: right;\n",
       "    }\n",
       "</style>\n",
       "<table border=\"1\" class=\"dataframe\">\n",
       "  <thead>\n",
       "    <tr style=\"text-align: right;\">\n",
       "      <th></th>\n",
       "      <th>journey</th>\n",
       "      <th>conversion_flg</th>\n",
       "      <th>counts</th>\n",
       "      <th>journey_length</th>\n",
       "    </tr>\n",
       "  </thead>\n",
       "  <tbody>\n",
       "    <tr>\n",
       "      <th>0</th>\n",
       "      <td>StoreTableViewController &gt; GuidedMenuViewContr...</td>\n",
       "      <td>True</td>\n",
       "      <td>1052</td>\n",
       "      <td>5</td>\n",
       "    </tr>\n",
       "    <tr>\n",
       "      <th>1</th>\n",
       "      <td>GuidedMenuViewController &gt; Entrees &gt; GuestChec...</td>\n",
       "      <td>True</td>\n",
       "      <td>754</td>\n",
       "      <td>4</td>\n",
       "    </tr>\n",
       "    <tr>\n",
       "      <th>2</th>\n",
       "      <td>StoreTableViewController &gt; GuidedMenuViewContr...</td>\n",
       "      <td>True</td>\n",
       "      <td>625</td>\n",
       "      <td>4</td>\n",
       "    </tr>\n",
       "    <tr>\n",
       "      <th>3</th>\n",
       "      <td>StoreTableViewController &gt; GuidedMenuViewContr...</td>\n",
       "      <td>True</td>\n",
       "      <td>624</td>\n",
       "      <td>7</td>\n",
       "    </tr>\n",
       "    <tr>\n",
       "      <th>4</th>\n",
       "      <td>BasketViewController &gt; CheckoutViewController</td>\n",
       "      <td>True</td>\n",
       "      <td>557</td>\n",
       "      <td>2</td>\n",
       "    </tr>\n",
       "    <tr>\n",
       "      <th>5</th>\n",
       "      <td>GuidedMenuViewController &gt; GuestCheckoutTableV...</td>\n",
       "      <td>True</td>\n",
       "      <td>502</td>\n",
       "      <td>3</td>\n",
       "    </tr>\n",
       "    <tr>\n",
       "      <th>6</th>\n",
       "      <td>GuidedMenuViewController &gt; Entrees &gt; GuidedMen...</td>\n",
       "      <td>True</td>\n",
       "      <td>394</td>\n",
       "      <td>6</td>\n",
       "    </tr>\n",
       "    <tr>\n",
       "      <th>7</th>\n",
       "      <td>StoreTableViewController &gt; GuidedMenuViewContr...</td>\n",
       "      <td>True</td>\n",
       "      <td>392</td>\n",
       "      <td>5</td>\n",
       "    </tr>\n",
       "    <tr>\n",
       "      <th>8</th>\n",
       "      <td>GuestCheckoutTableViewController &gt; CheckoutVie...</td>\n",
       "      <td>True</td>\n",
       "      <td>314</td>\n",
       "      <td>2</td>\n",
       "    </tr>\n",
       "    <tr>\n",
       "      <th>9</th>\n",
       "      <td>GuidedMenuViewController &gt; Entrees &gt; BasketVie...</td>\n",
       "      <td>True</td>\n",
       "      <td>310</td>\n",
       "      <td>4</td>\n",
       "    </tr>\n",
       "    <tr>\n",
       "      <th>10</th>\n",
       "      <td>GuidedMenuViewController &gt; Appetizers &gt; GuestC...</td>\n",
       "      <td>True</td>\n",
       "      <td>289</td>\n",
       "      <td>4</td>\n",
       "    </tr>\n",
       "    <tr>\n",
       "      <th>11</th>\n",
       "      <td>StoreTableViewController &gt; GuidedMenuViewContr...</td>\n",
       "      <td>True</td>\n",
       "      <td>280</td>\n",
       "      <td>5</td>\n",
       "    </tr>\n",
       "    <tr>\n",
       "      <th>12</th>\n",
       "      <td>StoreTableViewController &gt; GuidedMenuViewContr...</td>\n",
       "      <td>True</td>\n",
       "      <td>245</td>\n",
       "      <td>9</td>\n",
       "    </tr>\n",
       "    <tr>\n",
       "      <th>13</th>\n",
       "      <td>StoreTableViewController &gt; GuidedMenuViewContr...</td>\n",
       "      <td>True</td>\n",
       "      <td>244</td>\n",
       "      <td>7</td>\n",
       "    </tr>\n",
       "    <tr>\n",
       "      <th>14</th>\n",
       "      <td>StoreTableViewController &gt; GuidedMenuViewContr...</td>\n",
       "      <td>True</td>\n",
       "      <td>237</td>\n",
       "      <td>7</td>\n",
       "    </tr>\n",
       "    <tr>\n",
       "      <th>15</th>\n",
       "      <td>GuidedMenuViewController &gt; BasketViewControlle...</td>\n",
       "      <td>True</td>\n",
       "      <td>232</td>\n",
       "      <td>3</td>\n",
       "    </tr>\n",
       "    <tr>\n",
       "      <th>16</th>\n",
       "      <td>StoreTableViewController &gt; GuidedMenuViewContr...</td>\n",
       "      <td>True</td>\n",
       "      <td>231</td>\n",
       "      <td>7</td>\n",
       "    </tr>\n",
       "    <tr>\n",
       "      <th>17</th>\n",
       "      <td>StoreTableViewController &gt; GuidedMenuViewContr...</td>\n",
       "      <td>True</td>\n",
       "      <td>221</td>\n",
       "      <td>4</td>\n",
       "    </tr>\n",
       "    <tr>\n",
       "      <th>18</th>\n",
       "      <td>GuidedMenuViewController &gt; Appetizers &gt; Guided...</td>\n",
       "      <td>True</td>\n",
       "      <td>185</td>\n",
       "      <td>6</td>\n",
       "    </tr>\n",
       "    <tr>\n",
       "      <th>19</th>\n",
       "      <td>StoreTableViewController &gt; GuidedMenuViewContr...</td>\n",
       "      <td>True</td>\n",
       "      <td>183</td>\n",
       "      <td>7</td>\n",
       "    </tr>\n",
       "    <tr>\n",
       "      <th>20</th>\n",
       "      <td>GuidedMenuViewController &gt; Entrees &gt; GuidedMen...</td>\n",
       "      <td>True</td>\n",
       "      <td>178</td>\n",
       "      <td>6</td>\n",
       "    </tr>\n",
       "  </tbody>\n",
       "</table>\n",
       "</div>"
      ],
      "text/plain": [
       "                                              journey  conversion_flg  counts  \\\n",
       "0   StoreTableViewController > GuidedMenuViewContr...            True    1052   \n",
       "1   GuidedMenuViewController > Entrees > GuestChec...            True     754   \n",
       "2   StoreTableViewController > GuidedMenuViewContr...            True     625   \n",
       "3   StoreTableViewController > GuidedMenuViewContr...            True     624   \n",
       "4       BasketViewController > CheckoutViewController            True     557   \n",
       "5   GuidedMenuViewController > GuestCheckoutTableV...            True     502   \n",
       "6   GuidedMenuViewController > Entrees > GuidedMen...            True     394   \n",
       "7   StoreTableViewController > GuidedMenuViewContr...            True     392   \n",
       "8   GuestCheckoutTableViewController > CheckoutVie...            True     314   \n",
       "9   GuidedMenuViewController > Entrees > BasketVie...            True     310   \n",
       "10  GuidedMenuViewController > Appetizers > GuestC...            True     289   \n",
       "11  StoreTableViewController > GuidedMenuViewContr...            True     280   \n",
       "12  StoreTableViewController > GuidedMenuViewContr...            True     245   \n",
       "13  StoreTableViewController > GuidedMenuViewContr...            True     244   \n",
       "14  StoreTableViewController > GuidedMenuViewContr...            True     237   \n",
       "15  GuidedMenuViewController > BasketViewControlle...            True     232   \n",
       "16  StoreTableViewController > GuidedMenuViewContr...            True     231   \n",
       "17  StoreTableViewController > GuidedMenuViewContr...            True     221   \n",
       "18  GuidedMenuViewController > Appetizers > Guided...            True     185   \n",
       "19  StoreTableViewController > GuidedMenuViewContr...            True     183   \n",
       "20  GuidedMenuViewController > Entrees > GuidedMen...            True     178   \n",
       "\n",
       "    journey_length  \n",
       "0                5  \n",
       "1                4  \n",
       "2                4  \n",
       "3                7  \n",
       "4                2  \n",
       "5                3  \n",
       "6                6  \n",
       "7                5  \n",
       "8                2  \n",
       "9                4  \n",
       "10               4  \n",
       "11               5  \n",
       "12               9  \n",
       "13               7  \n",
       "14               7  \n",
       "15               3  \n",
       "16               7  \n",
       "17               4  \n",
       "18               6  \n",
       "19               7  \n",
       "20               6  "
      ]
     },
     "execution_count": 8,
     "metadata": {},
     "output_type": "execute_result"
    }
   ],
   "source": [
    "df.head(21)"
   ]
  },
  {
   "cell_type": "code",
   "execution_count": 9,
   "id": "378e7e59",
   "metadata": {},
   "outputs": [
    {
     "data": {
      "text/plain": [
       "<AxesSubplot: >"
      ]
     },
     "execution_count": 9,
     "metadata": {},
     "output_type": "execute_result"
    },
    {
     "data": {
      "image/png": "[encoded data removed]",
      "text/plain": [
       "<Figure size 640x480 with 1 Axes>"
      ]
     },
     "metadata": {},
     "output_type": "display_data"
    }
   ],
   "source": [
    "# Change min journey lenght and number of bins to further explore\n",
    "df[df['journey_length'] > 0]['journey_length'].hist(bins=8)"
   ]
  },
  {
   "cell_type": "code",
   "execution_count": 10,
   "id": "b3f21401",
   "metadata": {},
   "outputs": [
    {
     "data": {
      "text/plain": [
       "<AxesSubplot: >"
      ]
     },
     "execution_count": 10,
     "metadata": {},
     "output_type": "execute_result"
    },
    {
     "data": {
      "image/png": "[encoded data removed]",
      "text/plain": [
       "<Figure size 640x480 with 1 Axes>"
      ]
     },
     "metadata": {},
     "output_type": "display_data"
    }
   ],
   "source": [
    "df[df['journey_length'] > 1]['counts'].hist(bins=30)"
   ]
  },
  {
   "cell_type": "code",
   "execution_count": 11,
   "id": "ccf48692",
   "metadata": {},
   "outputs": [
    {
     "data": {
      "text/html": [
       "<div>\n",
       "<style scoped>\n",
       "    .dataframe tbody tr th:only-of-type {\n",
       "        vertical-align: middle;\n",
       "    }\n",
       "\n",
       "    .dataframe tbody tr th {\n",
       "        vertical-align: top;\n",
       "    }\n",
       "\n",
       "    .dataframe thead th {\n",
       "        text-align: right;\n",
       "    }\n",
       "</style>\n",
       "<table border=\"1\" class=\"dataframe\">\n",
       "  <thead>\n",
       "    <tr style=\"text-align: right;\">\n",
       "      <th></th>\n",
       "      <th>journey</th>\n",
       "      <th>conversion_flg</th>\n",
       "      <th>counts</th>\n",
       "      <th>journey_length</th>\n",
       "    </tr>\n",
       "  </thead>\n",
       "  <tbody>\n",
       "    <tr>\n",
       "      <th>0</th>\n",
       "      <td>StoreTableViewController &gt; GuidedMenuViewContr...</td>\n",
       "      <td>True</td>\n",
       "      <td>1052</td>\n",
       "      <td>5</td>\n",
       "    </tr>\n",
       "    <tr>\n",
       "      <th>1</th>\n",
       "      <td>GuidedMenuViewController &gt; Entrees &gt; GuestChec...</td>\n",
       "      <td>True</td>\n",
       "      <td>754</td>\n",
       "      <td>4</td>\n",
       "    </tr>\n",
       "    <tr>\n",
       "      <th>2</th>\n",
       "      <td>StoreTableViewController &gt; GuidedMenuViewContr...</td>\n",
       "      <td>True</td>\n",
       "      <td>625</td>\n",
       "      <td>4</td>\n",
       "    </tr>\n",
       "    <tr>\n",
       "      <th>3</th>\n",
       "      <td>StoreTableViewController &gt; GuidedMenuViewContr...</td>\n",
       "      <td>True</td>\n",
       "      <td>624</td>\n",
       "      <td>7</td>\n",
       "    </tr>\n",
       "    <tr>\n",
       "      <th>4</th>\n",
       "      <td>BasketViewController &gt; CheckoutViewController</td>\n",
       "      <td>True</td>\n",
       "      <td>557</td>\n",
       "      <td>2</td>\n",
       "    </tr>\n",
       "    <tr>\n",
       "      <th>5</th>\n",
       "      <td>GuidedMenuViewController &gt; GuestCheckoutTableV...</td>\n",
       "      <td>True</td>\n",
       "      <td>502</td>\n",
       "      <td>3</td>\n",
       "    </tr>\n",
       "    <tr>\n",
       "      <th>6</th>\n",
       "      <td>GuidedMenuViewController &gt; Entrees &gt; GuidedMen...</td>\n",
       "      <td>True</td>\n",
       "      <td>394</td>\n",
       "      <td>6</td>\n",
       "    </tr>\n",
       "    <tr>\n",
       "      <th>7</th>\n",
       "      <td>StoreTableViewController &gt; GuidedMenuViewContr...</td>\n",
       "      <td>True</td>\n",
       "      <td>392</td>\n",
       "      <td>5</td>\n",
       "    </tr>\n",
       "    <tr>\n",
       "      <th>8</th>\n",
       "      <td>GuestCheckoutTableViewController &gt; CheckoutVie...</td>\n",
       "      <td>True</td>\n",
       "      <td>314</td>\n",
       "      <td>2</td>\n",
       "    </tr>\n",
       "    <tr>\n",
       "      <th>9</th>\n",
       "      <td>GuidedMenuViewController &gt; Entrees &gt; BasketVie...</td>\n",
       "      <td>True</td>\n",
       "      <td>310</td>\n",
       "      <td>4</td>\n",
       "    </tr>\n",
       "  </tbody>\n",
       "</table>\n",
       "</div>"
      ],
      "text/plain": [
       "                                             journey  conversion_flg  counts  \\\n",
       "0  StoreTableViewController > GuidedMenuViewContr...            True    1052   \n",
       "1  GuidedMenuViewController > Entrees > GuestChec...            True     754   \n",
       "2  StoreTableViewController > GuidedMenuViewContr...            True     625   \n",
       "3  StoreTableViewController > GuidedMenuViewContr...            True     624   \n",
       "4      BasketViewController > CheckoutViewController            True     557   \n",
       "5  GuidedMenuViewController > GuestCheckoutTableV...            True     502   \n",
       "6  GuidedMenuViewController > Entrees > GuidedMen...            True     394   \n",
       "7  StoreTableViewController > GuidedMenuViewContr...            True     392   \n",
       "8  GuestCheckoutTableViewController > CheckoutVie...            True     314   \n",
       "9  GuidedMenuViewController > Entrees > BasketVie...            True     310   \n",
       "\n",
       "   journey_length  \n",
       "0               5  \n",
       "1               4  \n",
       "2               4  \n",
       "3               7  \n",
       "4               2  \n",
       "5               3  \n",
       "6               6  \n",
       "7               5  \n",
       "8               2  \n",
       "9               4  "
      ]
     },
     "execution_count": 11,
     "metadata": {},
     "output_type": "execute_result"
    }
   ],
   "source": [
    "df.head(10)"
   ]
  },
  {
   "cell_type": "code",
   "execution_count": 12,
   "id": "c502d75e",
   "metadata": {},
   "outputs": [],
   "source": [
    "df = ga4_user_pathing.add_journey_end_string(df, journey_col='journey', conversion_column='Conversion', sep_val=' > ')\n",
    "df = ga4_user_pathing.parse_steps(df, sep_val=' > ', max_steps=10)"
   ]
  },
  {
   "cell_type": "code",
   "execution_count": 13,
   "id": "2dca428f",
   "metadata": {},
   "outputs": [
    {
     "data": {
      "text/plain": [
       "'GuidedMenuViewController > Entrees > GuestCheckoutTableViewController > CheckoutViewController > Journey End'"
      ]
     },
     "execution_count": 13,
     "metadata": {},
     "output_type": "execute_result"
    }
   ],
   "source": [
    "df['journey'][1]"
   ]
  },
  {
   "cell_type": "code",
   "execution_count": null,
   "id": "08ca3ca0",
   "metadata": {},
   "outputs": [],
   "source": [
    "#df_filtered.columns"
   ]
  },
  {
   "cell_type": "code",
   "execution_count": 66,
   "id": "d18195e2",
   "metadata": {},
   "outputs": [],
   "source": [
    "#df_filtered = ga4_user_pathing.remove_long_tail_jouneys(df, count_col='counts', min_path_count=10)"
   ]
  },
  {
   "cell_type": "code",
   "execution_count": 14,
   "id": "fdfe69ed",
   "metadata": {},
   "outputs": [],
   "source": [
    "df_filtered = df[(df['journey_length'] >= 5) & (df['journey_length'] <= 10)]\n",
    "df_filtered = df_filtered.sort_values('counts', ascending = False)\n",
    "df_filtered = df_filtered.iloc[0:10,:]"
   ]
  },
  {
   "cell_type": "code",
   "execution_count": 15,
   "id": "1cc5afcb",
   "metadata": {},
   "outputs": [
    {
     "name": "stderr",
     "output_type": "stream",
     "text": [
      "/Users/nehakhatri/Documents/GitHub/applebees_user_pathing_analysis/ga4_user_pathing.py:253: FutureWarning: In a future version of pandas all arguments of DataFrame.drop except for the argument 'labels' will be keyword-only.\n",
      "  right_on='value').drop('value', 1)\n",
      "/Users/nehakhatri/Documents/GitHub/applebees_user_pathing_analysis/ga4_user_pathing.py:261: FutureWarning: In a future version of pandas all arguments of DataFrame.drop except for the argument 'labels' will be keyword-only.\n",
      "  right_on='value').drop('value', 1)\n"
     ]
    }
   ],
   "source": [
    "df_sankey, df_index = ga4_user_pathing.generate_sankey_inputs(df_filtered, COUNT_FIELD, .9)"
   ]
  },
  {
   "cell_type": "code",
   "execution_count": 16,
   "id": "7c5b9431",
   "metadata": {},
   "outputs": [
    {
     "data": {
      "text/html": [
       "<div>\n",
       "<style scoped>\n",
       "    .dataframe tbody tr th:only-of-type {\n",
       "        vertical-align: middle;\n",
       "    }\n",
       "\n",
       "    .dataframe tbody tr th {\n",
       "        vertical-align: top;\n",
       "    }\n",
       "\n",
       "    .dataframe thead th {\n",
       "        text-align: right;\n",
       "    }\n",
       "</style>\n",
       "<table border=\"1\" class=\"dataframe\">\n",
       "  <thead>\n",
       "    <tr style=\"text-align: right;\">\n",
       "      <th></th>\n",
       "      <th>source</th>\n",
       "      <th>target</th>\n",
       "      <th>counts</th>\n",
       "      <th>source_index</th>\n",
       "      <th>color</th>\n",
       "      <th>target_index</th>\n",
       "    </tr>\n",
       "  </thead>\n",
       "  <tbody>\n",
       "    <tr>\n",
       "      <th>0</th>\n",
       "      <td>Appetizers</td>\n",
       "      <td>GuestCheckoutTableViewController</td>\n",
       "      <td>1045</td>\n",
       "      <td>6</td>\n",
       "      <td>rgba(255, 177, 255, 0.9)</td>\n",
       "      <td>4</td>\n",
       "    </tr>\n",
       "    <tr>\n",
       "      <th>1</th>\n",
       "      <td>Appetizers</td>\n",
       "      <td>GuidedMenuViewController</td>\n",
       "      <td>660</td>\n",
       "      <td>6</td>\n",
       "      <td>rgba(255, 177, 255, 0.9)</td>\n",
       "      <td>0</td>\n",
       "    </tr>\n",
       "    <tr>\n",
       "      <th>2</th>\n",
       "      <td>BasketViewController</td>\n",
       "      <td>CheckoutViewController</td>\n",
       "      <td>280</td>\n",
       "      <td>7</td>\n",
       "      <td>rgba(25, 126, 178, 0.9)</td>\n",
       "      <td>2</td>\n",
       "    </tr>\n",
       "    <tr>\n",
       "      <th>3</th>\n",
       "      <td>CheckoutViewController</td>\n",
       "      <td>Journey End</td>\n",
       "      <td>3884</td>\n",
       "      <td>2</td>\n",
       "      <td>rgba(45, 27, 181, 0.9)</td>\n",
       "      <td>3</td>\n",
       "    </tr>\n",
       "    <tr>\n",
       "      <th>4</th>\n",
       "      <td>Entrees</td>\n",
       "      <td>BasketViewController</td>\n",
       "      <td>280</td>\n",
       "      <td>1</td>\n",
       "      <td>rgba(53, 41, 127, 0.9)</td>\n",
       "      <td>7</td>\n",
       "    </tr>\n",
       "  </tbody>\n",
       "</table>\n",
       "</div>"
      ],
      "text/plain": [
       "                   source                            target counts  \\\n",
       "0              Appetizers  GuestCheckoutTableViewController   1045   \n",
       "1              Appetizers          GuidedMenuViewController    660   \n",
       "2    BasketViewController            CheckoutViewController    280   \n",
       "3  CheckoutViewController                       Journey End   3884   \n",
       "4                 Entrees              BasketViewController    280   \n",
       "\n",
       "   source_index                     color  target_index  \n",
       "0             6  rgba(255, 177, 255, 0.9)             4  \n",
       "1             6  rgba(255, 177, 255, 0.9)             0  \n",
       "2             7   rgba(25, 126, 178, 0.9)             2  \n",
       "3             2    rgba(45, 27, 181, 0.9)             3  \n",
       "4             1    rgba(53, 41, 127, 0.9)             7  "
      ]
     },
     "execution_count": 16,
     "metadata": {},
     "output_type": "execute_result"
    }
   ],
   "source": [
    "df_sankey.head()"
   ]
  },
  {
   "cell_type": "code",
   "execution_count": 17,
   "id": "0b17337d",
   "metadata": {},
   "outputs": [
    {
     "data": {
      "text/html": [
       "<div>\n",
       "<style scoped>\n",
       "    .dataframe tbody tr th:only-of-type {\n",
       "        vertical-align: middle;\n",
       "    }\n",
       "\n",
       "    .dataframe tbody tr th {\n",
       "        vertical-align: top;\n",
       "    }\n",
       "\n",
       "    .dataframe thead th {\n",
       "        text-align: right;\n",
       "    }\n",
       "</style>\n",
       "<table border=\"1\" class=\"dataframe\">\n",
       "  <thead>\n",
       "    <tr style=\"text-align: right;\">\n",
       "      <th></th>\n",
       "      <th>journey</th>\n",
       "      <th>conversion_flg</th>\n",
       "      <th>counts</th>\n",
       "      <th>journey_length</th>\n",
       "      <th>step_1</th>\n",
       "      <th>step_2</th>\n",
       "      <th>step_3</th>\n",
       "      <th>step_4</th>\n",
       "      <th>step_5</th>\n",
       "      <th>step_6</th>\n",
       "      <th>step_7</th>\n",
       "      <th>step_8</th>\n",
       "      <th>step_9</th>\n",
       "      <th>step_10</th>\n",
       "    </tr>\n",
       "  </thead>\n",
       "  <tbody>\n",
       "    <tr>\n",
       "      <th>0</th>\n",
       "      <td>StoreTableViewController &gt; GuidedMenuViewContr...</td>\n",
       "      <td>True</td>\n",
       "      <td>1052</td>\n",
       "      <td>5</td>\n",
       "      <td>StoreTableViewController</td>\n",
       "      <td>GuidedMenuViewController</td>\n",
       "      <td>Entrees</td>\n",
       "      <td>GuestCheckoutTableViewController</td>\n",
       "      <td>CheckoutViewController</td>\n",
       "      <td>Journey End</td>\n",
       "      <td>NaN</td>\n",
       "      <td>NaN</td>\n",
       "      <td>NaN</td>\n",
       "      <td>NaN</td>\n",
       "    </tr>\n",
       "    <tr>\n",
       "      <th>3</th>\n",
       "      <td>StoreTableViewController &gt; GuidedMenuViewContr...</td>\n",
       "      <td>True</td>\n",
       "      <td>624</td>\n",
       "      <td>7</td>\n",
       "      <td>StoreTableViewController</td>\n",
       "      <td>GuidedMenuViewController</td>\n",
       "      <td>Entrees</td>\n",
       "      <td>GuidedMenuViewController</td>\n",
       "      <td>Entrees</td>\n",
       "      <td>GuestCheckoutTableViewController</td>\n",
       "      <td>CheckoutViewController</td>\n",
       "      <td>Journey End</td>\n",
       "      <td>NaN</td>\n",
       "      <td>NaN</td>\n",
       "    </tr>\n",
       "    <tr>\n",
       "      <th>6</th>\n",
       "      <td>GuidedMenuViewController &gt; Entrees &gt; GuidedMen...</td>\n",
       "      <td>True</td>\n",
       "      <td>394</td>\n",
       "      <td>6</td>\n",
       "      <td>GuidedMenuViewController</td>\n",
       "      <td>Entrees</td>\n",
       "      <td>GuidedMenuViewController</td>\n",
       "      <td>Entrees</td>\n",
       "      <td>GuestCheckoutTableViewController</td>\n",
       "      <td>CheckoutViewController</td>\n",
       "      <td>Journey End</td>\n",
       "      <td>NaN</td>\n",
       "      <td>NaN</td>\n",
       "      <td>NaN</td>\n",
       "    </tr>\n",
       "    <tr>\n",
       "      <th>7</th>\n",
       "      <td>StoreTableViewController &gt; GuidedMenuViewContr...</td>\n",
       "      <td>True</td>\n",
       "      <td>392</td>\n",
       "      <td>5</td>\n",
       "      <td>StoreTableViewController</td>\n",
       "      <td>GuidedMenuViewController</td>\n",
       "      <td>Appetizers</td>\n",
       "      <td>GuestCheckoutTableViewController</td>\n",
       "      <td>CheckoutViewController</td>\n",
       "      <td>Journey End</td>\n",
       "      <td>NaN</td>\n",
       "      <td>NaN</td>\n",
       "      <td>NaN</td>\n",
       "      <td>NaN</td>\n",
       "    </tr>\n",
       "    <tr>\n",
       "      <th>11</th>\n",
       "      <td>StoreTableViewController &gt; GuidedMenuViewContr...</td>\n",
       "      <td>True</td>\n",
       "      <td>280</td>\n",
       "      <td>5</td>\n",
       "      <td>StoreTableViewController</td>\n",
       "      <td>GuidedMenuViewController</td>\n",
       "      <td>Entrees</td>\n",
       "      <td>BasketViewController</td>\n",
       "      <td>CheckoutViewController</td>\n",
       "      <td>Journey End</td>\n",
       "      <td>NaN</td>\n",
       "      <td>NaN</td>\n",
       "      <td>NaN</td>\n",
       "      <td>NaN</td>\n",
       "    </tr>\n",
       "    <tr>\n",
       "      <th>12</th>\n",
       "      <td>StoreTableViewController &gt; GuidedMenuViewContr...</td>\n",
       "      <td>True</td>\n",
       "      <td>245</td>\n",
       "      <td>9</td>\n",
       "      <td>StoreTableViewController</td>\n",
       "      <td>GuidedMenuViewController</td>\n",
       "      <td>Entrees</td>\n",
       "      <td>GuidedMenuViewController</td>\n",
       "      <td>Entrees</td>\n",
       "      <td>GuidedMenuViewController</td>\n",
       "      <td>Entrees</td>\n",
       "      <td>GuestCheckoutTableViewController</td>\n",
       "      <td>CheckoutViewController</td>\n",
       "      <td>Journey End</td>\n",
       "    </tr>\n",
       "    <tr>\n",
       "      <th>13</th>\n",
       "      <td>StoreTableViewController &gt; GuidedMenuViewContr...</td>\n",
       "      <td>True</td>\n",
       "      <td>244</td>\n",
       "      <td>7</td>\n",
       "      <td>StoreTableViewController</td>\n",
       "      <td>GuidedMenuViewController</td>\n",
       "      <td>Appetizers</td>\n",
       "      <td>GuidedMenuViewController</td>\n",
       "      <td>Entrees</td>\n",
       "      <td>GuestCheckoutTableViewController</td>\n",
       "      <td>CheckoutViewController</td>\n",
       "      <td>Journey End</td>\n",
       "      <td>NaN</td>\n",
       "      <td>NaN</td>\n",
       "    </tr>\n",
       "    <tr>\n",
       "      <th>14</th>\n",
       "      <td>StoreTableViewController &gt; GuidedMenuViewContr...</td>\n",
       "      <td>True</td>\n",
       "      <td>237</td>\n",
       "      <td>7</td>\n",
       "      <td>StoreTableViewController</td>\n",
       "      <td>GuidedMenuViewController</td>\n",
       "      <td>Entrees</td>\n",
       "      <td>GuidedMenuViewController</td>\n",
       "      <td>Appetizers</td>\n",
       "      <td>GuestCheckoutTableViewController</td>\n",
       "      <td>CheckoutViewController</td>\n",
       "      <td>Journey End</td>\n",
       "      <td>NaN</td>\n",
       "      <td>NaN</td>\n",
       "    </tr>\n",
       "    <tr>\n",
       "      <th>16</th>\n",
       "      <td>StoreTableViewController &gt; GuidedMenuViewContr...</td>\n",
       "      <td>True</td>\n",
       "      <td>231</td>\n",
       "      <td>7</td>\n",
       "      <td>StoreTableViewController</td>\n",
       "      <td>GuidedMenuViewController</td>\n",
       "      <td>Appetizers</td>\n",
       "      <td>GuidedMenuViewController</td>\n",
       "      <td>Appetizers</td>\n",
       "      <td>GuestCheckoutTableViewController</td>\n",
       "      <td>CheckoutViewController</td>\n",
       "      <td>Journey End</td>\n",
       "      <td>NaN</td>\n",
       "      <td>NaN</td>\n",
       "    </tr>\n",
       "    <tr>\n",
       "      <th>18</th>\n",
       "      <td>GuidedMenuViewController &gt; Appetizers &gt; Guided...</td>\n",
       "      <td>True</td>\n",
       "      <td>185</td>\n",
       "      <td>6</td>\n",
       "      <td>GuidedMenuViewController</td>\n",
       "      <td>Appetizers</td>\n",
       "      <td>GuidedMenuViewController</td>\n",
       "      <td>Appetizers</td>\n",
       "      <td>GuestCheckoutTableViewController</td>\n",
       "      <td>CheckoutViewController</td>\n",
       "      <td>Journey End</td>\n",
       "      <td>NaN</td>\n",
       "      <td>NaN</td>\n",
       "      <td>NaN</td>\n",
       "    </tr>\n",
       "  </tbody>\n",
       "</table>\n",
       "</div>"
      ],
      "text/plain": [
       "                                              journey  conversion_flg  counts  \\\n",
       "0   StoreTableViewController > GuidedMenuViewContr...            True    1052   \n",
       "3   StoreTableViewController > GuidedMenuViewContr...            True     624   \n",
       "6   GuidedMenuViewController > Entrees > GuidedMen...            True     394   \n",
       "7   StoreTableViewController > GuidedMenuViewContr...            True     392   \n",
       "11  StoreTableViewController > GuidedMenuViewContr...            True     280   \n",
       "12  StoreTableViewController > GuidedMenuViewContr...            True     245   \n",
       "13  StoreTableViewController > GuidedMenuViewContr...            True     244   \n",
       "14  StoreTableViewController > GuidedMenuViewContr...            True     237   \n",
       "16  StoreTableViewController > GuidedMenuViewContr...            True     231   \n",
       "18  GuidedMenuViewController > Appetizers > Guided...            True     185   \n",
       "\n",
       "    journey_length                    step_1                    step_2  \\\n",
       "0                5  StoreTableViewController  GuidedMenuViewController   \n",
       "3                7  StoreTableViewController  GuidedMenuViewController   \n",
       "6                6  GuidedMenuViewController                   Entrees   \n",
       "7                5  StoreTableViewController  GuidedMenuViewController   \n",
       "11               5  StoreTableViewController  GuidedMenuViewController   \n",
       "12               9  StoreTableViewController  GuidedMenuViewController   \n",
       "13               7  StoreTableViewController  GuidedMenuViewController   \n",
       "14               7  StoreTableViewController  GuidedMenuViewController   \n",
       "16               7  StoreTableViewController  GuidedMenuViewController   \n",
       "18               6  GuidedMenuViewController                Appetizers   \n",
       "\n",
       "                      step_3                            step_4  \\\n",
       "0                    Entrees  GuestCheckoutTableViewController   \n",
       "3                    Entrees          GuidedMenuViewController   \n",
       "6   GuidedMenuViewController                           Entrees   \n",
       "7                 Appetizers  GuestCheckoutTableViewController   \n",
       "11                   Entrees              BasketViewController   \n",
       "12                   Entrees          GuidedMenuViewController   \n",
       "13                Appetizers          GuidedMenuViewController   \n",
       "14                   Entrees          GuidedMenuViewController   \n",
       "16                Appetizers          GuidedMenuViewController   \n",
       "18  GuidedMenuViewController                        Appetizers   \n",
       "\n",
       "                              step_5                            step_6  \\\n",
       "0             CheckoutViewController                       Journey End   \n",
       "3                            Entrees  GuestCheckoutTableViewController   \n",
       "6   GuestCheckoutTableViewController            CheckoutViewController   \n",
       "7             CheckoutViewController                       Journey End   \n",
       "11            CheckoutViewController                       Journey End   \n",
       "12                           Entrees          GuidedMenuViewController   \n",
       "13                           Entrees  GuestCheckoutTableViewController   \n",
       "14                        Appetizers  GuestCheckoutTableViewController   \n",
       "16                        Appetizers  GuestCheckoutTableViewController   \n",
       "18  GuestCheckoutTableViewController            CheckoutViewController   \n",
       "\n",
       "                    step_7                            step_8  \\\n",
       "0                      NaN                               NaN   \n",
       "3   CheckoutViewController                       Journey End   \n",
       "6              Journey End                               NaN   \n",
       "7                      NaN                               NaN   \n",
       "11                     NaN                               NaN   \n",
       "12                 Entrees  GuestCheckoutTableViewController   \n",
       "13  CheckoutViewController                       Journey End   \n",
       "14  CheckoutViewController                       Journey End   \n",
       "16  CheckoutViewController                       Journey End   \n",
       "18             Journey End                               NaN   \n",
       "\n",
       "                    step_9      step_10  \n",
       "0                      NaN          NaN  \n",
       "3                      NaN          NaN  \n",
       "6                      NaN          NaN  \n",
       "7                      NaN          NaN  \n",
       "11                     NaN          NaN  \n",
       "12  CheckoutViewController  Journey End  \n",
       "13                     NaN          NaN  \n",
       "14                     NaN          NaN  \n",
       "16                     NaN          NaN  \n",
       "18                     NaN          NaN  "
      ]
     },
     "execution_count": 17,
     "metadata": {},
     "output_type": "execute_result"
    }
   ],
   "source": [
    "df_filtered"
   ]
  },
  {
   "cell_type": "code",
   "execution_count": 18,
   "id": "49eaa08a",
   "metadata": {},
   "outputs": [
    {
     "data": {
      "application/vnd.plotly.v1+json": {
       "config": {
        "plotlyServerURL": "https://plot.ly"
       },
       "data": [
        {
         "arrangement": "freeform",
         "link": {
          "color": [
           "rgba(255, 177, 255, 0.3)",
           "rgba(255, 177, 255, 0.3)",
           "rgba(25, 126, 178, 0.3)",
           "rgba(45, 27, 181, 0.3)",
           "rgba(53, 41, 127, 0.3)",
           "rgba(53, 41, 127, 0.3)",
           "rgba(53, 41, 127, 0.3)",
           "rgba(244, 14, 164, 0.3)",
           "rgba(142, 140, 153, 0.3)",
           "rgba(142, 140, 153, 0.3)",
           "rgba(142, 231, 255, 0.3)"
          ],
          "source": [
           6,
           6,
           7,
           2,
           1,
           1,
           1,
           4,
           0,
           0,
           5
          ],
          "target": [
           4,
           0,
           2,
           3,
           7,
           4,
           0,
           2,
           6,
           1,
           0
          ],
          "value": [
           1045,
           660,
           280,
           3884,
           280,
           2559,
           1745,
           3604,
           1705,
           4584,
           3305
          ]
         },
         "node": {
          "color": [
           "rgba(142, 140, 153, 0.9)",
           "rgba(53, 41, 127, 0.9)",
           "rgba(45, 27, 181, 0.9)",
           "rgba(128, 68, 123, 0.9)",
           "rgba(244, 14, 164, 0.9)",
           "rgba(142, 231, 255, 0.9)",
           "rgba(255, 177, 255, 0.9)",
           "rgba(25, 126, 178, 0.9)"
          ],
          "label": [
           "GuidedMenuViewController",
           "Entrees",
           "CheckoutViewController",
           "Journey End",
           "GuestCheckoutTableViewController",
           "StoreTableViewController",
           "Appetizers",
           "BasketViewController"
          ],
          "line": {
           "color": "gray",
           "width": 0
          },
          "pad": 30,
          "thickness": 20
         },
         "type": "sankey",
         "valueformat": ".0f"
        }
       ],
       "layout": {
        "template": {
         "data": {
          "bar": [
           {
            "error_x": {
             "color": "#2a3f5f"
            },
            "error_y": {
             "color": "#2a3f5f"
            },
            "marker": {
             "line": {
              "color": "#E5ECF6",
              "width": 0.5
             },
             "pattern": {
              "fillmode": "overlay",
              "size": 10,
              "solidity": 0.2
             }
            },
            "type": "bar"
           }
          ],
          "barpolar": [
           {
            "marker": {
             "line": {
              "color": "#E5ECF6",
              "width": 0.5
             },
             "pattern": {
              "fillmode": "overlay",
              "size": 10,
              "solidity": 0.2
             }
            },
            "type": "barpolar"
           }
          ],
          "carpet": [
           {
            "aaxis": {
             "endlinecolor": "#2a3f5f",
             "gridcolor": "white",
             "linecolor": "white",
             "minorgridcolor": "white",
             "startlinecolor": "#2a3f5f"
            },
            "baxis": {
             "endlinecolor": "#2a3f5f",
             "gridcolor": "white",
             "linecolor": "white",
             "minorgridcolor": "white",
             "startlinecolor": "#2a3f5f"
            },
            "type": "carpet"
           }
          ],
          "choropleth": [
           {
            "colorbar": {
             "outlinewidth": 0,
             "ticks": ""
            },
            "type": "choropleth"
           }
          ],
          "contour": [
           {
            "colorbar": {
             "outlinewidth": 0,
             "ticks": ""
            },
            "colorscale": [
             [
              0,
              "#0d0887"
             ],
             [
              0.1111111111111111,
              "#46039f"
             ],
             [
              0.2222222222222222,
              "#7201a8"
             ],
             [
              0.3333333333333333,
              "#9c179e"
             ],
             [
              0.4444444444444444,
              "#bd3786"
             ],
             [
              0.5555555555555556,
              "#d8576b"
             ],
             [
              0.6666666666666666,
              "#ed7953"
             ],
             [
              0.7777777777777778,
              "#fb9f3a"
             ],
             [
              0.8888888888888888,
              "#fdca26"
             ],
             [
              1,
              "#f0f921"
             ]
            ],
            "type": "contour"
           }
          ],
          "contourcarpet": [
           {
            "colorbar": {
             "outlinewidth": 0,
             "ticks": ""
            },
            "type": "contourcarpet"
           }
          ],
          "heatmap": [
           {
            "colorbar": {
             "outlinewidth": 0,
             "ticks": ""
            },
            "colorscale": [
             [
              0,
              "#0d0887"
             ],
             [
              0.1111111111111111,
              "#46039f"
             ],
             [
              0.2222222222222222,
              "#7201a8"
             ],
             [
              0.3333333333333333,
              "#9c179e"
             ],
             [
              0.4444444444444444,
              "#bd3786"
             ],
             [
              0.5555555555555556,
              "#d8576b"
             ],
             [
              0.6666666666666666,
              "#ed7953"
             ],
             [
              0.7777777777777778,
              "#fb9f3a"
             ],
             [
              0.8888888888888888,
              "#fdca26"
             ],
             [
              1,
              "#f0f921"
             ]
            ],
            "type": "heatmap"
           }
          ],
          "heatmapgl": [
           {
            "colorbar": {
             "outlinewidth": 0,
             "ticks": ""
            },
            "colorscale": [
             [
              0,
              "#0d0887"
             ],
             [
              0.1111111111111111,
              "#46039f"
             ],
             [
              0.2222222222222222,
              "#7201a8"
             ],
             [
              0.3333333333333333,
              "#9c179e"
             ],
             [
              0.4444444444444444,
              "#bd3786"
             ],
             [
              0.5555555555555556,
              "#d8576b"
             ],
             [
              0.6666666666666666,
              "#ed7953"
             ],
             [
              0.7777777777777778,
              "#fb9f3a"
             ],
             [
              0.8888888888888888,
              "#fdca26"
             ],
             [
              1,
              "#f0f921"
             ]
            ],
            "type": "heatmapgl"
           }
          ],
          "histogram": [
           {
            "marker": {
             "pattern": {
              "fillmode": "overlay",
              "size": 10,
              "solidity": 0.2
             }
            },
            "type": "histogram"
           }
          ],
          "histogram2d": [
           {
            "colorbar": {
             "outlinewidth": 0,
             "ticks": ""
            },
            "colorscale": [
             [
              0,
              "#0d0887"
             ],
             [
              0.1111111111111111,
              "#46039f"
             ],
             [
              0.2222222222222222,
              "#7201a8"
             ],
             [
              0.3333333333333333,
              "#9c179e"
             ],
             [
              0.4444444444444444,
              "#bd3786"
             ],
             [
              0.5555555555555556,
              "#d8576b"
             ],
             [
              0.6666666666666666,
              "#ed7953"
             ],
             [
              0.7777777777777778,
              "#fb9f3a"
             ],
             [
              0.8888888888888888,
              "#fdca26"
             ],
             [
              1,
              "#f0f921"
             ]
            ],
            "type": "histogram2d"
           }
          ],
          "histogram2dcontour": [
           {
            "colorbar": {
             "outlinewidth": 0,
             "ticks": ""
            },
            "colorscale": [
             [
              0,
              "#0d0887"
             ],
             [
              0.1111111111111111,
              "#46039f"
             ],
             [
              0.2222222222222222,
              "#7201a8"
             ],
             [
              0.3333333333333333,
              "#9c179e"
             ],
             [
              0.4444444444444444,
              "#bd3786"
             ],
             [
              0.5555555555555556,
              "#d8576b"
             ],
             [
              0.6666666666666666,
              "#ed7953"
             ],
             [
              0.7777777777777778,
              "#fb9f3a"
             ],
             [
              0.8888888888888888,
              "#fdca26"
             ],
             [
              1,
              "#f0f921"
             ]
            ],
            "type": "histogram2dcontour"
           }
          ],
          "mesh3d": [
           {
            "colorbar": {
             "outlinewidth": 0,
             "ticks": ""
            },
            "type": "mesh3d"
           }
          ],
          "parcoords": [
           {
            "line": {
             "colorbar": {
              "outlinewidth": 0,
              "ticks": ""
             }
            },
            "type": "parcoords"
           }
          ],
          "pie": [
           {
            "automargin": true,
            "type": "pie"
           }
          ],
          "scatter": [
           {
            "fillpattern": {
             "fillmode": "overlay",
             "size": 10,
             "solidity": 0.2
            },
            "type": "scatter"
           }
          ],
          "scatter3d": [
           {
            "line": {
             "colorbar": {
              "outlinewidth": 0,
              "ticks": ""
             }
            },
            "marker": {
             "colorbar": {
              "outlinewidth": 0,
              "ticks": ""
             }
            },
            "type": "scatter3d"
           }
          ],
          "scattercarpet": [
           {
            "marker": {
             "colorbar": {
              "outlinewidth": 0,
              "ticks": ""
             }
            },
            "type": "scattercarpet"
           }
          ],
          "scattergeo": [
           {
            "marker": {
             "colorbar": {
              "outlinewidth": 0,
              "ticks": ""
             }
            },
            "type": "scattergeo"
           }
          ],
          "scattergl": [
           {
            "marker": {
             "colorbar": {
              "outlinewidth": 0,
              "ticks": ""
             }
            },
            "type": "scattergl"
           }
          ],
          "scattermapbox": [
           {
            "marker": {
             "colorbar": {
              "outlinewidth": 0,
              "ticks": ""
             }
            },
            "type": "scattermapbox"
           }
          ],
          "scatterpolar": [
           {
            "marker": {
             "colorbar": {
              "outlinewidth": 0,
              "ticks": ""
             }
            },
            "type": "scatterpolar"
           }
          ],
          "scatterpolargl": [
           {
            "marker": {
             "colorbar": {
              "outlinewidth": 0,
              "ticks": ""
             }
            },
            "type": "scatterpolargl"
           }
          ],
          "scatterternary": [
           {
            "marker": {
             "colorbar": {
              "outlinewidth": 0,
              "ticks": ""
             }
            },
            "type": "scatterternary"
           }
          ],
          "surface": [
           {
            "colorbar": {
             "outlinewidth": 0,
             "ticks": ""
            },
            "colorscale": [
             [
              0,
              "#0d0887"
             ],
             [
              0.1111111111111111,
              "#46039f"
             ],
             [
              0.2222222222222222,
              "#7201a8"
             ],
             [
              0.3333333333333333,
              "#9c179e"
             ],
             [
              0.4444444444444444,
              "#bd3786"
             ],
             [
              0.5555555555555556,
              "#d8576b"
             ],
             [
              0.6666666666666666,
              "#ed7953"
             ],
             [
              0.7777777777777778,
              "#fb9f3a"
             ],
             [
              0.8888888888888888,
              "#fdca26"
             ],
             [
              1,
              "#f0f921"
             ]
            ],
            "type": "surface"
           }
          ],
          "table": [
           {
            "cells": {
             "fill": {
              "color": "#EBF0F8"
             },
             "line": {
              "color": "white"
             }
            },
            "header": {
             "fill": {
              "color": "#C8D4E3"
             },
             "line": {
              "color": "white"
             }
            },
            "type": "table"
           }
          ]
         },
         "layout": {
          "annotationdefaults": {
           "arrowcolor": "#2a3f5f",
           "arrowhead": 0,
           "arrowwidth": 1
          },
          "autotypenumbers": "strict",
          "coloraxis": {
           "colorbar": {
            "outlinewidth": 0,
            "ticks": ""
           }
          },
          "colorscale": {
           "diverging": [
            [
             0,
             "#8e0152"
            ],
            [
             0.1,
             "#c51b7d"
            ],
            [
             0.2,
             "#de77ae"
            ],
            [
             0.3,
             "#f1b6da"
            ],
            [
             0.4,
             "#fde0ef"
            ],
            [
             0.5,
             "#f7f7f7"
            ],
            [
             0.6,
             "#e6f5d0"
            ],
            [
             0.7,
             "#b8e186"
            ],
            [
             0.8,
             "#7fbc41"
            ],
            [
             0.9,
             "#4d9221"
            ],
            [
             1,
             "#276419"
            ]
           ],
           "sequential": [
            [
             0,
             "#0d0887"
            ],
            [
             0.1111111111111111,
             "#46039f"
            ],
            [
             0.2222222222222222,
             "#7201a8"
            ],
            [
             0.3333333333333333,
             "#9c179e"
            ],
            [
             0.4444444444444444,
             "#bd3786"
            ],
            [
             0.5555555555555556,
             "#d8576b"
            ],
            [
             0.6666666666666666,
             "#ed7953"
            ],
            [
             0.7777777777777778,
             "#fb9f3a"
            ],
            [
             0.8888888888888888,
             "#fdca26"
            ],
            [
             1,
             "#f0f921"
            ]
           ],
           "sequentialminus": [
            [
             0,
             "#0d0887"
            ],
            [
             0.1111111111111111,
             "#46039f"
            ],
            [
             0.2222222222222222,
             "#7201a8"
            ],
            [
             0.3333333333333333,
             "#9c179e"
            ],
            [
             0.4444444444444444,
             "#bd3786"
            ],
            [
             0.5555555555555556,
             "#d8576b"
            ],
            [
             0.6666666666666666,
             "#ed7953"
            ],
            [
             0.7777777777777778,
             "#fb9f3a"
            ],
            [
             0.8888888888888888,
             "#fdca26"
            ],
            [
             1,
             "#f0f921"
            ]
           ]
          },
          "colorway": [
           "#636efa",
           "#EF553B",
           "#00cc96",
           "#ab63fa",
           "#FFA15A",
           "#19d3f3",
           "#FF6692",
           "#B6E880",
           "#FF97FF",
           "#FECB52"
          ],
          "font": {
           "color": "#2a3f5f"
          },
          "geo": {
           "bgcolor": "white",
           "lakecolor": "white",
           "landcolor": "#E5ECF6",
           "showlakes": true,
           "showland": true,
           "subunitcolor": "white"
          },
          "hoverlabel": {
           "align": "left"
          },
          "hovermode": "closest",
          "mapbox": {
           "style": "light"
          },
          "paper_bgcolor": "white",
          "plot_bgcolor": "#E5ECF6",
          "polar": {
           "angularaxis": {
            "gridcolor": "white",
            "linecolor": "white",
            "ticks": ""
           },
           "bgcolor": "#E5ECF6",
           "radialaxis": {
            "gridcolor": "white",
            "linecolor": "white",
            "ticks": ""
           }
          },
          "scene": {
           "xaxis": {
            "backgroundcolor": "#E5ECF6",
            "gridcolor": "white",
            "gridwidth": 2,
            "linecolor": "white",
            "showbackground": true,
            "ticks": "",
            "zerolinecolor": "white"
           },
           "yaxis": {
            "backgroundcolor": "#E5ECF6",
            "gridcolor": "white",
            "gridwidth": 2,
            "linecolor": "white",
            "showbackground": true,
            "ticks": "",
            "zerolinecolor": "white"
           },
           "zaxis": {
            "backgroundcolor": "#E5ECF6",
            "gridcolor": "white",
            "gridwidth": 2,
            "linecolor": "white",
            "showbackground": true,
            "ticks": "",
            "zerolinecolor": "white"
           }
          },
          "shapedefaults": {
           "line": {
            "color": "#2a3f5f"
           }
          },
          "ternary": {
           "aaxis": {
            "gridcolor": "white",
            "linecolor": "white",
            "ticks": ""
           },
           "baxis": {
            "gridcolor": "white",
            "linecolor": "white",
            "ticks": ""
           },
           "bgcolor": "#E5ECF6",
           "caxis": {
            "gridcolor": "white",
            "linecolor": "white",
            "ticks": ""
           }
          },
          "title": {
           "x": 0.05
          },
          "xaxis": {
           "automargin": true,
           "gridcolor": "white",
           "linecolor": "white",
           "ticks": "",
           "title": {
            "standoff": 15
           },
           "zerolinecolor": "white",
           "zerolinewidth": 2
          },
          "yaxis": {
           "automargin": true,
           "gridcolor": "white",
           "linecolor": "white",
           "ticks": "",
           "title": {
            "standoff": 15
           },
           "zerolinecolor": "white",
           "zerolinewidth": 2
          }
         }
        }
       }
      }
     },
     "metadata": {},
     "output_type": "display_data"
    }
   ],
   "source": [
    "ga4_user_pathing.display_sankey(df_sankey, df_index, count_field=COUNT_FIELD, link_opacity=.3)"
   ]
  },
  {
   "cell_type": "code",
   "execution_count": null,
   "id": "e33a5c29",
   "metadata": {},
   "outputs": [],
   "source": []
  }
 ],
 "metadata": {
  "kernelspec": {
   "display_name": "Python 3.10.6 ('AB_env')",
   "language": "python",
   "name": "python3"
  },
  "language_info": {
   "codemirror_mode": {
    "name": "ipython",
    "version": 3
   },
   "file_extension": ".py",
   "mimetype": "text/x-python",
   "name": "python",
   "nbconvert_exporter": "python",
   "pygments_lexer": "ipython3",
   "version": "3.10.6"
  },
  "vscode": {
   "interpreter": {
    "hash": "1715eaea815ea25ab3b4a92e6654dade22b28061a52cf2c7cf8726228fe01ed8"
   }
  }
 },
 "nbformat": 4,
 "nbformat_minor": 5
}

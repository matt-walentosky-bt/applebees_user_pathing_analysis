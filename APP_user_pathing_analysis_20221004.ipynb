{
 "cells": [
  {
   "cell_type": "code",
   "execution_count": null,
   "id": "0dea5d3e",
   "metadata": {},
   "outputs": [],
   "source": [
    "#Script created by Neha on 2022-10-04\n",
    "#Script is designed to analyze Applebees Site traffic analysis on APP only\n",
    "#Github repo: https://github.com/matt-walentosky-bt/applebees_user_pathing_analysis"
   ]
  },
  {
   "cell_type": "code",
   "execution_count": null,
   "id": "0c0419ec",
   "metadata": {},
   "outputs": [],
   "source": [
    "#Import desired packages\n",
    "import ga4_user_pathing\n",
    "import pandas as pd\n",
    "import os"
   ]
  },
  {
   "cell_type": "code",
   "execution_count": null,
   "id": "ef8966e2",
   "metadata": {},
   "outputs": [],
   "source": [
    "#Parameters from Tyler Norris / Vanessa Schneider\n",
    "# Globals:\n",
    "COUNT_FIELD = 'counts' # DF fields references to aggregations value (users, sessions)\n",
    "NODE_OPACITY = .9\n",
    "LINK_OPACITY = .6\n",
    "SEP_VAL = ' > '\n",
    "KEY_PATH = '/Users/vanessaschneider/keys/dse-chase-user-pathing.json'"
   ]
  },
  {
   "cell_type": "code",
   "execution_count": null,
   "id": "dcc94cf0",
   "metadata": {},
   "outputs": [],
   "source": [
    "#Get working directory\n",
    "os.getcwd()"
   ]
  },
  {
   "cell_type": "code",
   "execution_count": 140,
   "id": "f952a10c",
   "metadata": {},
   "outputs": [],
   "source": [
    "#Read desired document\n",
    "conversion_status = True\n",
    "\n",
    "if conversion_status == True:\n",
    "    df = pd.read_csv(\"APP_converters_user_pathing.csv\")\n",
    "else:\n",
    "    df = pd.read_csv(\"APP_non_converters_user_pathing.csv\")\n",
    "    \n",
    "#Note, we can only pull fraction of data from BQ into CSV format   "
   ]
  },
  {
   "cell_type": "code",
   "execution_count": 141,
   "id": "01f01a1b",
   "metadata": {},
   "outputs": [
    {
     "name": "stdout",
     "output_type": "stream",
     "text": [
      "(16204, 3)\n",
      "----\n",
      "                                             journey  conversion_flg  counts\n",
      "0  viewed_favourite_store > Menu > added_item > C...            True    1381\n",
      "1               Menu > added_item > CheckoutActivity            True    1303\n",
      "2         Menu > added_item > CheckoutViewController            True    1165\n",
      "3             Quick_Reorder > CheckoutViewController            True    1025\n",
      "4  viewed_favourite_store > added_item > Checkout...            True     753\n"
     ]
    }
   ],
   "source": [
    "print(df.shape)\n",
    "print(\"----\")\n",
    "print(df.head())"
   ]
  },
  {
   "cell_type": "code",
   "execution_count": 142,
   "id": "e38cd963",
   "metadata": {},
   "outputs": [],
   "source": [
    "df['journey_length'] = df.apply(lambda x: len(x['journey'].split(SEP_VAL)), axis=1)"
   ]
  },
  {
   "cell_type": "code",
   "execution_count": 143,
   "id": "38051257",
   "metadata": {},
   "outputs": [
    {
     "data": {
      "text/html": [
       "<div>\n",
       "<style scoped>\n",
       "    .dataframe tbody tr th:only-of-type {\n",
       "        vertical-align: middle;\n",
       "    }\n",
       "\n",
       "    .dataframe tbody tr th {\n",
       "        vertical-align: top;\n",
       "    }\n",
       "\n",
       "    .dataframe thead th {\n",
       "        text-align: right;\n",
       "    }\n",
       "</style>\n",
       "<table border=\"1\" class=\"dataframe\">\n",
       "  <thead>\n",
       "    <tr style=\"text-align: right;\">\n",
       "      <th></th>\n",
       "      <th>counts</th>\n",
       "      <th>journey_length</th>\n",
       "    </tr>\n",
       "  </thead>\n",
       "  <tbody>\n",
       "    <tr>\n",
       "      <th>count</th>\n",
       "      <td>16204.000000</td>\n",
       "      <td>16204.000000</td>\n",
       "    </tr>\n",
       "    <tr>\n",
       "      <th>mean</th>\n",
       "      <td>2.571155</td>\n",
       "      <td>11.572822</td>\n",
       "    </tr>\n",
       "    <tr>\n",
       "      <th>std</th>\n",
       "      <td>25.876421</td>\n",
       "      <td>5.027009</td>\n",
       "    </tr>\n",
       "    <tr>\n",
       "      <th>min</th>\n",
       "      <td>0.000000</td>\n",
       "      <td>1.000000</td>\n",
       "    </tr>\n",
       "    <tr>\n",
       "      <th>25%</th>\n",
       "      <td>1.000000</td>\n",
       "      <td>8.000000</td>\n",
       "    </tr>\n",
       "    <tr>\n",
       "      <th>50%</th>\n",
       "      <td>1.000000</td>\n",
       "      <td>11.000000</td>\n",
       "    </tr>\n",
       "    <tr>\n",
       "      <th>75%</th>\n",
       "      <td>1.000000</td>\n",
       "      <td>14.000000</td>\n",
       "    </tr>\n",
       "    <tr>\n",
       "      <th>max</th>\n",
       "      <td>1381.000000</td>\n",
       "      <td>95.000000</td>\n",
       "    </tr>\n",
       "  </tbody>\n",
       "</table>\n",
       "</div>"
      ],
      "text/plain": [
       "             counts  journey_length\n",
       "count  16204.000000    16204.000000\n",
       "mean       2.571155       11.572822\n",
       "std       25.876421        5.027009\n",
       "min        0.000000        1.000000\n",
       "25%        1.000000        8.000000\n",
       "50%        1.000000       11.000000\n",
       "75%        1.000000       14.000000\n",
       "max     1381.000000       95.000000"
      ]
     },
     "execution_count": 143,
     "metadata": {},
     "output_type": "execute_result"
    }
   ],
   "source": [
    "df.describe()"
   ]
  },
  {
   "cell_type": "code",
   "execution_count": 145,
   "id": "858686cf",
   "metadata": {},
   "outputs": [
    {
     "data": {
      "text/html": [
       "<div>\n",
       "<style scoped>\n",
       "    .dataframe tbody tr th:only-of-type {\n",
       "        vertical-align: middle;\n",
       "    }\n",
       "\n",
       "    .dataframe tbody tr th {\n",
       "        vertical-align: top;\n",
       "    }\n",
       "\n",
       "    .dataframe thead th {\n",
       "        text-align: right;\n",
       "    }\n",
       "</style>\n",
       "<table border=\"1\" class=\"dataframe\">\n",
       "  <thead>\n",
       "    <tr style=\"text-align: right;\">\n",
       "      <th></th>\n",
       "      <th>journey</th>\n",
       "      <th>conversion_flg</th>\n",
       "      <th>counts</th>\n",
       "      <th>journey_length</th>\n",
       "    </tr>\n",
       "  </thead>\n",
       "  <tbody>\n",
       "    <tr>\n",
       "      <th>0</th>\n",
       "      <td>viewed_favourite_store &gt; Menu &gt; added_item &gt; C...</td>\n",
       "      <td>True</td>\n",
       "      <td>1381</td>\n",
       "      <td>4</td>\n",
       "    </tr>\n",
       "    <tr>\n",
       "      <th>1</th>\n",
       "      <td>Menu &gt; added_item &gt; CheckoutActivity</td>\n",
       "      <td>True</td>\n",
       "      <td>1303</td>\n",
       "      <td>3</td>\n",
       "    </tr>\n",
       "    <tr>\n",
       "      <th>2</th>\n",
       "      <td>Menu &gt; added_item &gt; CheckoutViewController</td>\n",
       "      <td>True</td>\n",
       "      <td>1165</td>\n",
       "      <td>3</td>\n",
       "    </tr>\n",
       "    <tr>\n",
       "      <th>3</th>\n",
       "      <td>Quick_Reorder &gt; CheckoutViewController</td>\n",
       "      <td>True</td>\n",
       "      <td>1025</td>\n",
       "      <td>2</td>\n",
       "    </tr>\n",
       "    <tr>\n",
       "      <th>4</th>\n",
       "      <td>viewed_favourite_store &gt; added_item &gt; Checkout...</td>\n",
       "      <td>True</td>\n",
       "      <td>753</td>\n",
       "      <td>3</td>\n",
       "    </tr>\n",
       "  </tbody>\n",
       "</table>\n",
       "</div>"
      ],
      "text/plain": [
       "                                             journey  conversion_flg  counts  \\\n",
       "0  viewed_favourite_store > Menu > added_item > C...            True    1381   \n",
       "1               Menu > added_item > CheckoutActivity            True    1303   \n",
       "2         Menu > added_item > CheckoutViewController            True    1165   \n",
       "3             Quick_Reorder > CheckoutViewController            True    1025   \n",
       "4  viewed_favourite_store > added_item > Checkout...            True     753   \n",
       "\n",
       "   journey_length  \n",
       "0               4  \n",
       "1               3  \n",
       "2               3  \n",
       "3               2  \n",
       "4               3  "
      ]
     },
     "execution_count": 145,
     "metadata": {},
     "output_type": "execute_result"
    }
   ],
   "source": [
    "df.head()"
   ]
  },
  {
   "cell_type": "code",
   "execution_count": 146,
   "id": "dc5f192b",
   "metadata": {},
   "outputs": [],
   "source": [
    "df.head(30).to_csv(('/Users/nehakhatri/Local_Python/Applebees/converters_top30.csv'))"
   ]
  },
  {
   "cell_type": "code",
   "execution_count": 119,
   "id": "378e7e59",
   "metadata": {},
   "outputs": [
    {
     "data": {
      "text/plain": [
       "<AxesSubplot: >"
      ]
     },
     "execution_count": 119,
     "metadata": {},
     "output_type": "execute_result"
    },
    {
     "data": {
      "image/png": "[encoded data removed]",
      "text/plain": [
       "<Figure size 640x480 with 1 Axes>"
      ]
     },
     "metadata": {},
     "output_type": "display_data"
    }
   ],
   "source": [
    "# Change min journey lenght and number of bins to further explore\n",
    "df[df['journey_length'] > 0]['journey_length'].hist(bins=8)"
   ]
  },
  {
   "cell_type": "code",
   "execution_count": 120,
   "id": "b3f21401",
   "metadata": {},
   "outputs": [
    {
     "data": {
      "text/plain": [
       "<AxesSubplot: >"
      ]
     },
     "execution_count": 120,
     "metadata": {},
     "output_type": "execute_result"
    },
    {
     "data": {
      "image/png": "[encoded data removed]",
      "text/plain": [
       "<Figure size 640x480 with 1 Axes>"
      ]
     },
     "metadata": {},
     "output_type": "display_data"
    }
   ],
   "source": [
    "df[df['journey_length'] > 1]['counts'].hist(bins=30)"
   ]
  },
  {
   "cell_type": "code",
   "execution_count": 132,
   "id": "ccf48692",
   "metadata": {},
   "outputs": [
    {
     "data": {
      "text/html": [
       "<div>\n",
       "<style scoped>\n",
       "    .dataframe tbody tr th:only-of-type {\n",
       "        vertical-align: middle;\n",
       "    }\n",
       "\n",
       "    .dataframe tbody tr th {\n",
       "        vertical-align: top;\n",
       "    }\n",
       "\n",
       "    .dataframe thead th {\n",
       "        text-align: right;\n",
       "    }\n",
       "</style>\n",
       "<table border=\"1\" class=\"dataframe\">\n",
       "  <thead>\n",
       "    <tr style=\"text-align: right;\">\n",
       "      <th></th>\n",
       "      <th>journey</th>\n",
       "      <th>conversion_flg</th>\n",
       "      <th>counts</th>\n",
       "      <th>journey_length</th>\n",
       "      <th>step_1</th>\n",
       "      <th>step_2</th>\n",
       "      <th>step_3</th>\n",
       "      <th>step_4</th>\n",
       "      <th>step_5</th>\n",
       "      <th>step_6</th>\n",
       "      <th>step_7</th>\n",
       "      <th>step_8</th>\n",
       "      <th>step_9</th>\n",
       "      <th>step_10</th>\n",
       "    </tr>\n",
       "  </thead>\n",
       "  <tbody>\n",
       "    <tr>\n",
       "      <th>0</th>\n",
       "      <td>Menu &gt; Journey End</td>\n",
       "      <td>False</td>\n",
       "      <td>5029</td>\n",
       "      <td>1</td>\n",
       "      <td>Menu</td>\n",
       "      <td>Journey End</td>\n",
       "      <td>NaN</td>\n",
       "      <td>NaN</td>\n",
       "      <td>NaN</td>\n",
       "      <td>NaN</td>\n",
       "      <td>NaN</td>\n",
       "      <td>NaN</td>\n",
       "      <td>NaN</td>\n",
       "      <td>NaN</td>\n",
       "    </tr>\n",
       "    <tr>\n",
       "      <th>1</th>\n",
       "      <td>Quick_Reorder &gt; Journey End</td>\n",
       "      <td>False</td>\n",
       "      <td>4187</td>\n",
       "      <td>1</td>\n",
       "      <td>Quick_Reorder</td>\n",
       "      <td>Journey End</td>\n",
       "      <td>NaN</td>\n",
       "      <td>NaN</td>\n",
       "      <td>NaN</td>\n",
       "      <td>NaN</td>\n",
       "      <td>NaN</td>\n",
       "      <td>NaN</td>\n",
       "      <td>NaN</td>\n",
       "      <td>NaN</td>\n",
       "    </tr>\n",
       "    <tr>\n",
       "      <th>2</th>\n",
       "      <td>viewed_favourite_store &gt; Journey End</td>\n",
       "      <td>False</td>\n",
       "      <td>2572</td>\n",
       "      <td>1</td>\n",
       "      <td>viewed_favourite_store</td>\n",
       "      <td>Journey End</td>\n",
       "      <td>NaN</td>\n",
       "      <td>NaN</td>\n",
       "      <td>NaN</td>\n",
       "      <td>NaN</td>\n",
       "      <td>NaN</td>\n",
       "      <td>NaN</td>\n",
       "      <td>NaN</td>\n",
       "      <td>NaN</td>\n",
       "    </tr>\n",
       "    <tr>\n",
       "      <th>3</th>\n",
       "      <td>viewed_favourite_store &gt; Menu &gt; Journey End</td>\n",
       "      <td>False</td>\n",
       "      <td>2098</td>\n",
       "      <td>2</td>\n",
       "      <td>viewed_favourite_store</td>\n",
       "      <td>Menu</td>\n",
       "      <td>Journey End</td>\n",
       "      <td>NaN</td>\n",
       "      <td>NaN</td>\n",
       "      <td>NaN</td>\n",
       "      <td>NaN</td>\n",
       "      <td>NaN</td>\n",
       "      <td>NaN</td>\n",
       "      <td>NaN</td>\n",
       "    </tr>\n",
       "    <tr>\n",
       "      <th>4</th>\n",
       "      <td>Appetizers &gt; Journey End</td>\n",
       "      <td>False</td>\n",
       "      <td>2015</td>\n",
       "      <td>1</td>\n",
       "      <td>Appetizers</td>\n",
       "      <td>Journey End</td>\n",
       "      <td>NaN</td>\n",
       "      <td>NaN</td>\n",
       "      <td>NaN</td>\n",
       "      <td>NaN</td>\n",
       "      <td>NaN</td>\n",
       "      <td>NaN</td>\n",
       "      <td>NaN</td>\n",
       "      <td>NaN</td>\n",
       "    </tr>\n",
       "    <tr>\n",
       "      <th>5</th>\n",
       "      <td>Menu &gt; added_item &gt; Journey End</td>\n",
       "      <td>False</td>\n",
       "      <td>975</td>\n",
       "      <td>2</td>\n",
       "      <td>Menu</td>\n",
       "      <td>added_item</td>\n",
       "      <td>Journey End</td>\n",
       "      <td>NaN</td>\n",
       "      <td>NaN</td>\n",
       "      <td>NaN</td>\n",
       "      <td>NaN</td>\n",
       "      <td>NaN</td>\n",
       "      <td>NaN</td>\n",
       "      <td>NaN</td>\n",
       "    </tr>\n",
       "    <tr>\n",
       "      <th>6</th>\n",
       "      <td>viewed_favourite_store &gt; Appetizers &gt; Journey End</td>\n",
       "      <td>False</td>\n",
       "      <td>896</td>\n",
       "      <td>2</td>\n",
       "      <td>viewed_favourite_store</td>\n",
       "      <td>Appetizers</td>\n",
       "      <td>Journey End</td>\n",
       "      <td>NaN</td>\n",
       "      <td>NaN</td>\n",
       "      <td>NaN</td>\n",
       "      <td>NaN</td>\n",
       "      <td>NaN</td>\n",
       "      <td>NaN</td>\n",
       "      <td>NaN</td>\n",
       "    </tr>\n",
       "    <tr>\n",
       "      <th>7</th>\n",
       "      <td>Appetizers &gt; Menu &gt; Journey End</td>\n",
       "      <td>False</td>\n",
       "      <td>774</td>\n",
       "      <td>2</td>\n",
       "      <td>Appetizers</td>\n",
       "      <td>Menu</td>\n",
       "      <td>Journey End</td>\n",
       "      <td>NaN</td>\n",
       "      <td>NaN</td>\n",
       "      <td>NaN</td>\n",
       "      <td>NaN</td>\n",
       "      <td>NaN</td>\n",
       "      <td>NaN</td>\n",
       "      <td>NaN</td>\n",
       "    </tr>\n",
       "    <tr>\n",
       "      <th>8</th>\n",
       "      <td>Menu &gt; Appetizers &gt; Journey End</td>\n",
       "      <td>False</td>\n",
       "      <td>628</td>\n",
       "      <td>2</td>\n",
       "      <td>Menu</td>\n",
       "      <td>Appetizers</td>\n",
       "      <td>Journey End</td>\n",
       "      <td>NaN</td>\n",
       "      <td>NaN</td>\n",
       "      <td>NaN</td>\n",
       "      <td>NaN</td>\n",
       "      <td>NaN</td>\n",
       "      <td>NaN</td>\n",
       "      <td>NaN</td>\n",
       "    </tr>\n",
       "    <tr>\n",
       "      <th>9</th>\n",
       "      <td>Drinks &gt; Journey End</td>\n",
       "      <td>False</td>\n",
       "      <td>618</td>\n",
       "      <td>1</td>\n",
       "      <td>Drinks</td>\n",
       "      <td>Journey End</td>\n",
       "      <td>NaN</td>\n",
       "      <td>NaN</td>\n",
       "      <td>NaN</td>\n",
       "      <td>NaN</td>\n",
       "      <td>NaN</td>\n",
       "      <td>NaN</td>\n",
       "      <td>NaN</td>\n",
       "      <td>NaN</td>\n",
       "    </tr>\n",
       "    <tr>\n",
       "      <th>10</th>\n",
       "      <td>added_item &gt; Journey End</td>\n",
       "      <td>False</td>\n",
       "      <td>604</td>\n",
       "      <td>1</td>\n",
       "      <td>added_item</td>\n",
       "      <td>Journey End</td>\n",
       "      <td>NaN</td>\n",
       "      <td>NaN</td>\n",
       "      <td>NaN</td>\n",
       "      <td>NaN</td>\n",
       "      <td>NaN</td>\n",
       "      <td>NaN</td>\n",
       "      <td>NaN</td>\n",
       "      <td>NaN</td>\n",
       "    </tr>\n",
       "    <tr>\n",
       "      <th>11</th>\n",
       "      <td>Appetizers &gt; added_item &gt; Journey End</td>\n",
       "      <td>False</td>\n",
       "      <td>433</td>\n",
       "      <td>2</td>\n",
       "      <td>Appetizers</td>\n",
       "      <td>added_item</td>\n",
       "      <td>Journey End</td>\n",
       "      <td>NaN</td>\n",
       "      <td>NaN</td>\n",
       "      <td>NaN</td>\n",
       "      <td>NaN</td>\n",
       "      <td>NaN</td>\n",
       "      <td>NaN</td>\n",
       "      <td>NaN</td>\n",
       "    </tr>\n",
       "    <tr>\n",
       "      <th>12</th>\n",
       "      <td>Menu &gt; Appetizers &gt; Menu &gt; Journey End</td>\n",
       "      <td>False</td>\n",
       "      <td>346</td>\n",
       "      <td>3</td>\n",
       "      <td>Menu</td>\n",
       "      <td>Appetizers</td>\n",
       "      <td>Menu</td>\n",
       "      <td>Journey End</td>\n",
       "      <td>NaN</td>\n",
       "      <td>NaN</td>\n",
       "      <td>NaN</td>\n",
       "      <td>NaN</td>\n",
       "      <td>NaN</td>\n",
       "      <td>NaN</td>\n",
       "    </tr>\n",
       "    <tr>\n",
       "      <th>13</th>\n",
       "      <td>viewed_favourite_store &gt; Menu &gt; added_item &gt; J...</td>\n",
       "      <td>False</td>\n",
       "      <td>316</td>\n",
       "      <td>3</td>\n",
       "      <td>viewed_favourite_store</td>\n",
       "      <td>Menu</td>\n",
       "      <td>added_item</td>\n",
       "      <td>Journey End</td>\n",
       "      <td>NaN</td>\n",
       "      <td>NaN</td>\n",
       "      <td>NaN</td>\n",
       "      <td>NaN</td>\n",
       "      <td>NaN</td>\n",
       "      <td>NaN</td>\n",
       "    </tr>\n",
       "    <tr>\n",
       "      <th>14</th>\n",
       "      <td>viewed_favourite_store &gt; Appetizers &gt; Menu &gt; J...</td>\n",
       "      <td>False</td>\n",
       "      <td>302</td>\n",
       "      <td>3</td>\n",
       "      <td>viewed_favourite_store</td>\n",
       "      <td>Appetizers</td>\n",
       "      <td>Menu</td>\n",
       "      <td>Journey End</td>\n",
       "      <td>NaN</td>\n",
       "      <td>NaN</td>\n",
       "      <td>NaN</td>\n",
       "      <td>NaN</td>\n",
       "      <td>NaN</td>\n",
       "      <td>NaN</td>\n",
       "    </tr>\n",
       "    <tr>\n",
       "      <th>15</th>\n",
       "      <td>Menu &gt; added_item &gt; Menu &gt; added_item &gt; Journe...</td>\n",
       "      <td>False</td>\n",
       "      <td>294</td>\n",
       "      <td>4</td>\n",
       "      <td>Menu</td>\n",
       "      <td>added_item</td>\n",
       "      <td>Menu</td>\n",
       "      <td>added_item</td>\n",
       "      <td>Journey End</td>\n",
       "      <td>NaN</td>\n",
       "      <td>NaN</td>\n",
       "      <td>NaN</td>\n",
       "      <td>NaN</td>\n",
       "      <td>NaN</td>\n",
       "    </tr>\n",
       "    <tr>\n",
       "      <th>16</th>\n",
       "      <td>Dessert &gt; Journey End</td>\n",
       "      <td>False</td>\n",
       "      <td>288</td>\n",
       "      <td>1</td>\n",
       "      <td>Dessert</td>\n",
       "      <td>Journey End</td>\n",
       "      <td>NaN</td>\n",
       "      <td>NaN</td>\n",
       "      <td>NaN</td>\n",
       "      <td>NaN</td>\n",
       "      <td>NaN</td>\n",
       "      <td>NaN</td>\n",
       "      <td>NaN</td>\n",
       "      <td>NaN</td>\n",
       "    </tr>\n",
       "    <tr>\n",
       "      <th>17</th>\n",
       "      <td>Kids Menu &gt; Journey End</td>\n",
       "      <td>False</td>\n",
       "      <td>259</td>\n",
       "      <td>1</td>\n",
       "      <td>Kids Menu</td>\n",
       "      <td>Journey End</td>\n",
       "      <td>NaN</td>\n",
       "      <td>NaN</td>\n",
       "      <td>NaN</td>\n",
       "      <td>NaN</td>\n",
       "      <td>NaN</td>\n",
       "      <td>NaN</td>\n",
       "      <td>NaN</td>\n",
       "      <td>NaN</td>\n",
       "    </tr>\n",
       "    <tr>\n",
       "      <th>18</th>\n",
       "      <td>viewed_favourite_store &gt; Menu &gt; Appetizers &gt; J...</td>\n",
       "      <td>False</td>\n",
       "      <td>251</td>\n",
       "      <td>3</td>\n",
       "      <td>viewed_favourite_store</td>\n",
       "      <td>Menu</td>\n",
       "      <td>Appetizers</td>\n",
       "      <td>Journey End</td>\n",
       "      <td>NaN</td>\n",
       "      <td>NaN</td>\n",
       "      <td>NaN</td>\n",
       "      <td>NaN</td>\n",
       "      <td>NaN</td>\n",
       "      <td>NaN</td>\n",
       "    </tr>\n",
       "    <tr>\n",
       "      <th>19</th>\n",
       "      <td>viewed_favourite_store &gt; Drinks &gt; Journey End</td>\n",
       "      <td>False</td>\n",
       "      <td>232</td>\n",
       "      <td>2</td>\n",
       "      <td>viewed_favourite_store</td>\n",
       "      <td>Drinks</td>\n",
       "      <td>Journey End</td>\n",
       "      <td>NaN</td>\n",
       "      <td>NaN</td>\n",
       "      <td>NaN</td>\n",
       "      <td>NaN</td>\n",
       "      <td>NaN</td>\n",
       "      <td>NaN</td>\n",
       "      <td>NaN</td>\n",
       "    </tr>\n",
       "    <tr>\n",
       "      <th>20</th>\n",
       "      <td>Quick_Reorder &gt; viewed_favourite_store &gt; Journ...</td>\n",
       "      <td>False</td>\n",
       "      <td>228</td>\n",
       "      <td>2</td>\n",
       "      <td>Quick_Reorder</td>\n",
       "      <td>viewed_favourite_store</td>\n",
       "      <td>Journey End</td>\n",
       "      <td>NaN</td>\n",
       "      <td>NaN</td>\n",
       "      <td>NaN</td>\n",
       "      <td>NaN</td>\n",
       "      <td>NaN</td>\n",
       "      <td>NaN</td>\n",
       "      <td>NaN</td>\n",
       "    </tr>\n",
       "    <tr>\n",
       "      <th>21</th>\n",
       "      <td>Menu &gt; added_item &gt; Menu &gt; Journey End</td>\n",
       "      <td>False</td>\n",
       "      <td>191</td>\n",
       "      <td>3</td>\n",
       "      <td>Menu</td>\n",
       "      <td>added_item</td>\n",
       "      <td>Menu</td>\n",
       "      <td>Journey End</td>\n",
       "      <td>NaN</td>\n",
       "      <td>NaN</td>\n",
       "      <td>NaN</td>\n",
       "      <td>NaN</td>\n",
       "      <td>NaN</td>\n",
       "      <td>NaN</td>\n",
       "    </tr>\n",
       "    <tr>\n",
       "      <th>22</th>\n",
       "      <td>Appetizers &gt; added_item &gt; Menu &gt; added_item &gt; ...</td>\n",
       "      <td>False</td>\n",
       "      <td>165</td>\n",
       "      <td>4</td>\n",
       "      <td>Appetizers</td>\n",
       "      <td>added_item</td>\n",
       "      <td>Menu</td>\n",
       "      <td>added_item</td>\n",
       "      <td>Journey End</td>\n",
       "      <td>NaN</td>\n",
       "      <td>NaN</td>\n",
       "      <td>NaN</td>\n",
       "      <td>NaN</td>\n",
       "      <td>NaN</td>\n",
       "    </tr>\n",
       "    <tr>\n",
       "      <th>23</th>\n",
       "      <td>Quick_Reorder &gt; viewed_favourite_store &gt; Menu ...</td>\n",
       "      <td>False</td>\n",
       "      <td>164</td>\n",
       "      <td>3</td>\n",
       "      <td>Quick_Reorder</td>\n",
       "      <td>viewed_favourite_store</td>\n",
       "      <td>Menu</td>\n",
       "      <td>Journey End</td>\n",
       "      <td>NaN</td>\n",
       "      <td>NaN</td>\n",
       "      <td>NaN</td>\n",
       "      <td>NaN</td>\n",
       "      <td>NaN</td>\n",
       "      <td>NaN</td>\n",
       "    </tr>\n",
       "    <tr>\n",
       "      <th>24</th>\n",
       "      <td>viewed_favourite_store &gt; Appetizers &gt; added_it...</td>\n",
       "      <td>False</td>\n",
       "      <td>160</td>\n",
       "      <td>3</td>\n",
       "      <td>viewed_favourite_store</td>\n",
       "      <td>Appetizers</td>\n",
       "      <td>added_item</td>\n",
       "      <td>Journey End</td>\n",
       "      <td>NaN</td>\n",
       "      <td>NaN</td>\n",
       "      <td>NaN</td>\n",
       "      <td>NaN</td>\n",
       "      <td>NaN</td>\n",
       "      <td>NaN</td>\n",
       "    </tr>\n",
       "  </tbody>\n",
       "</table>\n",
       "</div>"
      ],
      "text/plain": [
       "                                              journey  conversion_flg  counts  \\\n",
       "0                                  Menu > Journey End           False    5029   \n",
       "1                         Quick_Reorder > Journey End           False    4187   \n",
       "2                viewed_favourite_store > Journey End           False    2572   \n",
       "3         viewed_favourite_store > Menu > Journey End           False    2098   \n",
       "4                            Appetizers > Journey End           False    2015   \n",
       "5                     Menu > added_item > Journey End           False     975   \n",
       "6   viewed_favourite_store > Appetizers > Journey End           False     896   \n",
       "7                     Appetizers > Menu > Journey End           False     774   \n",
       "8                     Menu > Appetizers > Journey End           False     628   \n",
       "9                                Drinks > Journey End           False     618   \n",
       "10                           added_item > Journey End           False     604   \n",
       "11              Appetizers > added_item > Journey End           False     433   \n",
       "12             Menu > Appetizers > Menu > Journey End           False     346   \n",
       "13  viewed_favourite_store > Menu > added_item > J...           False     316   \n",
       "14  viewed_favourite_store > Appetizers > Menu > J...           False     302   \n",
       "15  Menu > added_item > Menu > added_item > Journe...           False     294   \n",
       "16                              Dessert > Journey End           False     288   \n",
       "17                            Kids Menu > Journey End           False     259   \n",
       "18  viewed_favourite_store > Menu > Appetizers > J...           False     251   \n",
       "19      viewed_favourite_store > Drinks > Journey End           False     232   \n",
       "20  Quick_Reorder > viewed_favourite_store > Journ...           False     228   \n",
       "21             Menu > added_item > Menu > Journey End           False     191   \n",
       "22  Appetizers > added_item > Menu > added_item > ...           False     165   \n",
       "23  Quick_Reorder > viewed_favourite_store > Menu ...           False     164   \n",
       "24  viewed_favourite_store > Appetizers > added_it...           False     160   \n",
       "\n",
       "    journey_length                  step_1                  step_2  \\\n",
       "0                1                    Menu             Journey End   \n",
       "1                1           Quick_Reorder             Journey End   \n",
       "2                1  viewed_favourite_store             Journey End   \n",
       "3                2  viewed_favourite_store                    Menu   \n",
       "4                1              Appetizers             Journey End   \n",
       "5                2                    Menu              added_item   \n",
       "6                2  viewed_favourite_store              Appetizers   \n",
       "7                2              Appetizers                    Menu   \n",
       "8                2                    Menu              Appetizers   \n",
       "9                1                  Drinks             Journey End   \n",
       "10               1              added_item             Journey End   \n",
       "11               2              Appetizers              added_item   \n",
       "12               3                    Menu              Appetizers   \n",
       "13               3  viewed_favourite_store                    Menu   \n",
       "14               3  viewed_favourite_store              Appetizers   \n",
       "15               4                    Menu              added_item   \n",
       "16               1                 Dessert             Journey End   \n",
       "17               1               Kids Menu             Journey End   \n",
       "18               3  viewed_favourite_store                    Menu   \n",
       "19               2  viewed_favourite_store                  Drinks   \n",
       "20               2           Quick_Reorder  viewed_favourite_store   \n",
       "21               3                    Menu              added_item   \n",
       "22               4              Appetizers              added_item   \n",
       "23               3           Quick_Reorder  viewed_favourite_store   \n",
       "24               3  viewed_favourite_store              Appetizers   \n",
       "\n",
       "         step_3       step_4       step_5 step_6 step_7 step_8 step_9 step_10  \n",
       "0           NaN          NaN          NaN    NaN    NaN    NaN    NaN     NaN  \n",
       "1           NaN          NaN          NaN    NaN    NaN    NaN    NaN     NaN  \n",
       "2           NaN          NaN          NaN    NaN    NaN    NaN    NaN     NaN  \n",
       "3   Journey End          NaN          NaN    NaN    NaN    NaN    NaN     NaN  \n",
       "4           NaN          NaN          NaN    NaN    NaN    NaN    NaN     NaN  \n",
       "5   Journey End          NaN          NaN    NaN    NaN    NaN    NaN     NaN  \n",
       "6   Journey End          NaN          NaN    NaN    NaN    NaN    NaN     NaN  \n",
       "7   Journey End          NaN          NaN    NaN    NaN    NaN    NaN     NaN  \n",
       "8   Journey End          NaN          NaN    NaN    NaN    NaN    NaN     NaN  \n",
       "9           NaN          NaN          NaN    NaN    NaN    NaN    NaN     NaN  \n",
       "10          NaN          NaN          NaN    NaN    NaN    NaN    NaN     NaN  \n",
       "11  Journey End          NaN          NaN    NaN    NaN    NaN    NaN     NaN  \n",
       "12         Menu  Journey End          NaN    NaN    NaN    NaN    NaN     NaN  \n",
       "13   added_item  Journey End          NaN    NaN    NaN    NaN    NaN     NaN  \n",
       "14         Menu  Journey End          NaN    NaN    NaN    NaN    NaN     NaN  \n",
       "15         Menu   added_item  Journey End    NaN    NaN    NaN    NaN     NaN  \n",
       "16          NaN          NaN          NaN    NaN    NaN    NaN    NaN     NaN  \n",
       "17          NaN          NaN          NaN    NaN    NaN    NaN    NaN     NaN  \n",
       "18   Appetizers  Journey End          NaN    NaN    NaN    NaN    NaN     NaN  \n",
       "19  Journey End          NaN          NaN    NaN    NaN    NaN    NaN     NaN  \n",
       "20  Journey End          NaN          NaN    NaN    NaN    NaN    NaN     NaN  \n",
       "21         Menu  Journey End          NaN    NaN    NaN    NaN    NaN     NaN  \n",
       "22         Menu   added_item  Journey End    NaN    NaN    NaN    NaN     NaN  \n",
       "23         Menu  Journey End          NaN    NaN    NaN    NaN    NaN     NaN  \n",
       "24   added_item  Journey End          NaN    NaN    NaN    NaN    NaN     NaN  "
      ]
     },
     "execution_count": 132,
     "metadata": {},
     "output_type": "execute_result"
    }
   ],
   "source": [
    "df.head(25)"
   ]
  },
  {
   "cell_type": "code",
   "execution_count": 123,
   "id": "c502d75e",
   "metadata": {},
   "outputs": [],
   "source": [
    "df = ga4_user_pathing.add_journey_end_string(df, journey_col='journey', conversion_column='Conversion', sep_val=' > ')\n",
    "df = ga4_user_pathing.parse_steps(df, sep_val=' > ', max_steps=10)"
   ]
  },
  {
   "cell_type": "code",
   "execution_count": 124,
   "id": "2dca428f",
   "metadata": {},
   "outputs": [
    {
     "data": {
      "text/plain": [
       "'Quick_Reorder > Journey End'"
      ]
     },
     "execution_count": 124,
     "metadata": {},
     "output_type": "execute_result"
    }
   ],
   "source": [
    "df['journey'][1]"
   ]
  },
  {
   "cell_type": "code",
   "execution_count": null,
   "id": "08ca3ca0",
   "metadata": {},
   "outputs": [],
   "source": [
    "#df_filtered.columns"
   ]
  },
  {
   "cell_type": "code",
   "execution_count": null,
   "id": "d18195e2",
   "metadata": {},
   "outputs": [],
   "source": [
    "#df_filtered = ga4_user_pathing.remove_long_tail_jouneys(df, count_col='counts', min_path_count=10)"
   ]
  },
  {
   "cell_type": "code",
   "execution_count": 133,
   "id": "fdfe69ed",
   "metadata": {},
   "outputs": [],
   "source": [
    "df_filtered = df[(df['journey_length'] >= 3) & (df['journey_length'] <= 9)]\n",
    "df_filtered = df_filtered.sort_values('counts', ascending = False)\n",
    "df_filtered = df_filtered.iloc[0:10,:]"
   ]
  },
  {
   "cell_type": "code",
   "execution_count": 135,
   "id": "1c019753",
   "metadata": {},
   "outputs": [],
   "source": [
    "\n",
    "df_filtered.to_csv('/Users/nehakhatri/Local_Python/Applebees/non_converters_top1_ge3_jl.csv')"
   ]
  },
  {
   "cell_type": "code",
   "execution_count": 136,
   "id": "81f764d3",
   "metadata": {},
   "outputs": [
    {
     "data": {
      "text/plain": [
       "Index(['journey', 'conversion_flg', 'counts', 'journey_length', 'step_1',\n",
       "       'step_2', 'step_3', 'step_4', 'step_5', 'step_6', 'step_7', 'step_8',\n",
       "       'step_9', 'step_10'],\n",
       "      dtype='object')"
      ]
     },
     "execution_count": 136,
     "metadata": {},
     "output_type": "execute_result"
    }
   ],
   "source": [
    "df_filtered.columns"
   ]
  },
  {
   "cell_type": "code",
   "execution_count": 137,
   "id": "1cc5afcb",
   "metadata": {},
   "outputs": [
    {
     "name": "stderr",
     "output_type": "stream",
     "text": [
      "/Users/nehakhatri/Documents/GitHub/applebees_user_pathing_analysis/ga4_user_pathing.py:253: FutureWarning:\n",
      "\n",
      "In a future version of pandas all arguments of DataFrame.drop except for the argument 'labels' will be keyword-only.\n",
      "\n",
      "/Users/nehakhatri/Documents/GitHub/applebees_user_pathing_analysis/ga4_user_pathing.py:261: FutureWarning:\n",
      "\n",
      "In a future version of pandas all arguments of DataFrame.drop except for the argument 'labels' will be keyword-only.\n",
      "\n"
     ]
    }
   ],
   "source": [
    "df_sankey, df_index = ga4_user_pathing.generate_sankey_inputs(df_filtered, COUNT_FIELD, .9)"
   ]
  },
  {
   "cell_type": "code",
   "execution_count": 131,
   "id": "970ed014",
   "metadata": {},
   "outputs": [],
   "source": [
    "#df_filtered.head(15)\n",
    "#df_filtered.to_csv('/Users/nehakhatri/Local_Python/Applebees/non_converters_top10.csv')\n",
    "#df_filtered.to_csv('/Users/nehakhatri/Local_Python/Applebees/non_converters_top1_ge3_jl.csv')"
   ]
  },
  {
   "cell_type": "code",
   "execution_count": 138,
   "id": "7c5b9431",
   "metadata": {},
   "outputs": [
    {
     "data": {
      "text/html": [
       "<div>\n",
       "<style scoped>\n",
       "    .dataframe tbody tr th:only-of-type {\n",
       "        vertical-align: middle;\n",
       "    }\n",
       "\n",
       "    .dataframe tbody tr th {\n",
       "        vertical-align: top;\n",
       "    }\n",
       "\n",
       "    .dataframe thead th {\n",
       "        text-align: right;\n",
       "    }\n",
       "</style>\n",
       "<table border=\"1\" class=\"dataframe\">\n",
       "  <thead>\n",
       "    <tr style=\"text-align: right;\">\n",
       "      <th></th>\n",
       "      <th>source</th>\n",
       "      <th>target</th>\n",
       "      <th>counts</th>\n",
       "      <th>source_index</th>\n",
       "      <th>color</th>\n",
       "      <th>target_index</th>\n",
       "    </tr>\n",
       "  </thead>\n",
       "  <tbody>\n",
       "    <tr>\n",
       "      <th>0</th>\n",
       "      <td>Appetizers</td>\n",
       "      <td>Journey End</td>\n",
       "      <td>251</td>\n",
       "      <td>3</td>\n",
       "      <td>rgba(128, 68, 123, 0.9)</td>\n",
       "      <td>1</td>\n",
       "    </tr>\n",
       "    <tr>\n",
       "      <th>1</th>\n",
       "      <td>Appetizers</td>\n",
       "      <td>Menu</td>\n",
       "      <td>648</td>\n",
       "      <td>3</td>\n",
       "      <td>rgba(128, 68, 123, 0.9)</td>\n",
       "      <td>0</td>\n",
       "    </tr>\n",
       "    <tr>\n",
       "      <th>2</th>\n",
       "      <td>Appetizers</td>\n",
       "      <td>added_item</td>\n",
       "      <td>631</td>\n",
       "      <td>3</td>\n",
       "      <td>rgba(128, 68, 123, 0.9)</td>\n",
       "      <td>2</td>\n",
       "    </tr>\n",
       "    <tr>\n",
       "      <th>3</th>\n",
       "      <td>Menu</td>\n",
       "      <td>Appetizers</td>\n",
       "      <td>597</td>\n",
       "      <td>0</td>\n",
       "      <td>rgba(142, 140, 153, 0.9)</td>\n",
       "      <td>3</td>\n",
       "    </tr>\n",
       "    <tr>\n",
       "      <th>4</th>\n",
       "      <td>Menu</td>\n",
       "      <td>Journey End</td>\n",
       "      <td>1003</td>\n",
       "      <td>0</td>\n",
       "      <td>rgba(142, 140, 153, 0.9)</td>\n",
       "      <td>1</td>\n",
       "    </tr>\n",
       "  </tbody>\n",
       "</table>\n",
       "</div>"
      ],
      "text/plain": [
       "       source       target counts  source_index                     color  \\\n",
       "0  Appetizers  Journey End    251             3   rgba(128, 68, 123, 0.9)   \n",
       "1  Appetizers         Menu    648             3   rgba(128, 68, 123, 0.9)   \n",
       "2  Appetizers   added_item    631             3   rgba(128, 68, 123, 0.9)   \n",
       "3        Menu   Appetizers    597             0  rgba(142, 140, 153, 0.9)   \n",
       "4        Menu  Journey End   1003             0  rgba(142, 140, 153, 0.9)   \n",
       "\n",
       "   target_index  \n",
       "0             1  \n",
       "1             0  \n",
       "2             2  \n",
       "3             3  \n",
       "4             1  "
      ]
     },
     "execution_count": 138,
     "metadata": {},
     "output_type": "execute_result"
    }
   ],
   "source": [
    "df_sankey.head()"
   ]
  },
  {
   "cell_type": "code",
   "execution_count": 139,
   "id": "49eaa08a",
   "metadata": {},
   "outputs": [
    {
     "data": {
      "application/vnd.plotly.v1+json": {
       "config": {
        "plotlyServerURL": "https://plot.ly"
       },
       "data": [
        {
         "arrangement": "freeform",
         "link": {
          "color": [
           "rgba(128, 68, 123, 0.3)",
           "rgba(128, 68, 123, 0.3)",
           "rgba(128, 68, 123, 0.3)",
           "rgba(142, 140, 153, 0.3)",
           "rgba(142, 140, 153, 0.3)",
           "rgba(142, 140, 153, 0.3)",
           "rgba(142, 231, 255, 0.3)",
           "rgba(45, 27, 181, 0.3)",
           "rgba(45, 27, 181, 0.3)",
           "rgba(45, 27, 181, 0.3)",
           "rgba(244, 14, 164, 0.3)",
           "rgba(244, 14, 164, 0.3)"
          ],
          "source": [
           3,
           3,
           3,
           0,
           0,
           0,
           5,
           2,
           2,
           2,
           4,
           4
          ],
          "target": [
           1,
           0,
           2,
           3,
           1,
           2,
           4,
           3,
           1,
           0,
           3,
           0
          ],
          "value": [
           251,
           648,
           631,
           597,
           1003,
           1260,
           164,
           153,
           1088,
           650,
           462,
           731
          ]
         },
         "node": {
          "color": [
           "rgba(142, 140, 153, 0.9)",
           "rgba(53, 41, 127, 0.9)",
           "rgba(45, 27, 181, 0.9)",
           "rgba(128, 68, 123, 0.9)",
           "rgba(244, 14, 164, 0.9)",
           "rgba(142, 231, 255, 0.9)"
          ],
          "label": [
           "Menu",
           "Journey End",
           "added_item",
           "Appetizers",
           "viewed_favourite_store",
           "Quick_Reorder"
          ],
          "line": {
           "color": "gray",
           "width": 0
          },
          "pad": 30,
          "thickness": 20
         },
         "type": "sankey",
         "valueformat": ".0f"
        }
       ],
       "layout": {
        "template": {
         "data": {
          "bar": [
           {
            "error_x": {
             "color": "#2a3f5f"
            },
            "error_y": {
             "color": "#2a3f5f"
            },
            "marker": {
             "line": {
              "color": "#E5ECF6",
              "width": 0.5
             },
             "pattern": {
              "fillmode": "overlay",
              "size": 10,
              "solidity": 0.2
             }
            },
            "type": "bar"
           }
          ],
          "barpolar": [
           {
            "marker": {
             "line": {
              "color": "#E5ECF6",
              "width": 0.5
             },
             "pattern": {
              "fillmode": "overlay",
              "size": 10,
              "solidity": 0.2
             }
            },
            "type": "barpolar"
           }
          ],
          "carpet": [
           {
            "aaxis": {
             "endlinecolor": "#2a3f5f",
             "gridcolor": "white",
             "linecolor": "white",
             "minorgridcolor": "white",
             "startlinecolor": "#2a3f5f"
            },
            "baxis": {
             "endlinecolor": "#2a3f5f",
             "gridcolor": "white",
             "linecolor": "white",
             "minorgridcolor": "white",
             "startlinecolor": "#2a3f5f"
            },
            "type": "carpet"
           }
          ],
          "choropleth": [
           {
            "colorbar": {
             "outlinewidth": 0,
             "ticks": ""
            },
            "type": "choropleth"
           }
          ],
          "contour": [
           {
            "colorbar": {
             "outlinewidth": 0,
             "ticks": ""
            },
            "colorscale": [
             [
              0,
              "#0d0887"
             ],
             [
              0.1111111111111111,
              "#46039f"
             ],
             [
              0.2222222222222222,
              "#7201a8"
             ],
             [
              0.3333333333333333,
              "#9c179e"
             ],
             [
              0.4444444444444444,
              "#bd3786"
             ],
             [
              0.5555555555555556,
              "#d8576b"
             ],
             [
              0.6666666666666666,
              "#ed7953"
             ],
             [
              0.7777777777777778,
              "#fb9f3a"
             ],
             [
              0.8888888888888888,
              "#fdca26"
             ],
             [
              1,
              "#f0f921"
             ]
            ],
            "type": "contour"
           }
          ],
          "contourcarpet": [
           {
            "colorbar": {
             "outlinewidth": 0,
             "ticks": ""
            },
            "type": "contourcarpet"
           }
          ],
          "heatmap": [
           {
            "colorbar": {
             "outlinewidth": 0,
             "ticks": ""
            },
            "colorscale": [
             [
              0,
              "#0d0887"
             ],
             [
              0.1111111111111111,
              "#46039f"
             ],
             [
              0.2222222222222222,
              "#7201a8"
             ],
             [
              0.3333333333333333,
              "#9c179e"
             ],
             [
              0.4444444444444444,
              "#bd3786"
             ],
             [
              0.5555555555555556,
              "#d8576b"
             ],
             [
              0.6666666666666666,
              "#ed7953"
             ],
             [
              0.7777777777777778,
              "#fb9f3a"
             ],
             [
              0.8888888888888888,
              "#fdca26"
             ],
             [
              1,
              "#f0f921"
             ]
            ],
            "type": "heatmap"
           }
          ],
          "heatmapgl": [
           {
            "colorbar": {
             "outlinewidth": 0,
             "ticks": ""
            },
            "colorscale": [
             [
              0,
              "#0d0887"
             ],
             [
              0.1111111111111111,
              "#46039f"
             ],
             [
              0.2222222222222222,
              "#7201a8"
             ],
             [
              0.3333333333333333,
              "#9c179e"
             ],
             [
              0.4444444444444444,
              "#bd3786"
             ],
             [
              0.5555555555555556,
              "#d8576b"
             ],
             [
              0.6666666666666666,
              "#ed7953"
             ],
             [
              0.7777777777777778,
              "#fb9f3a"
             ],
             [
              0.8888888888888888,
              "#fdca26"
             ],
             [
              1,
              "#f0f921"
             ]
            ],
            "type": "heatmapgl"
           }
          ],
          "histogram": [
           {
            "marker": {
             "pattern": {
              "fillmode": "overlay",
              "size": 10,
              "solidity": 0.2
             }
            },
            "type": "histogram"
           }
          ],
          "histogram2d": [
           {
            "colorbar": {
             "outlinewidth": 0,
             "ticks": ""
            },
            "colorscale": [
             [
              0,
              "#0d0887"
             ],
             [
              0.1111111111111111,
              "#46039f"
             ],
             [
              0.2222222222222222,
              "#7201a8"
             ],
             [
              0.3333333333333333,
              "#9c179e"
             ],
             [
              0.4444444444444444,
              "#bd3786"
             ],
             [
              0.5555555555555556,
              "#d8576b"
             ],
             [
              0.6666666666666666,
              "#ed7953"
             ],
             [
              0.7777777777777778,
              "#fb9f3a"
             ],
             [
              0.8888888888888888,
              "#fdca26"
             ],
             [
              1,
              "#f0f921"
             ]
            ],
            "type": "histogram2d"
           }
          ],
          "histogram2dcontour": [
           {
            "colorbar": {
             "outlinewidth": 0,
             "ticks": ""
            },
            "colorscale": [
             [
              0,
              "#0d0887"
             ],
             [
              0.1111111111111111,
              "#46039f"
             ],
             [
              0.2222222222222222,
              "#7201a8"
             ],
             [
              0.3333333333333333,
              "#9c179e"
             ],
             [
              0.4444444444444444,
              "#bd3786"
             ],
             [
              0.5555555555555556,
              "#d8576b"
             ],
             [
              0.6666666666666666,
              "#ed7953"
             ],
             [
              0.7777777777777778,
              "#fb9f3a"
             ],
             [
              0.8888888888888888,
              "#fdca26"
             ],
             [
              1,
              "#f0f921"
             ]
            ],
            "type": "histogram2dcontour"
           }
          ],
          "mesh3d": [
           {
            "colorbar": {
             "outlinewidth": 0,
             "ticks": ""
            },
            "type": "mesh3d"
           }
          ],
          "parcoords": [
           {
            "line": {
             "colorbar": {
              "outlinewidth": 0,
              "ticks": ""
             }
            },
            "type": "parcoords"
           }
          ],
          "pie": [
           {
            "automargin": true,
            "type": "pie"
           }
          ],
          "scatter": [
           {
            "fillpattern": {
             "fillmode": "overlay",
             "size": 10,
             "solidity": 0.2
            },
            "type": "scatter"
           }
          ],
          "scatter3d": [
           {
            "line": {
             "colorbar": {
              "outlinewidth": 0,
              "ticks": ""
             }
            },
            "marker": {
             "colorbar": {
              "outlinewidth": 0,
              "ticks": ""
             }
            },
            "type": "scatter3d"
           }
          ],
          "scattercarpet": [
           {
            "marker": {
             "colorbar": {
              "outlinewidth": 0,
              "ticks": ""
             }
            },
            "type": "scattercarpet"
           }
          ],
          "scattergeo": [
           {
            "marker": {
             "colorbar": {
              "outlinewidth": 0,
              "ticks": ""
             }
            },
            "type": "scattergeo"
           }
          ],
          "scattergl": [
           {
            "marker": {
             "colorbar": {
              "outlinewidth": 0,
              "ticks": ""
             }
            },
            "type": "scattergl"
           }
          ],
          "scattermapbox": [
           {
            "marker": {
             "colorbar": {
              "outlinewidth": 0,
              "ticks": ""
             }
            },
            "type": "scattermapbox"
           }
          ],
          "scatterpolar": [
           {
            "marker": {
             "colorbar": {
              "outlinewidth": 0,
              "ticks": ""
             }
            },
            "type": "scatterpolar"
           }
          ],
          "scatterpolargl": [
           {
            "marker": {
             "colorbar": {
              "outlinewidth": 0,
              "ticks": ""
             }
            },
            "type": "scatterpolargl"
           }
          ],
          "scatterternary": [
           {
            "marker": {
             "colorbar": {
              "outlinewidth": 0,
              "ticks": ""
             }
            },
            "type": "scatterternary"
           }
          ],
          "surface": [
           {
            "colorbar": {
             "outlinewidth": 0,
             "ticks": ""
            },
            "colorscale": [
             [
              0,
              "#0d0887"
             ],
             [
              0.1111111111111111,
              "#46039f"
             ],
             [
              0.2222222222222222,
              "#7201a8"
             ],
             [
              0.3333333333333333,
              "#9c179e"
             ],
             [
              0.4444444444444444,
              "#bd3786"
             ],
             [
              0.5555555555555556,
              "#d8576b"
             ],
             [
              0.6666666666666666,
              "#ed7953"
             ],
             [
              0.7777777777777778,
              "#fb9f3a"
             ],
             [
              0.8888888888888888,
              "#fdca26"
             ],
             [
              1,
              "#f0f921"
             ]
            ],
            "type": "surface"
           }
          ],
          "table": [
           {
            "cells": {
             "fill": {
              "color": "#EBF0F8"
             },
             "line": {
              "color": "white"
             }
            },
            "header": {
             "fill": {
              "color": "#C8D4E3"
             },
             "line": {
              "color": "white"
             }
            },
            "type": "table"
           }
          ]
         },
         "layout": {
          "annotationdefaults": {
           "arrowcolor": "#2a3f5f",
           "arrowhead": 0,
           "arrowwidth": 1
          },
          "autotypenumbers": "strict",
          "coloraxis": {
           "colorbar": {
            "outlinewidth": 0,
            "ticks": ""
           }
          },
          "colorscale": {
           "diverging": [
            [
             0,
             "#8e0152"
            ],
            [
             0.1,
             "#c51b7d"
            ],
            [
             0.2,
             "#de77ae"
            ],
            [
             0.3,
             "#f1b6da"
            ],
            [
             0.4,
             "#fde0ef"
            ],
            [
             0.5,
             "#f7f7f7"
            ],
            [
             0.6,
             "#e6f5d0"
            ],
            [
             0.7,
             "#b8e186"
            ],
            [
             0.8,
             "#7fbc41"
            ],
            [
             0.9,
             "#4d9221"
            ],
            [
             1,
             "#276419"
            ]
           ],
           "sequential": [
            [
             0,
             "#0d0887"
            ],
            [
             0.1111111111111111,
             "#46039f"
            ],
            [
             0.2222222222222222,
             "#7201a8"
            ],
            [
             0.3333333333333333,
             "#9c179e"
            ],
            [
             0.4444444444444444,
             "#bd3786"
            ],
            [
             0.5555555555555556,
             "#d8576b"
            ],
            [
             0.6666666666666666,
             "#ed7953"
            ],
            [
             0.7777777777777778,
             "#fb9f3a"
            ],
            [
             0.8888888888888888,
             "#fdca26"
            ],
            [
             1,
             "#f0f921"
            ]
           ],
           "sequentialminus": [
            [
             0,
             "#0d0887"
            ],
            [
             0.1111111111111111,
             "#46039f"
            ],
            [
             0.2222222222222222,
             "#7201a8"
            ],
            [
             0.3333333333333333,
             "#9c179e"
            ],
            [
             0.4444444444444444,
             "#bd3786"
            ],
            [
             0.5555555555555556,
             "#d8576b"
            ],
            [
             0.6666666666666666,
             "#ed7953"
            ],
            [
             0.7777777777777778,
             "#fb9f3a"
            ],
            [
             0.8888888888888888,
             "#fdca26"
            ],
            [
             1,
             "#f0f921"
            ]
           ]
          },
          "colorway": [
           "#636efa",
           "#EF553B",
           "#00cc96",
           "#ab63fa",
           "#FFA15A",
           "#19d3f3",
           "#FF6692",
           "#B6E880",
           "#FF97FF",
           "#FECB52"
          ],
          "font": {
           "color": "#2a3f5f"
          },
          "geo": {
           "bgcolor": "white",
           "lakecolor": "white",
           "landcolor": "#E5ECF6",
           "showlakes": true,
           "showland": true,
           "subunitcolor": "white"
          },
          "hoverlabel": {
           "align": "left"
          },
          "hovermode": "closest",
          "mapbox": {
           "style": "light"
          },
          "paper_bgcolor": "white",
          "plot_bgcolor": "#E5ECF6",
          "polar": {
           "angularaxis": {
            "gridcolor": "white",
            "linecolor": "white",
            "ticks": ""
           },
           "bgcolor": "#E5ECF6",
           "radialaxis": {
            "gridcolor": "white",
            "linecolor": "white",
            "ticks": ""
           }
          },
          "scene": {
           "xaxis": {
            "backgroundcolor": "#E5ECF6",
            "gridcolor": "white",
            "gridwidth": 2,
            "linecolor": "white",
            "showbackground": true,
            "ticks": "",
            "zerolinecolor": "white"
           },
           "yaxis": {
            "backgroundcolor": "#E5ECF6",
            "gridcolor": "white",
            "gridwidth": 2,
            "linecolor": "white",
            "showbackground": true,
            "ticks": "",
            "zerolinecolor": "white"
           },
           "zaxis": {
            "backgroundcolor": "#E5ECF6",
            "gridcolor": "white",
            "gridwidth": 2,
            "linecolor": "white",
            "showbackground": true,
            "ticks": "",
            "zerolinecolor": "white"
           }
          },
          "shapedefaults": {
           "line": {
            "color": "#2a3f5f"
           }
          },
          "ternary": {
           "aaxis": {
            "gridcolor": "white",
            "linecolor": "white",
            "ticks": ""
           },
           "baxis": {
            "gridcolor": "white",
            "linecolor": "white",
            "ticks": ""
           },
           "bgcolor": "#E5ECF6",
           "caxis": {
            "gridcolor": "white",
            "linecolor": "white",
            "ticks": ""
           }
          },
          "title": {
           "x": 0.05
          },
          "xaxis": {
           "automargin": true,
           "gridcolor": "white",
           "linecolor": "white",
           "ticks": "",
           "title": {
            "standoff": 15
           },
           "zerolinecolor": "white",
           "zerolinewidth": 2
          },
          "yaxis": {
           "automargin": true,
           "gridcolor": "white",
           "linecolor": "white",
           "ticks": "",
           "title": {
            "standoff": 15
           },
           "zerolinecolor": "white",
           "zerolinewidth": 2
          }
         }
        }
       }
      }
     },
     "metadata": {},
     "output_type": "display_data"
    }
   ],
   "source": [
    "ga4_user_pathing.display_sankey(df_sankey, df_index, count_field=COUNT_FIELD, link_opacity=.3)"
   ]
  },
  {
   "cell_type": "code",
   "execution_count": null,
   "id": "e33a5c29",
   "metadata": {},
   "outputs": [],
   "source": []
  }
 ],
 "metadata": {
  "kernelspec": {
   "display_name": "Python 3.10.6 ('AB_env')",
   "language": "python",
   "name": "python3"
  },
  "language_info": {
   "codemirror_mode": {
    "name": "ipython",
    "version": 3
   },
   "file_extension": ".py",
   "mimetype": "text/x-python",
   "name": "python",
   "nbconvert_exporter": "python",
   "pygments_lexer": "ipython3",
   "version": "3.10.6"
  },
  "vscode": {
   "interpreter": {
    "hash": "1715eaea815ea25ab3b4a92e6654dade22b28061a52cf2c7cf8726228fe01ed8"
   }
  }
 },
 "nbformat": 4,
 "nbformat_minor": 5
}

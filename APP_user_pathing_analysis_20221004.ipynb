{
 "cells": [
  {
   "cell_type": "code",
   "execution_count": null,
   "id": "0dea5d3e",
   "metadata": {},
   "outputs": [],
   "source": [
    "#Script created by Neha on 2022-10-04\n",
    "#Script is designed to analyze Applebees Site traffic analysis on APP only\n",
    "#Github repo: https://github.com/matt-walentosky-bt/applebees_user_pathing_analysis"
   ]
  },
  {
   "cell_type": "code",
   "execution_count": 1,
   "id": "0c0419ec",
   "metadata": {},
   "outputs": [],
   "source": [
    "#Import desired packages\n",
    "import ga4_user_pathing\n",
    "import pandas as pd\n",
    "import os"
   ]
  },
  {
   "cell_type": "code",
   "execution_count": 2,
   "id": "ef8966e2",
   "metadata": {},
   "outputs": [],
   "source": [
    "#Parameters from Tyler Norris / Vanessa Schneider\n",
    "# Globals:\n",
    "COUNT_FIELD = 'counts' # DF fields references to aggregations value (users, sessions)\n",
    "NODE_OPACITY = .9\n",
    "LINK_OPACITY = .6\n",
    "SEP_VAL = ' > '\n",
    "KEY_PATH = '/Users/vanessaschneider/keys/dse-chase-user-pathing.json'"
   ]
  },
  {
   "cell_type": "code",
   "execution_count": 3,
   "id": "dcc94cf0",
   "metadata": {},
   "outputs": [
    {
     "data": {
      "text/plain": [
       "'/Users/nehakhatri/Documents/GitHub/applebees_user_pathing_analysis'"
      ]
     },
     "execution_count": 3,
     "metadata": {},
     "output_type": "execute_result"
    }
   ],
   "source": [
    "#Get working directory\n",
    "os.getcwd()"
   ]
  },
  {
   "cell_type": "code",
   "execution_count": 4,
   "id": "f952a10c",
   "metadata": {},
   "outputs": [],
   "source": [
    "#Read desired document\n",
    "conversion_status = True\n",
    "\n",
    "if conversion_status == True:\n",
    "    df = pd.read_csv(\"APP_converters_user_pathing.csv\")\n",
    "else:\n",
    "    df = pd.read_csv(\"APP_non_converters_user_pathing.csv\")\n",
    "    \n",
    "#Note, we can only pull fraction of data from BQ into CSV format   "
   ]
  },
  {
   "cell_type": "code",
   "execution_count": 5,
   "id": "01f01a1b",
   "metadata": {},
   "outputs": [
    {
     "name": "stdout",
     "output_type": "stream",
     "text": [
      "(16204, 3)\n",
      "----\n",
      "                                             journey  conversion_flg  counts\n",
      "0  viewed_favourite_store > Menu > added_item > C...            True    1381\n",
      "1               Menu > added_item > CheckoutActivity            True    1303\n",
      "2         Menu > added_item > CheckoutViewController            True    1165\n",
      "3             Quick_Reorder > CheckoutViewController            True    1025\n",
      "4  viewed_favourite_store > added_item > Checkout...            True     753\n"
     ]
    }
   ],
   "source": [
    "print(df.shape)\n",
    "print(\"----\")\n",
    "print(df.head())"
   ]
  },
  {
   "cell_type": "code",
   "execution_count": 6,
   "id": "e38cd963",
   "metadata": {},
   "outputs": [],
   "source": [
    "df['journey_length'] = df.apply(lambda x: len(x['journey'].split(SEP_VAL)), axis=1)"
   ]
  },
  {
   "cell_type": "code",
   "execution_count": null,
   "id": "38051257",
   "metadata": {},
   "outputs": [],
   "source": [
    "df.describe()"
   ]
  },
  {
   "cell_type": "code",
   "execution_count": 25,
   "id": "858686cf",
   "metadata": {},
   "outputs": [
    {
     "data": {
      "text/plain": [
       "(16204, 14)"
      ]
     },
     "execution_count": 25,
     "metadata": {},
     "output_type": "execute_result"
    }
   ],
   "source": [
    "df.head()\n",
    "df.shape"
   ]
  },
  {
   "cell_type": "code",
   "execution_count": 26,
   "id": "dc5f192b",
   "metadata": {},
   "outputs": [],
   "source": [
    "df.to_csv(('/Users/nehakhatri/Local_Python/Applebees/converters_journey_length.csv'))"
   ]
  },
  {
   "cell_type": "code",
   "execution_count": null,
   "id": "378e7e59",
   "metadata": {},
   "outputs": [],
   "source": [
    "# Change min journey lenght and number of bins to further explore\n",
    "df[df['journey_length'] > 0]['journey_length'].hist(bins=8)"
   ]
  },
  {
   "cell_type": "code",
   "execution_count": null,
   "id": "b3f21401",
   "metadata": {},
   "outputs": [],
   "source": [
    "df[df['journey_length'] > 1]['counts'].hist(bins=30)"
   ]
  },
  {
   "cell_type": "code",
   "execution_count": null,
   "id": "ccf48692",
   "metadata": {},
   "outputs": [],
   "source": [
    "df.head(25)"
   ]
  },
  {
   "cell_type": "code",
   "execution_count": 7,
   "id": "c502d75e",
   "metadata": {},
   "outputs": [],
   "source": [
    "df = ga4_user_pathing.add_journey_end_string(df, journey_col='journey', conversion_column='Conversion', sep_val=' > ')\n",
    "df = ga4_user_pathing.parse_steps(df, sep_val=' > ', max_steps=10)"
   ]
  },
  {
   "cell_type": "code",
   "execution_count": 8,
   "id": "2dca428f",
   "metadata": {},
   "outputs": [
    {
     "data": {
      "text/plain": [
       "'viewed_favourite_store > Menu > added_item > CheckoutViewController > Journey End'"
      ]
     },
     "execution_count": 8,
     "metadata": {},
     "output_type": "execute_result"
    }
   ],
   "source": [
    "df['journey'][0]"
   ]
  },
  {
   "cell_type": "code",
   "execution_count": null,
   "id": "08ca3ca0",
   "metadata": {},
   "outputs": [],
   "source": [
    "#df_filtered.columns"
   ]
  },
  {
   "cell_type": "code",
   "execution_count": null,
   "id": "d18195e2",
   "metadata": {},
   "outputs": [],
   "source": [
    "#df_filtered = ga4_user_pathing.remove_long_tail_jouneys(df, count_col='counts', min_path_count=10)"
   ]
  },
  {
   "cell_type": "code",
   "execution_count": 21,
   "id": "fdfe69ed",
   "metadata": {},
   "outputs": [
    {
     "name": "stdout",
     "output_type": "stream",
     "text": [
      "(100, 14)\n"
     ]
    }
   ],
   "source": [
    "df_filtered = df[(df['journey_length'] >= 1) & (df['journey_length'] <= 6)]\n",
    "df_filtered = df_filtered.sort_values('counts', ascending = False)\n",
    "df_filtered = df_filtered.iloc[0:100,:]\n",
    "print(df_filtered.shape)"
   ]
  },
  {
   "cell_type": "code",
   "execution_count": 10,
   "id": "b183d365",
   "metadata": {},
   "outputs": [
    {
     "name": "stdout",
     "output_type": "stream",
     "text": [
      "(10, 14)\n"
     ]
    }
   ],
   "source": [
    "df_filtered = df_filtered.iloc[0:10,:]\n",
    "print(df_filtered.shape)"
   ]
  },
  {
   "cell_type": "code",
   "execution_count": 20,
   "id": "6267cd0e",
   "metadata": {},
   "outputs": [
    {
     "data": {
      "text/html": [
       "<div>\n",
       "<style scoped>\n",
       "    .dataframe tbody tr th:only-of-type {\n",
       "        vertical-align: middle;\n",
       "    }\n",
       "\n",
       "    .dataframe tbody tr th {\n",
       "        vertical-align: top;\n",
       "    }\n",
       "\n",
       "    .dataframe thead th {\n",
       "        text-align: right;\n",
       "    }\n",
       "</style>\n",
       "<table border=\"1\" class=\"dataframe\">\n",
       "  <thead>\n",
       "    <tr style=\"text-align: right;\">\n",
       "      <th></th>\n",
       "      <th>journey</th>\n",
       "      <th>conversion_flg</th>\n",
       "      <th>counts</th>\n",
       "      <th>journey_length</th>\n",
       "      <th>step_1</th>\n",
       "      <th>step_2</th>\n",
       "      <th>step_3</th>\n",
       "      <th>step_4</th>\n",
       "      <th>step_5</th>\n",
       "      <th>step_6</th>\n",
       "      <th>step_7</th>\n",
       "      <th>step_8</th>\n",
       "      <th>step_9</th>\n",
       "      <th>step_10</th>\n",
       "    </tr>\n",
       "  </thead>\n",
       "  <tbody>\n",
       "    <tr>\n",
       "      <th>5</th>\n",
       "      <td>Menu &gt; added_item &gt; Menu &gt; added_item &gt; Checko...</td>\n",
       "      <td>True</td>\n",
       "      <td>753</td>\n",
       "      <td>5</td>\n",
       "      <td>Menu</td>\n",
       "      <td>added_item</td>\n",
       "      <td>Menu</td>\n",
       "      <td>added_item</td>\n",
       "      <td>CheckoutActivity</td>\n",
       "      <td>Journey End</td>\n",
       "      <td>NaN</td>\n",
       "      <td>NaN</td>\n",
       "      <td>NaN</td>\n",
       "      <td>NaN</td>\n",
       "    </tr>\n",
       "    <tr>\n",
       "      <th>6</th>\n",
       "      <td>viewed_favourite_store &gt; Menu &gt; added_item &gt; M...</td>\n",
       "      <td>True</td>\n",
       "      <td>750</td>\n",
       "      <td>6</td>\n",
       "      <td>viewed_favourite_store</td>\n",
       "      <td>Menu</td>\n",
       "      <td>added_item</td>\n",
       "      <td>Menu</td>\n",
       "      <td>added_item</td>\n",
       "      <td>CheckoutViewController</td>\n",
       "      <td>Journey End</td>\n",
       "      <td>NaN</td>\n",
       "      <td>NaN</td>\n",
       "      <td>NaN</td>\n",
       "    </tr>\n",
       "    <tr>\n",
       "      <th>10</th>\n",
       "      <td>Menu &gt; added_item &gt; Menu &gt; added_item &gt; Checko...</td>\n",
       "      <td>True</td>\n",
       "      <td>557</td>\n",
       "      <td>5</td>\n",
       "      <td>Menu</td>\n",
       "      <td>added_item</td>\n",
       "      <td>Menu</td>\n",
       "      <td>added_item</td>\n",
       "      <td>CheckoutViewController</td>\n",
       "      <td>Journey End</td>\n",
       "      <td>NaN</td>\n",
       "      <td>NaN</td>\n",
       "      <td>NaN</td>\n",
       "      <td>NaN</td>\n",
       "    </tr>\n",
       "    <tr>\n",
       "      <th>15</th>\n",
       "      <td>viewed_favourite_store &gt; Menu &gt; added_item &gt; A...</td>\n",
       "      <td>True</td>\n",
       "      <td>266</td>\n",
       "      <td>6</td>\n",
       "      <td>viewed_favourite_store</td>\n",
       "      <td>Menu</td>\n",
       "      <td>added_item</td>\n",
       "      <td>Appetizers</td>\n",
       "      <td>added_item</td>\n",
       "      <td>CheckoutViewController</td>\n",
       "      <td>Journey End</td>\n",
       "      <td>NaN</td>\n",
       "      <td>NaN</td>\n",
       "      <td>NaN</td>\n",
       "    </tr>\n",
       "    <tr>\n",
       "      <th>16</th>\n",
       "      <td>viewed_favourite_store &gt; Appetizers &gt; added_it...</td>\n",
       "      <td>True</td>\n",
       "      <td>250</td>\n",
       "      <td>6</td>\n",
       "      <td>viewed_favourite_store</td>\n",
       "      <td>Appetizers</td>\n",
       "      <td>added_item</td>\n",
       "      <td>Menu</td>\n",
       "      <td>added_item</td>\n",
       "      <td>CheckoutViewController</td>\n",
       "      <td>Journey End</td>\n",
       "      <td>NaN</td>\n",
       "      <td>NaN</td>\n",
       "      <td>NaN</td>\n",
       "    </tr>\n",
       "  </tbody>\n",
       "</table>\n",
       "</div>"
      ],
      "text/plain": [
       "                                              journey  conversion_flg  counts  \\\n",
       "5   Menu > added_item > Menu > added_item > Checko...            True     753   \n",
       "6   viewed_favourite_store > Menu > added_item > M...            True     750   \n",
       "10  Menu > added_item > Menu > added_item > Checko...            True     557   \n",
       "15  viewed_favourite_store > Menu > added_item > A...            True     266   \n",
       "16  viewed_favourite_store > Appetizers > added_it...            True     250   \n",
       "\n",
       "    journey_length                  step_1      step_2      step_3  \\\n",
       "5                5                    Menu  added_item        Menu   \n",
       "6                6  viewed_favourite_store        Menu  added_item   \n",
       "10               5                    Menu  added_item        Menu   \n",
       "15               6  viewed_favourite_store        Menu  added_item   \n",
       "16               6  viewed_favourite_store  Appetizers  added_item   \n",
       "\n",
       "        step_4                  step_5                  step_6       step_7  \\\n",
       "5   added_item        CheckoutActivity             Journey End          NaN   \n",
       "6         Menu              added_item  CheckoutViewController  Journey End   \n",
       "10  added_item  CheckoutViewController             Journey End          NaN   \n",
       "15  Appetizers              added_item  CheckoutViewController  Journey End   \n",
       "16        Menu              added_item  CheckoutViewController  Journey End   \n",
       "\n",
       "   step_8 step_9 step_10  \n",
       "5     NaN    NaN     NaN  \n",
       "6     NaN    NaN     NaN  \n",
       "10    NaN    NaN     NaN  \n",
       "15    NaN    NaN     NaN  \n",
       "16    NaN    NaN     NaN  "
      ]
     },
     "execution_count": 20,
     "metadata": {},
     "output_type": "execute_result"
    }
   ],
   "source": [
    "df_filtered.head()"
   ]
  },
  {
   "cell_type": "code",
   "execution_count": 16,
   "id": "1c019753",
   "metadata": {},
   "outputs": [],
   "source": [
    "\n",
    "df_filtered.to_csv('/Users/nehakhatri/Local_Python/Applebees/converters_top10_ge5_jl.csv')"
   ]
  },
  {
   "cell_type": "code",
   "execution_count": 11,
   "id": "81f764d3",
   "metadata": {},
   "outputs": [
    {
     "data": {
      "text/plain": [
       "Index(['journey', 'conversion_flg', 'counts', 'journey_length', 'step_1',\n",
       "       'step_2', 'step_3', 'step_4', 'step_5', 'step_6', 'step_7', 'step_8',\n",
       "       'step_9', 'step_10'],\n",
       "      dtype='object')"
      ]
     },
     "execution_count": 11,
     "metadata": {},
     "output_type": "execute_result"
    }
   ],
   "source": [
    "df_filtered.columns"
   ]
  },
  {
   "cell_type": "code",
   "execution_count": 22,
   "id": "1cc5afcb",
   "metadata": {},
   "outputs": [
    {
     "name": "stderr",
     "output_type": "stream",
     "text": [
      "/Users/nehakhatri/Documents/GitHub/applebees_user_pathing_analysis/ga4_user_pathing.py:253: FutureWarning:\n",
      "\n",
      "In a future version of pandas all arguments of DataFrame.drop except for the argument 'labels' will be keyword-only.\n",
      "\n",
      "/Users/nehakhatri/Documents/GitHub/applebees_user_pathing_analysis/ga4_user_pathing.py:261: FutureWarning:\n",
      "\n",
      "In a future version of pandas all arguments of DataFrame.drop except for the argument 'labels' will be keyword-only.\n",
      "\n"
     ]
    }
   ],
   "source": [
    "df_sankey, df_index = ga4_user_pathing.generate_sankey_inputs(df_filtered, COUNT_FIELD, .9)"
   ]
  },
  {
   "cell_type": "code",
   "execution_count": null,
   "id": "970ed014",
   "metadata": {},
   "outputs": [],
   "source": [
    "#df_filtered.head(15)\n",
    "#df_filtered.to_csv('/Users/nehakhatri/Local_Python/Applebees/non_converters_top10.csv')\n",
    "#df_filtered.to_csv('/Users/nehakhatri/Local_Python/Applebees/non_converters_top1_ge3_jl.csv')"
   ]
  },
  {
   "cell_type": "code",
   "execution_count": 13,
   "id": "7c5b9431",
   "metadata": {},
   "outputs": [
    {
     "data": {
      "text/html": [
       "<div>\n",
       "<style scoped>\n",
       "    .dataframe tbody tr th:only-of-type {\n",
       "        vertical-align: middle;\n",
       "    }\n",
       "\n",
       "    .dataframe tbody tr th {\n",
       "        vertical-align: top;\n",
       "    }\n",
       "\n",
       "    .dataframe thead th {\n",
       "        text-align: right;\n",
       "    }\n",
       "</style>\n",
       "<table border=\"1\" class=\"dataframe\">\n",
       "  <thead>\n",
       "    <tr style=\"text-align: right;\">\n",
       "      <th></th>\n",
       "      <th>source</th>\n",
       "      <th>target</th>\n",
       "      <th>counts</th>\n",
       "      <th>source_index</th>\n",
       "      <th>color</th>\n",
       "      <th>target_index</th>\n",
       "    </tr>\n",
       "  </thead>\n",
       "  <tbody>\n",
       "    <tr>\n",
       "      <th>0</th>\n",
       "      <td>Appetizers</td>\n",
       "      <td>added_item</td>\n",
       "      <td>2071</td>\n",
       "      <td>4</td>\n",
       "      <td>rgba(244, 14, 164, 0.9)</td>\n",
       "      <td>0</td>\n",
       "    </tr>\n",
       "    <tr>\n",
       "      <th>1</th>\n",
       "      <td>CheckoutActivity</td>\n",
       "      <td>Journey End</td>\n",
       "      <td>1186</td>\n",
       "      <td>6</td>\n",
       "      <td>rgba(255, 177, 255, 0.9)</td>\n",
       "      <td>2</td>\n",
       "    </tr>\n",
       "    <tr>\n",
       "      <th>2</th>\n",
       "      <td>CheckoutViewController</td>\n",
       "      <td>Journey End</td>\n",
       "      <td>2485</td>\n",
       "      <td>3</td>\n",
       "      <td>rgba(128, 68, 123, 0.9)</td>\n",
       "      <td>2</td>\n",
       "    </tr>\n",
       "    <tr>\n",
       "      <th>3</th>\n",
       "      <td>Menu</td>\n",
       "      <td>added_item</td>\n",
       "      <td>5271</td>\n",
       "      <td>1</td>\n",
       "      <td>rgba(53, 41, 127, 0.9)</td>\n",
       "      <td>0</td>\n",
       "    </tr>\n",
       "    <tr>\n",
       "      <th>4</th>\n",
       "      <td>added_item</td>\n",
       "      <td>Appetizers</td>\n",
       "      <td>930</td>\n",
       "      <td>0</td>\n",
       "      <td>rgba(142, 140, 153, 0.9)</td>\n",
       "      <td>4</td>\n",
       "    </tr>\n",
       "  </tbody>\n",
       "</table>\n",
       "</div>"
      ],
      "text/plain": [
       "                   source       target counts  source_index  \\\n",
       "0              Appetizers   added_item   2071             4   \n",
       "1        CheckoutActivity  Journey End   1186             6   \n",
       "2  CheckoutViewController  Journey End   2485             3   \n",
       "3                    Menu   added_item   5271             1   \n",
       "4              added_item   Appetizers    930             0   \n",
       "\n",
       "                      color  target_index  \n",
       "0   rgba(244, 14, 164, 0.9)             0  \n",
       "1  rgba(255, 177, 255, 0.9)             2  \n",
       "2   rgba(128, 68, 123, 0.9)             2  \n",
       "3    rgba(53, 41, 127, 0.9)             0  \n",
       "4  rgba(142, 140, 153, 0.9)             4  "
      ]
     },
     "execution_count": 13,
     "metadata": {},
     "output_type": "execute_result"
    }
   ],
   "source": [
    "df_sankey.head()"
   ]
  },
  {
   "cell_type": "code",
   "execution_count": 23,
   "id": "49eaa08a",
   "metadata": {},
   "outputs": [
    {
     "data": {
      "application/vnd.plotly.v1+json": {
       "config": {
        "plotlyServerURL": "https://plot.ly"
       },
       "data": [
        {
         "arrangement": "freeform",
         "link": {
          "color": [
           "rgba(255, 177, 255, 0.3)",
           "rgba(255, 177, 255, 0.3)",
           "rgba(255, 177, 255, 0.3)",
           "rgba(255, 177, 255, 0.3)",
           "rgba(142, 231, 255, 0.3)",
           "rgba(128, 68, 123, 0.3)",
           "rgba(53, 41, 127, 0.3)",
           "rgba(111, 28, 103, 0.3)",
           "rgba(111, 28, 103, 0.3)",
           "rgba(248, 97, 195, 0.3)",
           "rgba(45, 27, 181, 0.3)",
           "rgba(45, 27, 181, 0.3)",
           "rgba(45, 27, 181, 0.3)",
           "rgba(45, 27, 181, 0.3)",
           "rgba(25, 126, 178, 0.3)",
           "rgba(25, 126, 178, 0.3)",
           "rgba(25, 126, 178, 0.3)",
           "rgba(25, 126, 178, 0.3)",
           "rgba(25, 126, 178, 0.3)",
           "rgba(142, 140, 153, 0.3)",
           "rgba(142, 140, 153, 0.3)",
           "rgba(142, 140, 153, 0.3)",
           "rgba(142, 140, 153, 0.3)",
           "rgba(142, 140, 153, 0.3)",
           "rgba(142, 140, 153, 0.3)",
           "rgba(142, 140, 153, 0.3)",
           "rgba(142, 140, 153, 0.3)",
           "rgba(142, 140, 153, 0.3)",
           "rgba(142, 140, 153, 0.3)",
           "rgba(142, 140, 153, 0.3)",
           "rgba(244, 14, 164, 0.3)",
           "rgba(244, 14, 164, 0.3)",
           "rgba(244, 14, 164, 0.3)",
           "rgba(244, 14, 164, 0.3)",
           "rgba(244, 14, 164, 0.3)",
           "rgba(244, 14, 164, 0.3)"
          ],
          "source": [
           6,
           6,
           6,
           6,
           5,
           3,
           11,
           9,
           9,
           8,
           2,
           2,
           2,
           12,
           7,
           7,
           7,
           7,
           7,
           10,
           0,
           0,
           0,
           0,
           0,
           0,
           0,
           0,
           0,
           0,
           4,
           4,
           4,
           4,
           4,
           4
          ],
          "target": [
           5,
           3,
           2,
           0,
           1,
           1,
           0,
           3,
           0,
           0,
           6,
           3,
           0,
           0,
           6,
           3,
           2,
           0,
           4,
           0,
           6,
           5,
           3,
           11,
           9,
           8,
           2,
           12,
           10,
           4,
           6,
           11,
           8,
           2,
           7,
           0
          ],
          "value": [
           25,
           92,
           197,
           4641,
           5185,
           11637,
           346,
           25,
           499,
           540,
           226,
           126,
           11296,
           31,
           55,
           1058,
           185,
           48,
           276,
           377,
           1651,
           4547,
           10006,
           211,
           493,
           259,
           3396,
           31,
           377,
           29,
           1202,
           53,
           177,
           3019,
           33,
           1243
          ]
         },
         "node": {
          "color": [
           "rgba(142, 140, 153, 0.9)",
           "rgba(53, 41, 127, 0.9)",
           "rgba(45, 27, 181, 0.9)",
           "rgba(128, 68, 123, 0.9)",
           "rgba(244, 14, 164, 0.9)",
           "rgba(142, 231, 255, 0.9)",
           "rgba(255, 177, 255, 0.9)",
           "rgba(25, 126, 178, 0.9)",
           "rgba(248, 97, 195, 0.9)",
           "rgba(111, 28, 103, 0.9)",
           "rgba(142, 140, 153, 0.9)",
           "rgba(53, 41, 127, 0.9)",
           "rgba(45, 27, 181, 0.9)"
          ],
          "label": [
           "added_item",
           "Journey End",
           "Menu",
           "CheckoutViewController",
           "viewed_favourite_store",
           "CheckoutActivity",
           "Appetizers",
           "Quick_Reorder",
           "Kids Menu",
           "Drinks",
           "Sauces & Sides",
           "Dessert",
           "Menu Extras"
          ],
          "line": {
           "color": "gray",
           "width": 0
          },
          "pad": 30,
          "thickness": 20
         },
         "type": "sankey",
         "valueformat": ".0f"
        }
       ],
       "layout": {
        "template": {
         "data": {
          "bar": [
           {
            "error_x": {
             "color": "#2a3f5f"
            },
            "error_y": {
             "color": "#2a3f5f"
            },
            "marker": {
             "line": {
              "color": "#E5ECF6",
              "width": 0.5
             },
             "pattern": {
              "fillmode": "overlay",
              "size": 10,
              "solidity": 0.2
             }
            },
            "type": "bar"
           }
          ],
          "barpolar": [
           {
            "marker": {
             "line": {
              "color": "#E5ECF6",
              "width": 0.5
             },
             "pattern": {
              "fillmode": "overlay",
              "size": 10,
              "solidity": 0.2
             }
            },
            "type": "barpolar"
           }
          ],
          "carpet": [
           {
            "aaxis": {
             "endlinecolor": "#2a3f5f",
             "gridcolor": "white",
             "linecolor": "white",
             "minorgridcolor": "white",
             "startlinecolor": "#2a3f5f"
            },
            "baxis": {
             "endlinecolor": "#2a3f5f",
             "gridcolor": "white",
             "linecolor": "white",
             "minorgridcolor": "white",
             "startlinecolor": "#2a3f5f"
            },
            "type": "carpet"
           }
          ],
          "choropleth": [
           {
            "colorbar": {
             "outlinewidth": 0,
             "ticks": ""
            },
            "type": "choropleth"
           }
          ],
          "contour": [
           {
            "colorbar": {
             "outlinewidth": 0,
             "ticks": ""
            },
            "colorscale": [
             [
              0,
              "#0d0887"
             ],
             [
              0.1111111111111111,
              "#46039f"
             ],
             [
              0.2222222222222222,
              "#7201a8"
             ],
             [
              0.3333333333333333,
              "#9c179e"
             ],
             [
              0.4444444444444444,
              "#bd3786"
             ],
             [
              0.5555555555555556,
              "#d8576b"
             ],
             [
              0.6666666666666666,
              "#ed7953"
             ],
             [
              0.7777777777777778,
              "#fb9f3a"
             ],
             [
              0.8888888888888888,
              "#fdca26"
             ],
             [
              1,
              "#f0f921"
             ]
            ],
            "type": "contour"
           }
          ],
          "contourcarpet": [
           {
            "colorbar": {
             "outlinewidth": 0,
             "ticks": ""
            },
            "type": "contourcarpet"
           }
          ],
          "heatmap": [
           {
            "colorbar": {
             "outlinewidth": 0,
             "ticks": ""
            },
            "colorscale": [
             [
              0,
              "#0d0887"
             ],
             [
              0.1111111111111111,
              "#46039f"
             ],
             [
              0.2222222222222222,
              "#7201a8"
             ],
             [
              0.3333333333333333,
              "#9c179e"
             ],
             [
              0.4444444444444444,
              "#bd3786"
             ],
             [
              0.5555555555555556,
              "#d8576b"
             ],
             [
              0.6666666666666666,
              "#ed7953"
             ],
             [
              0.7777777777777778,
              "#fb9f3a"
             ],
             [
              0.8888888888888888,
              "#fdca26"
             ],
             [
              1,
              "#f0f921"
             ]
            ],
            "type": "heatmap"
           }
          ],
          "heatmapgl": [
           {
            "colorbar": {
             "outlinewidth": 0,
             "ticks": ""
            },
            "colorscale": [
             [
              0,
              "#0d0887"
             ],
             [
              0.1111111111111111,
              "#46039f"
             ],
             [
              0.2222222222222222,
              "#7201a8"
             ],
             [
              0.3333333333333333,
              "#9c179e"
             ],
             [
              0.4444444444444444,
              "#bd3786"
             ],
             [
              0.5555555555555556,
              "#d8576b"
             ],
             [
              0.6666666666666666,
              "#ed7953"
             ],
             [
              0.7777777777777778,
              "#fb9f3a"
             ],
             [
              0.8888888888888888,
              "#fdca26"
             ],
             [
              1,
              "#f0f921"
             ]
            ],
            "type": "heatmapgl"
           }
          ],
          "histogram": [
           {
            "marker": {
             "pattern": {
              "fillmode": "overlay",
              "size": 10,
              "solidity": 0.2
             }
            },
            "type": "histogram"
           }
          ],
          "histogram2d": [
           {
            "colorbar": {
             "outlinewidth": 0,
             "ticks": ""
            },
            "colorscale": [
             [
              0,
              "#0d0887"
             ],
             [
              0.1111111111111111,
              "#46039f"
             ],
             [
              0.2222222222222222,
              "#7201a8"
             ],
             [
              0.3333333333333333,
              "#9c179e"
             ],
             [
              0.4444444444444444,
              "#bd3786"
             ],
             [
              0.5555555555555556,
              "#d8576b"
             ],
             [
              0.6666666666666666,
              "#ed7953"
             ],
             [
              0.7777777777777778,
              "#fb9f3a"
             ],
             [
              0.8888888888888888,
              "#fdca26"
             ],
             [
              1,
              "#f0f921"
             ]
            ],
            "type": "histogram2d"
           }
          ],
          "histogram2dcontour": [
           {
            "colorbar": {
             "outlinewidth": 0,
             "ticks": ""
            },
            "colorscale": [
             [
              0,
              "#0d0887"
             ],
             [
              0.1111111111111111,
              "#46039f"
             ],
             [
              0.2222222222222222,
              "#7201a8"
             ],
             [
              0.3333333333333333,
              "#9c179e"
             ],
             [
              0.4444444444444444,
              "#bd3786"
             ],
             [
              0.5555555555555556,
              "#d8576b"
             ],
             [
              0.6666666666666666,
              "#ed7953"
             ],
             [
              0.7777777777777778,
              "#fb9f3a"
             ],
             [
              0.8888888888888888,
              "#fdca26"
             ],
             [
              1,
              "#f0f921"
             ]
            ],
            "type": "histogram2dcontour"
           }
          ],
          "mesh3d": [
           {
            "colorbar": {
             "outlinewidth": 0,
             "ticks": ""
            },
            "type": "mesh3d"
           }
          ],
          "parcoords": [
           {
            "line": {
             "colorbar": {
              "outlinewidth": 0,
              "ticks": ""
             }
            },
            "type": "parcoords"
           }
          ],
          "pie": [
           {
            "automargin": true,
            "type": "pie"
           }
          ],
          "scatter": [
           {
            "fillpattern": {
             "fillmode": "overlay",
             "size": 10,
             "solidity": 0.2
            },
            "type": "scatter"
           }
          ],
          "scatter3d": [
           {
            "line": {
             "colorbar": {
              "outlinewidth": 0,
              "ticks": ""
             }
            },
            "marker": {
             "colorbar": {
              "outlinewidth": 0,
              "ticks": ""
             }
            },
            "type": "scatter3d"
           }
          ],
          "scattercarpet": [
           {
            "marker": {
             "colorbar": {
              "outlinewidth": 0,
              "ticks": ""
             }
            },
            "type": "scattercarpet"
           }
          ],
          "scattergeo": [
           {
            "marker": {
             "colorbar": {
              "outlinewidth": 0,
              "ticks": ""
             }
            },
            "type": "scattergeo"
           }
          ],
          "scattergl": [
           {
            "marker": {
             "colorbar": {
              "outlinewidth": 0,
              "ticks": ""
             }
            },
            "type": "scattergl"
           }
          ],
          "scattermapbox": [
           {
            "marker": {
             "colorbar": {
              "outlinewidth": 0,
              "ticks": ""
             }
            },
            "type": "scattermapbox"
           }
          ],
          "scatterpolar": [
           {
            "marker": {
             "colorbar": {
              "outlinewidth": 0,
              "ticks": ""
             }
            },
            "type": "scatterpolar"
           }
          ],
          "scatterpolargl": [
           {
            "marker": {
             "colorbar": {
              "outlinewidth": 0,
              "ticks": ""
             }
            },
            "type": "scatterpolargl"
           }
          ],
          "scatterternary": [
           {
            "marker": {
             "colorbar": {
              "outlinewidth": 0,
              "ticks": ""
             }
            },
            "type": "scatterternary"
           }
          ],
          "surface": [
           {
            "colorbar": {
             "outlinewidth": 0,
             "ticks": ""
            },
            "colorscale": [
             [
              0,
              "#0d0887"
             ],
             [
              0.1111111111111111,
              "#46039f"
             ],
             [
              0.2222222222222222,
              "#7201a8"
             ],
             [
              0.3333333333333333,
              "#9c179e"
             ],
             [
              0.4444444444444444,
              "#bd3786"
             ],
             [
              0.5555555555555556,
              "#d8576b"
             ],
             [
              0.6666666666666666,
              "#ed7953"
             ],
             [
              0.7777777777777778,
              "#fb9f3a"
             ],
             [
              0.8888888888888888,
              "#fdca26"
             ],
             [
              1,
              "#f0f921"
             ]
            ],
            "type": "surface"
           }
          ],
          "table": [
           {
            "cells": {
             "fill": {
              "color": "#EBF0F8"
             },
             "line": {
              "color": "white"
             }
            },
            "header": {
             "fill": {
              "color": "#C8D4E3"
             },
             "line": {
              "color": "white"
             }
            },
            "type": "table"
           }
          ]
         },
         "layout": {
          "annotationdefaults": {
           "arrowcolor": "#2a3f5f",
           "arrowhead": 0,
           "arrowwidth": 1
          },
          "autotypenumbers": "strict",
          "coloraxis": {
           "colorbar": {
            "outlinewidth": 0,
            "ticks": ""
           }
          },
          "colorscale": {
           "diverging": [
            [
             0,
             "#8e0152"
            ],
            [
             0.1,
             "#c51b7d"
            ],
            [
             0.2,
             "#de77ae"
            ],
            [
             0.3,
             "#f1b6da"
            ],
            [
             0.4,
             "#fde0ef"
            ],
            [
             0.5,
             "#f7f7f7"
            ],
            [
             0.6,
             "#e6f5d0"
            ],
            [
             0.7,
             "#b8e186"
            ],
            [
             0.8,
             "#7fbc41"
            ],
            [
             0.9,
             "#4d9221"
            ],
            [
             1,
             "#276419"
            ]
           ],
           "sequential": [
            [
             0,
             "#0d0887"
            ],
            [
             0.1111111111111111,
             "#46039f"
            ],
            [
             0.2222222222222222,
             "#7201a8"
            ],
            [
             0.3333333333333333,
             "#9c179e"
            ],
            [
             0.4444444444444444,
             "#bd3786"
            ],
            [
             0.5555555555555556,
             "#d8576b"
            ],
            [
             0.6666666666666666,
             "#ed7953"
            ],
            [
             0.7777777777777778,
             "#fb9f3a"
            ],
            [
             0.8888888888888888,
             "#fdca26"
            ],
            [
             1,
             "#f0f921"
            ]
           ],
           "sequentialminus": [
            [
             0,
             "#0d0887"
            ],
            [
             0.1111111111111111,
             "#46039f"
            ],
            [
             0.2222222222222222,
             "#7201a8"
            ],
            [
             0.3333333333333333,
             "#9c179e"
            ],
            [
             0.4444444444444444,
             "#bd3786"
            ],
            [
             0.5555555555555556,
             "#d8576b"
            ],
            [
             0.6666666666666666,
             "#ed7953"
            ],
            [
             0.7777777777777778,
             "#fb9f3a"
            ],
            [
             0.8888888888888888,
             "#fdca26"
            ],
            [
             1,
             "#f0f921"
            ]
           ]
          },
          "colorway": [
           "#636efa",
           "#EF553B",
           "#00cc96",
           "#ab63fa",
           "#FFA15A",
           "#19d3f3",
           "#FF6692",
           "#B6E880",
           "#FF97FF",
           "#FECB52"
          ],
          "font": {
           "color": "#2a3f5f"
          },
          "geo": {
           "bgcolor": "white",
           "lakecolor": "white",
           "landcolor": "#E5ECF6",
           "showlakes": true,
           "showland": true,
           "subunitcolor": "white"
          },
          "hoverlabel": {
           "align": "left"
          },
          "hovermode": "closest",
          "mapbox": {
           "style": "light"
          },
          "paper_bgcolor": "white",
          "plot_bgcolor": "#E5ECF6",
          "polar": {
           "angularaxis": {
            "gridcolor": "white",
            "linecolor": "white",
            "ticks": ""
           },
           "bgcolor": "#E5ECF6",
           "radialaxis": {
            "gridcolor": "white",
            "linecolor": "white",
            "ticks": ""
           }
          },
          "scene": {
           "xaxis": {
            "backgroundcolor": "#E5ECF6",
            "gridcolor": "white",
            "gridwidth": 2,
            "linecolor": "white",
            "showbackground": true,
            "ticks": "",
            "zerolinecolor": "white"
           },
           "yaxis": {
            "backgroundcolor": "#E5ECF6",
            "gridcolor": "white",
            "gridwidth": 2,
            "linecolor": "white",
            "showbackground": true,
            "ticks": "",
            "zerolinecolor": "white"
           },
           "zaxis": {
            "backgroundcolor": "#E5ECF6",
            "gridcolor": "white",
            "gridwidth": 2,
            "linecolor": "white",
            "showbackground": true,
            "ticks": "",
            "zerolinecolor": "white"
           }
          },
          "shapedefaults": {
           "line": {
            "color": "#2a3f5f"
           }
          },
          "ternary": {
           "aaxis": {
            "gridcolor": "white",
            "linecolor": "white",
            "ticks": ""
           },
           "baxis": {
            "gridcolor": "white",
            "linecolor": "white",
            "ticks": ""
           },
           "bgcolor": "#E5ECF6",
           "caxis": {
            "gridcolor": "white",
            "linecolor": "white",
            "ticks": ""
           }
          },
          "title": {
           "x": 0.05
          },
          "xaxis": {
           "automargin": true,
           "gridcolor": "white",
           "linecolor": "white",
           "ticks": "",
           "title": {
            "standoff": 15
           },
           "zerolinecolor": "white",
           "zerolinewidth": 2
          },
          "yaxis": {
           "automargin": true,
           "gridcolor": "white",
           "linecolor": "white",
           "ticks": "",
           "title": {
            "standoff": 15
           },
           "zerolinecolor": "white",
           "zerolinewidth": 2
          }
         }
        }
       }
      }
     },
     "metadata": {},
     "output_type": "display_data"
    }
   ],
   "source": [
    "ga4_user_pathing.display_sankey(df_sankey, df_index, count_field=COUNT_FIELD, link_opacity=.3)"
   ]
  },
  {
   "cell_type": "code",
   "execution_count": null,
   "id": "e33a5c29",
   "metadata": {},
   "outputs": [],
   "source": []
  }
 ],
 "metadata": {
  "kernelspec": {
   "display_name": "Python 3.10.6 ('AB_env')",
   "language": "python",
   "name": "python3"
  },
  "language_info": {
   "codemirror_mode": {
    "name": "ipython",
    "version": 3
   },
   "file_extension": ".py",
   "mimetype": "text/x-python",
   "name": "python",
   "nbconvert_exporter": "python",
   "pygments_lexer": "ipython3",
   "version": "3.10.6"
  },
  "vscode": {
   "interpreter": {
    "hash": "1715eaea815ea25ab3b4a92e6654dade22b28061a52cf2c7cf8726228fe01ed8"
   }
  }
 },
 "nbformat": 4,
 "nbformat_minor": 5
}
